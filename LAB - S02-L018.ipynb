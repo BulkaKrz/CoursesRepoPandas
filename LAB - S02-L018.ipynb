{
 "cells": [
  {
   "cell_type": "markdown",
   "id": "e2f195e4",
   "metadata": {},
   "source": [
    "### LAB - S02-L018 - Metoda map\n",
    "1. Zaimportuj moduł pandas i nadaj mu standardowy alias. Zaimportuj też moduł random i nadaj mu alias rd.\n",
    "2. Pracujesz dla linii lotniczych PYTHON Express (wszelkie podobieństwa do innych linii lotniczych są przypadkowe). \n",
    "    \n",
    "    Ta linia lotnicza posiada obecnie tylko 3 samoloty:\n",
    "    - symbol PYT001 - Airbus 320\n",
    "    - symbol PYT002 - Boeing 737\n",
    "    - symbol PYT003 - Airbus 321\n",
    "\n",
    "    Zadeklaruj słownik, którego indeksami są w/w symbole, a wartościami nazwy samolotów.\n",
    "    \n",
    "3. Utwórz serię aircrafts w oparciu o dane z w/w słownika\n",
    "4. Teraz wygenerujemy losową listę przelotów. Zadeklaruj pustą listę flightsList. Korzystając z pętli for, dodaj do listy 100 losowych wartości pochodzących z indeksu serii aircrafts (elementy na tej liście powinny być symbolami samolotów). Wyświetl 5 pierwszych wartości z tej listy. (Ponieważ korzystamy z funkcji losowych wyniki mogą się różnić).\n",
    "5. W oparciu o listę flightsList, utwórz serię o nazwie flights. Wyświetl pięć pierwszych pozycji z listy.\n",
    "6. Lista 100 lotów zawiera obecnie losowe przeloty, coś w stylu 0 - PYT002 / 1 - PYT003 / 2 - PYT002 /... My jednak chcielibyśmy zobaczyć listę z nazwami samolotów! Utwórz nową listę o nazwie flights_aircrafts, która będzie zawierała informacje o lotach, ale w kolumnie wartości zamist symbolu samolotu ma się pojawić jego nazwa. Wyświetl z tej listy 5 pierwszych pozycji."
   ]
  },
  {
   "cell_type": "code",
   "execution_count": 1,
   "id": "55ccbe00",
   "metadata": {},
   "outputs": [],
   "source": [
    "import pandas as pd\n",
    "import random as rd"
   ]
  },
  {
   "cell_type": "code",
   "execution_count": 2,
   "id": "6c7cd514",
   "metadata": {},
   "outputs": [],
   "source": [
    "aircraftsDict = { 'PYT001':'Airbus 320',\n",
    "'PYT002':'Boeing 737',\n",
    "'PYT003':'Airbus 321'}"
   ]
  },
  {
   "cell_type": "code",
   "execution_count": 3,
   "id": "d6088a28",
   "metadata": {},
   "outputs": [
    {
     "data": {
      "text/plain": [
       "PYT001    Airbus 320\n",
       "PYT002    Boeing 737\n",
       "PYT003    Airbus 321\n",
       "dtype: object"
      ]
     },
     "execution_count": 3,
     "metadata": {},
     "output_type": "execute_result"
    }
   ],
   "source": [
    "aircrafts = pd.Series(aircraftsDict)\n",
    "aircrafts"
   ]
  },
  {
   "cell_type": "code",
   "execution_count": 4,
   "id": "0682c3f8",
   "metadata": {},
   "outputs": [],
   "source": [
    "flightsList =[]"
   ]
  },
  {
   "cell_type": "code",
   "execution_count": 6,
   "id": "1a96f2ab",
   "metadata": {},
   "outputs": [
    {
     "data": {
      "text/plain": [
       "Index(['PYT001', 'PYT002', 'PYT003'], dtype='object')"
      ]
     },
     "execution_count": 6,
     "metadata": {},
     "output_type": "execute_result"
    }
   ],
   "source": [
    "aircrafts.index"
   ]
  },
  {
   "cell_type": "code",
   "execution_count": 7,
   "id": "923d6804",
   "metadata": {},
   "outputs": [
    {
     "name": "stdout",
     "output_type": "stream",
     "text": [
      "PYT003\n"
     ]
    }
   ],
   "source": [
    "print(rd.choice(aircrafts.index))"
   ]
  },
  {
   "cell_type": "code",
   "execution_count": 13,
   "id": "f95afc86",
   "metadata": {},
   "outputs": [],
   "source": [
    "for i in range(100):\n",
    "    flightsList.append(rd.choice(aircrafts.index))"
   ]
  },
  {
   "cell_type": "code",
   "execution_count": 14,
   "id": "d5dd924f",
   "metadata": {},
   "outputs": [
    {
     "data": {
      "text/plain": [
       "['PYT001', 'PYT002', 'PYT002', 'PYT002', 'PYT002']"
      ]
     },
     "execution_count": 14,
     "metadata": {},
     "output_type": "execute_result"
    }
   ],
   "source": [
    "flightsList[:5]"
   ]
  },
  {
   "cell_type": "code",
   "execution_count": 15,
   "id": "4838c624",
   "metadata": {},
   "outputs": [],
   "source": [
    "flights = pd.Series(flightsList)"
   ]
  },
  {
   "cell_type": "code",
   "execution_count": 16,
   "id": "87342ed6",
   "metadata": {},
   "outputs": [
    {
     "data": {
      "text/plain": [
       "0    PYT001\n",
       "1    PYT002\n",
       "2    PYT002\n",
       "3    PYT002\n",
       "4    PYT002\n",
       "dtype: object"
      ]
     },
     "execution_count": 16,
     "metadata": {},
     "output_type": "execute_result"
    }
   ],
   "source": [
    "flights.head()"
   ]
  },
  {
   "cell_type": "code",
   "execution_count": 17,
   "id": "80ed99b4",
   "metadata": {},
   "outputs": [],
   "source": [
    "flights_aircrafts = flights.map(aircrafts)"
   ]
  },
  {
   "cell_type": "code",
   "execution_count": 19,
   "id": "0a2a9ddc",
   "metadata": {},
   "outputs": [
    {
     "data": {
      "text/plain": [
       "0    Airbus 320\n",
       "1    Boeing 737\n",
       "2    Boeing 737\n",
       "3    Boeing 737\n",
       "4    Boeing 737\n",
       "dtype: object"
      ]
     },
     "execution_count": 19,
     "metadata": {},
     "output_type": "execute_result"
    }
   ],
   "source": [
    "flights_aircrafts.head()"
   ]
  },
  {
   "cell_type": "code",
   "execution_count": null,
   "id": "63352bbe",
   "metadata": {},
   "outputs": [],
   "source": []
  }
 ],
 "metadata": {
  "kernelspec": {
   "display_name": "Python 3 (ipykernel)",
   "language": "python",
   "name": "python3"
  },
  "language_info": {
   "codemirror_mode": {
    "name": "ipython",
    "version": 3
   },
   "file_extension": ".py",
   "mimetype": "text/x-python",
   "name": "python",
   "nbconvert_exporter": "python",
   "pygments_lexer": "ipython3",
   "version": "3.9.12"
  }
 },
 "nbformat": 4,
 "nbformat_minor": 5
}
