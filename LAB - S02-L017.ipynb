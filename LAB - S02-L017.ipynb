{
 "cells": [
  {
   "cell_type": "markdown",
   "id": "c8c0af5d",
   "metadata": {},
   "source": [
    "### LAB - S02-L017 - Modyfikacja serii danych\n",
    "1. Zaimportuj moduł pandas i nadaj mu standardowy alias. Do zmiennej surveys zapiszdata series pobierając wartości z pliku StackOverflowDeveloperSurvey.csv kolumnęSalary. Ponieważ nie wszyscy ankietowani podali wysokość swojej pensji, usuń te wpisy,które są puste (skorzystaj z metody dropna() bez żadnych dodatkowych argumentów).Wyświetl pięć pierwszych pozycji tej serii.\n",
    "2. Interesuje Cię ile osób podało wysokość swojej wypłaty? Wyświetl informację od ilościelementów w serii surveys\n",
    "3. Symulujemy podwyżkę pensji o 3%. Utwórz nową serię surveysIncrease, której wartością będą kwoty z serii surveys pomnożone przez 0.03. Wyświetl nagłówek nowejserii.\n",
    "4. Utwórz nową serię surveysAfterIncrease, której wartością będzie suma surveys i surveysIncrease. Wyświetl nagłówek.\n",
    "5. Zmieniamy trochę temat. Do zmiennej surveysTime wczytaj kolumnę HoursOutside zpliku StackOverflowDeveloperSurvey2018.csv. Ponieważ plik jest duży, dodaj parametrlow_memory=False. Również skorzystaj z metody dropna(), aby wyeliminować pustewartości. Wyświetl nagłówek.\n",
    "6. Interesuje Cię ile czasu programiści spędzają na \"świeżym powietrzu\"? Uruchom na rzeczsurveysTime metodę, która dla każdej unikalnej pozycji z serii wyświetli ile razy tapozycja występowała w serii. Do której grupy należysz ;) ?\n",
    "7. Po zaimportowaniu danych, można je normalizować. Zmień wielkość liter na małe w całejserii surveysTime. Zmiany mają rzeczywiście być zapisane w surveysTime. Wyświetlnagłówek.\n",
    "8. Zmieniamy zdanie. Chcemy, aby teksty były zapisane wielkimi literami. Tym razemwykorzystaj do tego wyrażenie lambda. Zmiany znowu maja być zapisane dosurveysTime. Wyświetl nagłówek.\n",
    "9. Napisz funkcję ChangeDescription, która jako argument przyjmie napis. Jeżeli w tejzmiennej znajduje się tekst **'LESS THAN 30 MINUTES'** to zwróć **'LESS THAN HALFHOUR'**, a w przeciwnym razie zwróć oryginalną wartość przekazaną w argumencie.\n",
    "10. Przetestuj funkcję przekazując do niej różne napisy.\n",
    "11. Zastosuj funkcję ChangeDescription do serii surveysTime. Wyświetl nagłówek12. Wyciągnij wniosek na temat \"wychodzenia na świeże powietrze"
   ]
  },
  {
   "cell_type": "code",
   "execution_count": 1,
   "id": "ec7825d3",
   "metadata": {},
   "outputs": [],
   "source": [
    "import pandas as pd"
   ]
  },
  {
   "cell_type": "code",
   "execution_count": 2,
   "id": "76fecc56",
   "metadata": {},
   "outputs": [],
   "source": [
    "surveys = pd.read_csv(r'D:\\Udemy\\PYTHON_scripts\\course-files\\StackOverflowDeveloperSurvey.csv', usecols=['Salary']).dropna().squeeze()"
   ]
  },
  {
   "cell_type": "code",
   "execution_count": 3,
   "id": "f36c1246",
   "metadata": {},
   "outputs": [
    {
     "data": {
      "text/plain": [
       "2     113750.0\n",
       "14    100000.0\n",
       "17    130000.0\n",
       "18     82500.0\n",
       "22    100764.0\n",
       "Name: Salary, dtype: float64"
      ]
     },
     "execution_count": 3,
     "metadata": {},
     "output_type": "execute_result"
    }
   ],
   "source": [
    "surveys.head()"
   ]
  },
  {
   "cell_type": "code",
   "execution_count": 4,
   "id": "a56e0ea4",
   "metadata": {},
   "outputs": [
    {
     "data": {
      "text/plain": [
       "12891"
      ]
     },
     "execution_count": 4,
     "metadata": {},
     "output_type": "execute_result"
    }
   ],
   "source": [
    "len(surveys)"
   ]
  },
  {
   "cell_type": "code",
   "execution_count": 5,
   "id": "6674efdd",
   "metadata": {},
   "outputs": [
    {
     "data": {
      "text/plain": [
       "12891"
      ]
     },
     "execution_count": 5,
     "metadata": {},
     "output_type": "execute_result"
    }
   ],
   "source": [
    "surveys.count()"
   ]
  },
  {
   "cell_type": "code",
   "execution_count": 6,
   "id": "bee43859",
   "metadata": {},
   "outputs": [],
   "source": [
    "surveysIncrease = surveys * 0.03"
   ]
  },
  {
   "cell_type": "code",
   "execution_count": 7,
   "id": "41106b38",
   "metadata": {},
   "outputs": [
    {
     "data": {
      "text/plain": [
       "2     3412.50\n",
       "14    3000.00\n",
       "17    3900.00\n",
       "18    2475.00\n",
       "22    3022.92\n",
       "Name: Salary, dtype: float64"
      ]
     },
     "execution_count": 7,
     "metadata": {},
     "output_type": "execute_result"
    }
   ],
   "source": [
    "surveysIncrease.head()"
   ]
  },
  {
   "cell_type": "code",
   "execution_count": 8,
   "id": "f3ec8d40",
   "metadata": {},
   "outputs": [],
   "source": [
    "surveysAfterIncrease = surveys + surveysIncrease"
   ]
  },
  {
   "cell_type": "code",
   "execution_count": 9,
   "id": "24152c05",
   "metadata": {},
   "outputs": [
    {
     "data": {
      "text/plain": [
       "2     117162.50\n",
       "14    103000.00\n",
       "17    133900.00\n",
       "18     84975.00\n",
       "22    103786.92\n",
       "Name: Salary, dtype: float64"
      ]
     },
     "execution_count": 9,
     "metadata": {},
     "output_type": "execute_result"
    }
   ],
   "source": [
    "surveysAfterIncrease.head()"
   ]
  },
  {
   "cell_type": "code",
   "execution_count": 11,
   "id": "24fcdeea",
   "metadata": {},
   "outputs": [],
   "source": [
    "surveysTime = pd.read_csv(r'D:\\Udemy\\PYTHON_scripts\\course-files\\StackOverflowDeveloperSurvey2018.csv', low_memory=False, usecols=['HoursOutside']).dropna().squeeze()"
   ]
  },
  {
   "cell_type": "code",
   "execution_count": 12,
   "id": "41ae8eb4",
   "metadata": {},
   "outputs": [
    {
     "data": {
      "text/plain": [
       "0             1 - 2 hours\n",
       "1         30 - 59 minutes\n",
       "3    Less than 30 minutes\n",
       "4             1 - 2 hours\n",
       "5         30 - 59 minutes\n",
       "Name: HoursOutside, dtype: object"
      ]
     },
     "execution_count": 12,
     "metadata": {},
     "output_type": "execute_result"
    }
   ],
   "source": [
    "surveysTime.head()"
   ]
  },
  {
   "cell_type": "code",
   "execution_count": 13,
   "id": "af279426",
   "metadata": {},
   "outputs": [
    {
     "data": {
      "text/plain": [
       "1 - 2 hours             27788\n",
       "30 - 59 minutes         24002\n",
       "Less than 30 minutes    11223\n",
       "3 - 4 hours              7186\n",
       "Over 4 hours             1825\n",
       "Name: HoursOutside, dtype: int64"
      ]
     },
     "execution_count": 13,
     "metadata": {},
     "output_type": "execute_result"
    }
   ],
   "source": [
    "surveysTime.value_counts()"
   ]
  },
  {
   "cell_type": "code",
   "execution_count": 17,
   "id": "144cc92f",
   "metadata": {},
   "outputs": [
    {
     "data": {
      "text/plain": [
       "0              1 - 2 hours\n",
       "1          30 - 59 minutes\n",
       "3     less than 30 minutes\n",
       "4              1 - 2 hours\n",
       "5          30 - 59 minutes\n",
       "6     less than 30 minutes\n",
       "7              1 - 2 hours\n",
       "8     less than 30 minutes\n",
       "13             1 - 2 hours\n",
       "14             1 - 2 hours\n",
       "Name: HoursOutside, dtype: object"
      ]
     },
     "execution_count": 17,
     "metadata": {},
     "output_type": "execute_result"
    }
   ],
   "source": [
    "surveysTime = surveysTime.str.lower()\n",
    "surveysTime.head(10)"
   ]
  },
  {
   "cell_type": "code",
   "execution_count": 18,
   "id": "fa652356",
   "metadata": {},
   "outputs": [
    {
     "data": {
      "text/plain": [
       "0             1 - 2 HOURS\n",
       "1         30 - 59 MINUTES\n",
       "3    LESS THAN 30 MINUTES\n",
       "4             1 - 2 HOURS\n",
       "5         30 - 59 MINUTES\n",
       "Name: HoursOutside, dtype: object"
      ]
     },
     "execution_count": 18,
     "metadata": {},
     "output_type": "execute_result"
    }
   ],
   "source": [
    "surveysTime = surveysTime.apply(lambda x: x.upper())\n",
    "surveysTime.head()"
   ]
  },
  {
   "cell_type": "code",
   "execution_count": 19,
   "id": "ab53c290",
   "metadata": {},
   "outputs": [],
   "source": [
    "def ChangeDescription(desc):\n",
    "    if desc == 'LESS THAN 30 MINUTES':\n",
    "        return 'LESS THAN HALF HOUR'\n",
    "    else:\n",
    "        return desc"
   ]
  },
  {
   "cell_type": "code",
   "execution_count": 21,
   "id": "0d5d48ee",
   "metadata": {},
   "outputs": [
    {
     "data": {
      "text/plain": [
       "0                1 - 2 HOURS\n",
       "1            30 - 59 MINUTES\n",
       "3        LESS THAN HALF HOUR\n",
       "4                1 - 2 HOURS\n",
       "5            30 - 59 MINUTES\n",
       "                ...         \n",
       "93408            1 - 2 HOURS\n",
       "93416            3 - 4 HOURS\n",
       "93435            1 - 2 HOURS\n",
       "93442    LESS THAN HALF HOUR\n",
       "93462            1 - 2 HOURS\n",
       "Name: HoursOutside, Length: 72024, dtype: object"
      ]
     },
     "execution_count": 21,
     "metadata": {},
     "output_type": "execute_result"
    }
   ],
   "source": [
    "surveysTime.apply(ChangeDescription)"
   ]
  },
  {
   "cell_type": "code",
   "execution_count": null,
   "id": "26109b5b",
   "metadata": {},
   "outputs": [],
   "source": []
  }
 ],
 "metadata": {
  "kernelspec": {
   "display_name": "Python 3 (ipykernel)",
   "language": "python",
   "name": "python3"
  },
  "language_info": {
   "codemirror_mode": {
    "name": "ipython",
    "version": 3
   },
   "file_extension": ".py",
   "mimetype": "text/x-python",
   "name": "python",
   "nbconvert_exporter": "python",
   "pygments_lexer": "ipython3",
   "version": "3.9.12"
  }
 },
 "nbformat": 4,
 "nbformat_minor": 5
}
