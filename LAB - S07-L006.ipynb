{
 "cells": [
  {
   "cell_type": "markdown",
   "id": "6acf4cdd",
   "metadata": {},
   "source": [
    "### LAB - S07-L006 - left & right merge\n",
    "1. Zaimportuj moduł pandas i numpy nadaj im standardowe aliasy\n",
    "2. Do zmiennej suppliers zaimportuj zawartość pliku suppliers.csv. Pobierz tylko kolumny SupplierID, CompanyName, City\n",
    "3. Do zmiennej products zaimportuj zawartość pliku products_del_2.csv\". Pobierz tylko kolumny **ProductID, ProductName, SupplierID**\n",
    "4. Należy odnaleźć tych dostawców z suppliers, którzy nie dostarczają żadnych produktów.\n",
    "    W tym celu wykonuj kolejne kroki\n",
    "5. W zmiennej sup_prod zapisz wynik zwykłego złaczenia suppliers i products w oparciu o kolumnę SupplierID. Skorzystaj z parametru indicator.\n",
    "6. Wyświetl liczbę elementów w suppliers, products i sup_prod. Powinieneś uzyskać wyniki: 29/68/68\n",
    "7. W zmiennej sup_prod_left zapisz wynik złączenia typu left z suppliers do products w oparciu o kolumnę SupplierID. Skorzystaj z prarametru indicator\n",
    "8. Wyświetl liczbę elementów w suppliers, products i sup_prod_left. Powinieneś uzyskać wyniki: 29/68/70. Oznacza to, że \"idąc od suppliers do products\", dla 2 dostawców nie udało się znaleźć żadnych produktów, które byłyby przez nich dostarczane.\n",
    "9. Wyświetl te wiersze z sup_prod_left, które w kolumnie \"merged posiadają wartość left_only\n",
    "10. Jeżeli chcesz tak przekształć operacje 7-9, aby to samo zadanie zrealizować korzystając z right merge"
   ]
  },
  {
   "cell_type": "code",
   "execution_count": 1,
   "id": "40e41c4c",
   "metadata": {},
   "outputs": [],
   "source": [
    "import pandas as pd\n",
    "import numpy as np"
   ]
  },
  {
   "cell_type": "code",
   "execution_count": 2,
   "id": "30328772",
   "metadata": {},
   "outputs": [],
   "source": [
    "suppliers = pd.read_csv('./course-files/northwind-mongo-master/suppliers.csv', \n",
    "                        usecols=['SupplierID', 'CompanyName', 'City'])"
   ]
  },
  {
   "cell_type": "code",
   "execution_count": 3,
   "id": "d1abb1f3",
   "metadata": {},
   "outputs": [],
   "source": [
    "products = pd.read_csv('./course-files/northwind-mongo-master/products_del_2.csv', \n",
    "                        usecols=['ProductID', 'ProductName', 'SupplierID'])"
   ]
  },
  {
   "cell_type": "code",
   "execution_count": 4,
   "id": "c070825f",
   "metadata": {},
   "outputs": [],
   "source": [
    "sup_prod = suppliers.merge(products, on='SupplierID', indicator=True)"
   ]
  },
  {
   "cell_type": "code",
   "execution_count": 5,
   "id": "6bb0b474",
   "metadata": {},
   "outputs": [
    {
     "name": "stdout",
     "output_type": "stream",
     "text": [
      "29\n",
      "68\n",
      "68\n"
     ]
    }
   ],
   "source": [
    "print(len(suppliers))\n",
    "print(len(products))\n",
    "print(len(sup_prod))"
   ]
  },
  {
   "cell_type": "code",
   "execution_count": 6,
   "id": "739da919",
   "metadata": {},
   "outputs": [],
   "source": [
    "sup_prod_left = suppliers.merge(products, how='left', on='SupplierID', indicator=True,)"
   ]
  },
  {
   "cell_type": "code",
   "execution_count": 7,
   "id": "30491a64",
   "metadata": {},
   "outputs": [
    {
     "name": "stdout",
     "output_type": "stream",
     "text": [
      "29\n",
      "68\n",
      "70\n"
     ]
    }
   ],
   "source": [
    "print(len(suppliers))\n",
    "print(len(products))\n",
    "print(len(sup_prod_left))"
   ]
  },
  {
   "cell_type": "code",
   "execution_count": 12,
   "id": "6e9e11c2",
   "metadata": {},
   "outputs": [],
   "source": [
    "filter = sup_prod_left['_merge'] == 'left_only'"
   ]
  },
  {
   "cell_type": "code",
   "execution_count": 13,
   "id": "98b02db5",
   "metadata": {},
   "outputs": [
    {
     "data": {
      "text/html": [
       "<div>\n",
       "<style scoped>\n",
       "    .dataframe tbody tr th:only-of-type {\n",
       "        vertical-align: middle;\n",
       "    }\n",
       "\n",
       "    .dataframe tbody tr th {\n",
       "        vertical-align: top;\n",
       "    }\n",
       "\n",
       "    .dataframe thead th {\n",
       "        text-align: right;\n",
       "    }\n",
       "</style>\n",
       "<table border=\"1\" class=\"dataframe\">\n",
       "  <thead>\n",
       "    <tr style=\"text-align: right;\">\n",
       "      <th></th>\n",
       "      <th>SupplierID</th>\n",
       "      <th>CompanyName</th>\n",
       "      <th>City</th>\n",
       "      <th>ProductID</th>\n",
       "      <th>ProductName</th>\n",
       "      <th>_merge</th>\n",
       "    </tr>\n",
       "  </thead>\n",
       "  <tbody>\n",
       "    <tr>\n",
       "      <th>2</th>\n",
       "      <td>2</td>\n",
       "      <td>New Orleans Cajun Delights</td>\n",
       "      <td>New Orleans</td>\n",
       "      <td>NaN</td>\n",
       "      <td>NaN</td>\n",
       "      <td>left_only</td>\n",
       "    </tr>\n",
       "    <tr>\n",
       "      <th>67</th>\n",
       "      <td>27</td>\n",
       "      <td>Escargots Nouveaux</td>\n",
       "      <td>Montceau</td>\n",
       "      <td>NaN</td>\n",
       "      <td>NaN</td>\n",
       "      <td>left_only</td>\n",
       "    </tr>\n",
       "  </tbody>\n",
       "</table>\n",
       "</div>"
      ],
      "text/plain": [
       "    SupplierID                 CompanyName         City  ProductID  \\\n",
       "2            2  New Orleans Cajun Delights  New Orleans        NaN   \n",
       "67          27          Escargots Nouveaux     Montceau        NaN   \n",
       "\n",
       "   ProductName     _merge  \n",
       "2          NaN  left_only  \n",
       "67         NaN  left_only  "
      ]
     },
     "execution_count": 13,
     "metadata": {},
     "output_type": "execute_result"
    }
   ],
   "source": [
    "sup_prod_left[filter]"
   ]
  },
  {
   "cell_type": "code",
   "execution_count": 11,
   "id": "1a8f6665",
   "metadata": {},
   "outputs": [
    {
     "data": {
      "text/plain": [
       "both          68\n",
       "left_only      2\n",
       "right_only     0\n",
       "Name: _merge, dtype: int64"
      ]
     },
     "execution_count": 11,
     "metadata": {},
     "output_type": "execute_result"
    }
   ],
   "source": [
    "sup_prod_left['_merge'].value_counts()"
   ]
  },
  {
   "cell_type": "code",
   "execution_count": 14,
   "id": "5b87d783",
   "metadata": {},
   "outputs": [],
   "source": [
    "sup_prod_right = products.merge(suppliers, how='right', on='SupplierID', indicator=True)"
   ]
  },
  {
   "cell_type": "code",
   "execution_count": 15,
   "id": "48225af2",
   "metadata": {},
   "outputs": [
    {
     "data": {
      "text/plain": [
       "both          68\n",
       "right_only     2\n",
       "left_only      0\n",
       "Name: _merge, dtype: int64"
      ]
     },
     "execution_count": 15,
     "metadata": {},
     "output_type": "execute_result"
    }
   ],
   "source": [
    "sup_prod_right['_merge'].value_counts()"
   ]
  },
  {
   "cell_type": "code",
   "execution_count": 16,
   "id": "23132e3b",
   "metadata": {},
   "outputs": [],
   "source": [
    "filter_right = sup_prod_right['_merge'] == 'right_only'"
   ]
  },
  {
   "cell_type": "code",
   "execution_count": 17,
   "id": "8870c4d2",
   "metadata": {},
   "outputs": [
    {
     "data": {
      "text/html": [
       "<div>\n",
       "<style scoped>\n",
       "    .dataframe tbody tr th:only-of-type {\n",
       "        vertical-align: middle;\n",
       "    }\n",
       "\n",
       "    .dataframe tbody tr th {\n",
       "        vertical-align: top;\n",
       "    }\n",
       "\n",
       "    .dataframe thead th {\n",
       "        text-align: right;\n",
       "    }\n",
       "</style>\n",
       "<table border=\"1\" class=\"dataframe\">\n",
       "  <thead>\n",
       "    <tr style=\"text-align: right;\">\n",
       "      <th></th>\n",
       "      <th>ProductID</th>\n",
       "      <th>ProductName</th>\n",
       "      <th>SupplierID</th>\n",
       "      <th>CompanyName</th>\n",
       "      <th>City</th>\n",
       "      <th>_merge</th>\n",
       "    </tr>\n",
       "  </thead>\n",
       "  <tbody>\n",
       "    <tr>\n",
       "      <th>2</th>\n",
       "      <td>NaN</td>\n",
       "      <td>NaN</td>\n",
       "      <td>2</td>\n",
       "      <td>New Orleans Cajun Delights</td>\n",
       "      <td>New Orleans</td>\n",
       "      <td>right_only</td>\n",
       "    </tr>\n",
       "    <tr>\n",
       "      <th>67</th>\n",
       "      <td>NaN</td>\n",
       "      <td>NaN</td>\n",
       "      <td>27</td>\n",
       "      <td>Escargots Nouveaux</td>\n",
       "      <td>Montceau</td>\n",
       "      <td>right_only</td>\n",
       "    </tr>\n",
       "  </tbody>\n",
       "</table>\n",
       "</div>"
      ],
      "text/plain": [
       "    ProductID ProductName  SupplierID                 CompanyName  \\\n",
       "2         NaN         NaN           2  New Orleans Cajun Delights   \n",
       "67        NaN         NaN          27          Escargots Nouveaux   \n",
       "\n",
       "           City      _merge  \n",
       "2   New Orleans  right_only  \n",
       "67     Montceau  right_only  "
      ]
     },
     "execution_count": 17,
     "metadata": {},
     "output_type": "execute_result"
    }
   ],
   "source": [
    "sup_prod_right[filter_right]"
   ]
  },
  {
   "cell_type": "code",
   "execution_count": null,
   "id": "399cee2e",
   "metadata": {},
   "outputs": [],
   "source": []
  }
 ],
 "metadata": {
  "kernelspec": {
   "display_name": "Python 3 (ipykernel)",
   "language": "python",
   "name": "python3"
  },
  "language_info": {
   "codemirror_mode": {
    "name": "ipython",
    "version": 3
   },
   "file_extension": ".py",
   "mimetype": "text/x-python",
   "name": "python",
   "nbconvert_exporter": "python",
   "pygments_lexer": "ipython3",
   "version": "3.9.12"
  }
 },
 "nbformat": 4,
 "nbformat_minor": 5
}
