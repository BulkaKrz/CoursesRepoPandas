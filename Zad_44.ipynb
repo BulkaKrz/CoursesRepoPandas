{
 "cells": [
  {
   "cell_type": "code",
   "execution_count": 51,
   "id": "b184bc32",
   "metadata": {},
   "outputs": [
    {
     "name": "stderr",
     "output_type": "stream",
     "text": [
      "C:\\Users\\user\\AppData\\Local\\Temp\\ipykernel_12552\\2696689008.py:6: FutureWarning: The squeeze argument has been deprecated and will be removed in a future version. Append .squeeze(\"columns\") to the call to squeeze.\n",
      "\n",
      "\n",
      "  pok = pd.read_csv(r'D:\\Udemy\\PYTHON_scripts\\course-files\\pokemon.csv',usecols=['Name'],squeeze=True)\n"
     ]
    }
   ],
   "source": [
    "import pandas as pd\n",
    "import numpy as np\n",
    "import matplotlib.pyplot as plt\n",
    "import math as math\n",
    "\n",
    "pok = pd.read_csv(r'D:\\Udemy\\PYTHON_scripts\\course-files\\pokemon.csv',usecols=['Name'],squeeze=True)"
   ]
  },
  {
   "cell_type": "code",
   "execution_count": 2,
   "id": "69c25b4b",
   "metadata": {},
   "outputs": [
    {
     "data": {
      "text/plain": [
       "'Machoke'"
      ]
     },
     "execution_count": 2,
     "metadata": {},
     "output_type": "execute_result"
    }
   ],
   "source": [
    "pok[73]"
   ]
  },
  {
   "cell_type": "code",
   "execution_count": 3,
   "id": "677346d8",
   "metadata": {},
   "outputs": [
    {
     "data": {
      "text/plain": [
       "45    Wigglytuff\n",
       "63     Growlithe\n",
       "74       Machamp\n",
       "Name: Name, dtype: object"
      ]
     },
     "execution_count": 3,
     "metadata": {},
     "output_type": "execute_result"
    }
   ],
   "source": [
    "pok[[45,63,74]]"
   ]
  },
  {
   "cell_type": "code",
   "execution_count": 4,
   "id": "9280ae7c",
   "metadata": {},
   "outputs": [
    {
     "data": {
      "text/plain": [
       "2                 Venusaur\n",
       "3    VenusaurMega Venusaur\n",
       "4               Charmander\n",
       "5               Charmeleon\n",
       "6                Charizard\n",
       "Name: Name, dtype: object"
      ]
     },
     "execution_count": 4,
     "metadata": {},
     "output_type": "execute_result"
    }
   ],
   "source": [
    "pok[2:7]"
   ]
  },
  {
   "cell_type": "code",
   "execution_count": 5,
   "id": "5c9e7201",
   "metadata": {},
   "outputs": [
    {
     "data": {
      "text/plain": [
       "795                Diancie\n",
       "796    DiancieMega Diancie\n",
       "797    HoopaHoopa Confined\n",
       "798     HoopaHoopa Unbound\n",
       "799              Volcanion\n",
       "Name: Name, dtype: object"
      ]
     },
     "execution_count": 5,
     "metadata": {},
     "output_type": "execute_result"
    }
   ],
   "source": [
    "pok[795:]"
   ]
  },
  {
   "cell_type": "code",
   "execution_count": 6,
   "id": "50090b07",
   "metadata": {
    "scrolled": true
   },
   "outputs": [
    {
     "data": {
      "text/plain": [
       "798    HoopaHoopa Unbound\n",
       "799             Volcanion\n",
       "Name: Name, dtype: object"
      ]
     },
     "execution_count": 6,
     "metadata": {},
     "output_type": "execute_result"
    }
   ],
   "source": [
    "pok[-2:]"
   ]
  },
  {
   "cell_type": "code",
   "execution_count": 13,
   "id": "f7cf3c01",
   "metadata": {},
   "outputs": [],
   "source": [
    "lista_1 = list(pok[-5:].values)"
   ]
  },
  {
   "cell_type": "code",
   "execution_count": 16,
   "id": "eb3ab891",
   "metadata": {},
   "outputs": [
    {
     "data": {
      "text/plain": [
       "['Diancie',\n",
       " 'DiancieMega Diancie',\n",
       " 'HoopaHoopa Confined',\n",
       " 'HoopaHoopa Unbound',\n",
       " 'Volcanion']"
      ]
     },
     "execution_count": 16,
     "metadata": {},
     "output_type": "execute_result"
    }
   ],
   "source": [
    "lista_1"
   ]
  },
  {
   "cell_type": "code",
   "execution_count": 32,
   "id": "00b80582",
   "metadata": {},
   "outputs": [],
   "source": [
    "pok1 = pd.read_csv(r'D:\\Udemy\\PYTHON_scripts\\course-files\\pokemon.csv', usecols=['Name']).squeeze(\"columns\")"
   ]
  },
  {
   "cell_type": "code",
   "execution_count": 30,
   "id": "457c563a",
   "metadata": {},
   "outputs": [
    {
     "data": {
      "text/plain": [
       "0                  Bulbasaur\n",
       "1                    Ivysaur\n",
       "2                   Venusaur\n",
       "3      VenusaurMega Venusaur\n",
       "4                 Charmander\n",
       "               ...          \n",
       "795                  Diancie\n",
       "796      DiancieMega Diancie\n",
       "797      HoopaHoopa Confined\n",
       "798       HoopaHoopa Unbound\n",
       "799                Volcanion\n",
       "Name: Name, Length: 800, dtype: object"
      ]
     },
     "execution_count": 30,
     "metadata": {},
     "output_type": "execute_result"
    }
   ],
   "source": [
    "pok1"
   ]
  },
  {
   "cell_type": "code",
   "execution_count": 33,
   "id": "06e0dec3",
   "metadata": {},
   "outputs": [
    {
     "data": {
      "text/plain": [
       "pandas.core.series.Series"
      ]
     },
     "execution_count": 33,
     "metadata": {},
     "output_type": "execute_result"
    }
   ],
   "source": [
    "type(pok1)"
   ]
  },
  {
   "cell_type": "code",
   "execution_count": 34,
   "id": "531b112c",
   "metadata": {},
   "outputs": [
    {
     "data": {
      "text/plain": [
       "RangeIndex(start=0, stop=800, step=1)"
      ]
     },
     "execution_count": 34,
     "metadata": {},
     "output_type": "execute_result"
    }
   ],
   "source": [
    "pok1.index"
   ]
  },
  {
   "cell_type": "code",
   "execution_count": 39,
   "id": "09ac4be4",
   "metadata": {},
   "outputs": [],
   "source": [
    "pokemon = pd.read_csv(r'D:\\Udemy\\PYTHON_scripts\\course-files\\pokemon.csv', usecols=['Name','Attack'], index_col=\"Attack\").squeeze()"
   ]
  },
  {
   "cell_type": "code",
   "execution_count": 40,
   "id": "a584bba2",
   "metadata": {},
   "outputs": [
    {
     "data": {
      "text/plain": [
       "Name\n",
       "Bulbasaur                 49\n",
       "Ivysaur                   62\n",
       "Venusaur                  82\n",
       "VenusaurMega Venusaur    100\n",
       "Charmander                52\n",
       "                        ... \n",
       "Diancie                  100\n",
       "DiancieMega Diancie      160\n",
       "HoopaHoopa Confined      110\n",
       "HoopaHoopa Unbound       160\n",
       "Volcanion                110\n",
       "Name: Attack, Length: 800, dtype: int64"
      ]
     },
     "execution_count": 40,
     "metadata": {},
     "output_type": "execute_result"
    }
   ],
   "source": [
    "pokemon"
   ]
  },
  {
   "cell_type": "code",
   "execution_count": 41,
   "id": "f66c9217",
   "metadata": {},
   "outputs": [
    {
     "data": {
      "text/plain": [
       "52"
      ]
     },
     "execution_count": 41,
     "metadata": {},
     "output_type": "execute_result"
    }
   ],
   "source": [
    "pokemon['Charmander']"
   ]
  },
  {
   "cell_type": "code",
   "execution_count": 42,
   "id": "f02c6358",
   "metadata": {},
   "outputs": [
    {
     "data": {
      "text/plain": [
       "62"
      ]
     },
     "execution_count": 42,
     "metadata": {},
     "output_type": "execute_result"
    }
   ],
   "source": [
    "pokemon.loc['Ivysaur']"
   ]
  },
  {
   "cell_type": "code",
   "execution_count": 44,
   "id": "02eb00f9",
   "metadata": {},
   "outputs": [
    {
     "data": {
      "text/plain": [
       "95"
      ]
     },
     "execution_count": 44,
     "metadata": {},
     "output_type": "execute_result"
    }
   ],
   "source": [
    "pokemon.iloc[52]"
   ]
  },
  {
   "cell_type": "code",
   "execution_count": 45,
   "id": "ced1c110",
   "metadata": {},
   "outputs": [],
   "source": [
    "pokType = pd.read_csv(r'D:\\Udemy\\PYTHON_scripts\\course-files\\pokemon.csv', usecols=['Name','Type 2'], index_col=\"Name\").squeeze()"
   ]
  },
  {
   "cell_type": "code",
   "execution_count": 46,
   "id": "6eaa9c3a",
   "metadata": {},
   "outputs": [
    {
     "data": {
      "text/plain": [
       "Name\n",
       "Bulbasaur                Poison\n",
       "Ivysaur                  Poison\n",
       "Venusaur                 Poison\n",
       "VenusaurMega Venusaur    Poison\n",
       "Charmander                  NaN\n",
       "                          ...  \n",
       "Diancie                   Fairy\n",
       "DiancieMega Diancie       Fairy\n",
       "HoopaHoopa Confined       Ghost\n",
       "HoopaHoopa Unbound         Dark\n",
       "Volcanion                 Water\n",
       "Name: Type 2, Length: 800, dtype: object"
      ]
     },
     "execution_count": 46,
     "metadata": {},
     "output_type": "execute_result"
    }
   ],
   "source": [
    "pokType"
   ]
  },
  {
   "cell_type": "code",
   "execution_count": 48,
   "id": "c3ccad7e",
   "metadata": {},
   "outputs": [
    {
     "data": {
      "text/plain": [
       "Flying      97\n",
       "Ground      35\n",
       "Poison      34\n",
       "Psychic     33\n",
       "Fighting    26\n",
       "Grass       25\n",
       "Fairy       23\n",
       "Steel       22\n",
       "Dark        20\n",
       "Dragon      18\n",
       "Water       14\n",
       "Ghost       14\n",
       "Ice         14\n",
       "Rock        14\n",
       "Fire        12\n",
       "Electric     6\n",
       "Normal       4\n",
       "Bug          3\n",
       "Name: Type 2, dtype: int64"
      ]
     },
     "execution_count": 48,
     "metadata": {},
     "output_type": "execute_result"
    }
   ],
   "source": [
    "pokType.value_counts()"
   ]
  },
  {
   "cell_type": "code",
   "execution_count": 52,
   "id": "dd8edc67",
   "metadata": {},
   "outputs": [
    {
     "data": {
      "text/plain": [
       "'Abomasnow'"
      ]
     },
     "execution_count": 52,
     "metadata": {},
     "output_type": "execute_result"
    }
   ],
   "source": [
    "pok.min()"
   ]
  },
  {
   "cell_type": "code",
   "execution_count": 53,
   "id": "14f758bd",
   "metadata": {},
   "outputs": [
    {
     "data": {
      "text/plain": [
       "190"
      ]
     },
     "execution_count": 53,
     "metadata": {},
     "output_type": "execute_result"
    }
   ],
   "source": [
    "pokemon.max()"
   ]
  },
  {
   "cell_type": "code",
   "execution_count": 56,
   "id": "3a34c26c",
   "metadata": {},
   "outputs": [
    {
     "name": "stdout",
     "output_type": "stream",
     "text": [
      "79.00125\n"
     ]
    }
   ],
   "source": [
    "print(pokemon.mean())"
   ]
  },
  {
   "cell_type": "code",
   "execution_count": 59,
   "id": "06f1790d",
   "metadata": {},
   "outputs": [
    {
     "data": {
      "text/plain": [
       "79.00125"
      ]
     },
     "execution_count": 59,
     "metadata": {},
     "output_type": "execute_result"
    }
   ],
   "source": [
    "pokemon.sum()/pokemon.count()"
   ]
  },
  {
   "cell_type": "code",
   "execution_count": 57,
   "id": "0b1b2a49",
   "metadata": {},
   "outputs": [
    {
     "data": {
      "text/plain": [
       "75.0"
      ]
     },
     "execution_count": 57,
     "metadata": {},
     "output_type": "execute_result"
    }
   ],
   "source": [
    "pokemon.median()"
   ]
  },
  {
   "cell_type": "code",
   "execution_count": 58,
   "id": "f51c446b",
   "metadata": {},
   "outputs": [
    {
     "data": {
      "text/plain": [
       "32.45736586949843"
      ]
     },
     "execution_count": 58,
     "metadata": {},
     "output_type": "execute_result"
    }
   ],
   "source": [
    "pokemon.std()"
   ]
  },
  {
   "cell_type": "code",
   "execution_count": 60,
   "id": "4d28d37d",
   "metadata": {},
   "outputs": [
    {
     "data": {
      "text/plain": [
       "Name\n",
       "Bulbasaur                 49\n",
       "Ivysaur                   62\n",
       "Venusaur                  82\n",
       "VenusaurMega Venusaur    100\n",
       "Charmander                52\n",
       "Name: Attack, dtype: int64"
      ]
     },
     "execution_count": 60,
     "metadata": {},
     "output_type": "execute_result"
    }
   ],
   "source": [
    "pokemon.head()"
   ]
  },
  {
   "cell_type": "code",
   "execution_count": 62,
   "id": "cfe2cd2c",
   "metadata": {},
   "outputs": [],
   "source": [
    "pok100 = pokemon * 100"
   ]
  },
  {
   "cell_type": "code",
   "execution_count": 63,
   "id": "37746870",
   "metadata": {},
   "outputs": [],
   "source": [
    "pokType1 = pd.read_csv(r'D:\\Udemy\\PYTHON_scripts\\course-files\\pokemon.csv', usecols=['Name','Type 1'], index_col=\"Name\").squeeze()"
   ]
  },
  {
   "cell_type": "code",
   "execution_count": 64,
   "id": "c99fd982",
   "metadata": {},
   "outputs": [
    {
     "data": {
      "text/plain": [
       "Name\n",
       "Bulbasaur                Grass\n",
       "Ivysaur                  Grass\n",
       "Venusaur                 Grass\n",
       "VenusaurMega Venusaur    Grass\n",
       "Charmander                Fire\n",
       "Name: Type 1, dtype: object"
      ]
     },
     "execution_count": 64,
     "metadata": {},
     "output_type": "execute_result"
    }
   ],
   "source": [
    "pokType1.head()"
   ]
  },
  {
   "cell_type": "code",
   "execution_count": 65,
   "id": "644254ca",
   "metadata": {},
   "outputs": [
    {
     "data": {
      "text/plain": [
       "Name\n",
       "Bulbasaur                GRASS\n",
       "Ivysaur                  GRASS\n",
       "Venusaur                 GRASS\n",
       "VenusaurMega Venusaur    GRASS\n",
       "Charmander                FIRE\n",
       "Name: Type 1, dtype: object"
      ]
     },
     "execution_count": 65,
     "metadata": {},
     "output_type": "execute_result"
    }
   ],
   "source": [
    "pokType1.str.upper().head()"
   ]
  },
  {
   "cell_type": "code",
   "execution_count": 66,
   "id": "e55397b6",
   "metadata": {},
   "outputs": [
    {
     "data": {
      "text/plain": [
       "Name\n",
       "Bulbasaur                TYPE: GRASS\n",
       "Ivysaur                  TYPE: GRASS\n",
       "Venusaur                 TYPE: GRASS\n",
       "VenusaurMega Venusaur    TYPE: GRASS\n",
       "Charmander                TYPE: FIRE\n",
       "Name: Type 1, dtype: object"
      ]
     },
     "execution_count": 66,
     "metadata": {},
     "output_type": "execute_result"
    }
   ],
   "source": [
    "\"TYPE: \" + pokType1.str.upper().head()"
   ]
  },
  {
   "cell_type": "code",
   "execution_count": 87,
   "id": "f22382ac",
   "metadata": {},
   "outputs": [
    {
     "name": "stdout",
     "output_type": "stream",
     "text": [
      "i co wy na to Bulbasaur jest typem GRASS\n",
      "i co wy na to Ivysaur jest typem GRASS\n",
      "i co wy na to Venusaur jest typem GRASS\n",
      "i co wy na to VenusaurMega Venusaur jest typem GRASS\n",
      "i co wy na to Charmander jest typem FIRE\n",
      "i co wy na to Charmeleon jest typem FIRE\n",
      "i co wy na to Charizard jest typem FIRE\n",
      "i co wy na to CharizardMega Charizard X jest typem FIRE\n",
      "i co wy na to CharizardMega Charizard Y jest typem FIRE\n",
      "i co wy na to Squirtle jest typem WATER\n"
     ]
    }
   ],
   "source": [
    "for i in range(0,10):\n",
    "    print(\"i co wy na to {} jest typem {}\".format(pokType1.index[i], pokType1.str.upper().values[i]))\n",
    "    "
   ]
  },
  {
   "cell_type": "code",
   "execution_count": 74,
   "id": "349cc35f",
   "metadata": {},
   "outputs": [
    {
     "data": {
      "text/plain": [
       "'Ivysaur'"
      ]
     },
     "execution_count": 74,
     "metadata": {},
     "output_type": "execute_result"
    }
   ],
   "source": [
    "pokType1.index[1]"
   ]
  },
  {
   "cell_type": "code",
   "execution_count": 84,
   "id": "bc29099c",
   "metadata": {},
   "outputs": [
    {
     "data": {
      "text/plain": [
       "'Grass'"
      ]
     },
     "execution_count": 84,
     "metadata": {},
     "output_type": "execute_result"
    }
   ],
   "source": [
    "pokType1.values[1]"
   ]
  },
  {
   "cell_type": "code",
   "execution_count": 88,
   "id": "726652e8",
   "metadata": {},
   "outputs": [
    {
     "data": {
      "text/plain": [
       "Name\n",
       "Bulbasaur                 49\n",
       "Ivysaur                   62\n",
       "Venusaur                  82\n",
       "VenusaurMega Venusaur    100\n",
       "Charmander                52\n",
       "                        ... \n",
       "Diancie                  100\n",
       "DiancieMega Diancie      160\n",
       "HoopaHoopa Confined      110\n",
       "HoopaHoopa Unbound       160\n",
       "Volcanion                110\n",
       "Name: Attack, Length: 800, dtype: int64"
      ]
     },
     "execution_count": 88,
     "metadata": {},
     "output_type": "execute_result"
    }
   ],
   "source": [
    "pokemon"
   ]
  },
  {
   "cell_type": "code",
   "execution_count": 105,
   "id": "3b161896",
   "metadata": {},
   "outputs": [],
   "source": [
    "def ReplecType(oldType):\n",
    "    if oldType ==\"Grass\" or oldType == \"Ghost\":\n",
    "        return \"Nature\"\n",
    "    else:\n",
    "        return oldType"
   ]
  },
  {
   "cell_type": "code",
   "execution_count": 91,
   "id": "83a46405",
   "metadata": {},
   "outputs": [
    {
     "data": {
      "text/plain": [
       "'Fire'"
      ]
     },
     "execution_count": 91,
     "metadata": {},
     "output_type": "execute_result"
    }
   ],
   "source": [
    "ReplecType(\"Fire\")"
   ]
  },
  {
   "cell_type": "code",
   "execution_count": 92,
   "id": "228ce805",
   "metadata": {},
   "outputs": [
    {
     "data": {
      "text/plain": [
       "'Nature'"
      ]
     },
     "execution_count": 92,
     "metadata": {},
     "output_type": "execute_result"
    }
   ],
   "source": [
    "ReplecType(\"Grass\")"
   ]
  },
  {
   "cell_type": "code",
   "execution_count": 110,
   "id": "c7ad62d1",
   "metadata": {},
   "outputs": [],
   "source": [
    "pokNature = pokType1.apply(ReplecType)"
   ]
  },
  {
   "cell_type": "code",
   "execution_count": 111,
   "id": "e4d5b539",
   "metadata": {},
   "outputs": [
    {
     "data": {
      "text/plain": [
       "Water       112\n",
       "Nature      102\n",
       "Normal       98\n",
       "Bug          69\n",
       "Psychic      57\n",
       "Fire         52\n",
       "Electric     44\n",
       "Rock         44\n",
       "Ground       32\n",
       "Dragon       32\n",
       "Dark         31\n",
       "Poison       28\n",
       "Steel        27\n",
       "Fighting     27\n",
       "Ice          24\n",
       "Fairy        17\n",
       "Flying        4\n",
       "Name: Type 1, dtype: int64"
      ]
     },
     "execution_count": 111,
     "metadata": {},
     "output_type": "execute_result"
    }
   ],
   "source": [
    "pokNature.value_counts()"
   ]
  },
  {
   "cell_type": "code",
   "execution_count": 116,
   "id": "bb49af2a",
   "metadata": {},
   "outputs": [
    {
     "data": {
      "text/plain": [
       "Name\n",
       "Bulbasaur                 NATURE\n",
       "Ivysaur                   NATURE\n",
       "Venusaur                  NATURE\n",
       "VenusaurMega Venusaur     NATURE\n",
       "Charmander                  FIRE\n",
       "                          ...   \n",
       "Diancie                     ROCK\n",
       "DiancieMega Diancie         ROCK\n",
       "HoopaHoopa Confined      PSYCHIC\n",
       "HoopaHoopa Unbound       PSYCHIC\n",
       "Volcanion                   FIRE\n",
       "Name: Type 1, Length: 800, dtype: object"
      ]
     },
     "execution_count": 116,
     "metadata": {},
     "output_type": "execute_result"
    }
   ],
   "source": [
    "pokNature.apply(lambda aText: aText.upper())"
   ]
  },
  {
   "cell_type": "code",
   "execution_count": null,
   "id": "e13553dd",
   "metadata": {},
   "outputs": [],
   "source": []
  }
 ],
 "metadata": {
  "kernelspec": {
   "display_name": "Python 3 (ipykernel)",
   "language": "python",
   "name": "python3"
  },
  "language_info": {
   "codemirror_mode": {
    "name": "ipython",
    "version": 3
   },
   "file_extension": ".py",
   "mimetype": "text/x-python",
   "name": "python",
   "nbconvert_exporter": "python",
   "pygments_lexer": "ipython3",
   "version": "3.9.12"
  }
 },
 "nbformat": 4,
 "nbformat_minor": 5
}
