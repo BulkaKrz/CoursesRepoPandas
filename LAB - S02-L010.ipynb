{
 "cells": [
  {
   "cell_type": "markdown",
   "id": "82163963",
   "metadata": {},
   "source": [
    "### LAB - S02-L010 - Sortowanie danych dataseries\n",
    "1. Zaimportuj moduły: pandas, numpy, matplotlib (tylko pyplot), math i nadaj im standardowealiasy\n",
    "2. Z pliku StackOverflowDeveloperSurvey.csv wczytaj kolumnę Salary jako Data Series izapisz ją w zmiennej salary. Wczytując elementy pomiń te ankiety, w których respondencinie podali kwoty wynagrodzenia (użyj dropna()). Wyświetl 5 pierwszych elementów serii\n",
    "3. Posortuj dane wg wynagrodzenia malejąco (wyświetl tylko 5 pierwszych pozycji).\n",
    "4. Posortuj dane wg wynagrodzenia rosnąco (wyświetl tylko 5 pierwszych pozycji).\n",
    "5. Zmień parametry sortowania tak, aby lista została posortowana wewnętrznie na stałe wgwynagrodzenia malejąco. Wyświetl kilka początkowych elementów, aby przekonać się żeobiekt jest teraz posortowany jak należy.\n",
    "6. Posortuj dane wg indeksu malejąco\n",
    "7. Zapisz w zmiennej maxSalaries 100 największych wynagrodzeń z serii Salary\n",
    "8. Zapisz w zmiennej minSalaries 100 najniższych wynagrodzeń z serii Salary\n",
    "9. Wyznacz średnią wartość z wynagrodzeń znajdujących się w serii maxSalaries\n",
    "10. Wyznacz średnią wartiść z wynagrodzeń znajdujących się w serii minSalaries"
   ]
  },
  {
   "cell_type": "code",
   "execution_count": 1,
   "id": "9dfc2eaf",
   "metadata": {},
   "outputs": [],
   "source": [
    "import pandas as pd\n",
    "import numpy as np\n",
    "import matplotlib.pyplot as plt\n",
    "import math as math"
   ]
  },
  {
   "cell_type": "code",
   "execution_count": 2,
   "id": "aba1c903",
   "metadata": {},
   "outputs": [],
   "source": [
    "salary = pd.read_csv(r'D:\\Udemy\\PYTHON_scripts\\course-files\\StackOverflowDeveloperSurvey.csv', usecols=['Salary']).squeeze().dropna()"
   ]
  },
  {
   "cell_type": "code",
   "execution_count": 3,
   "id": "90beb88f",
   "metadata": {},
   "outputs": [
    {
     "data": {
      "text/plain": [
       "2     113750.0\n",
       "14    100000.0\n",
       "17    130000.0\n",
       "18     82500.0\n",
       "22    100764.0\n",
       "Name: Salary, dtype: float64"
      ]
     },
     "execution_count": 3,
     "metadata": {},
     "output_type": "execute_result"
    }
   ],
   "source": [
    "salary.head()"
   ]
  },
  {
   "cell_type": "code",
   "execution_count": 5,
   "id": "fe9609a4",
   "metadata": {},
   "outputs": [
    {
     "data": {
      "text/plain": [
       "31600    197000.0\n",
       "27943    195000.0\n",
       "6743     195000.0\n",
       "18237    195000.0\n",
       "41398    195000.0\n",
       "Name: Salary, dtype: float64"
      ]
     },
     "execution_count": 5,
     "metadata": {},
     "output_type": "execute_result"
    }
   ],
   "source": [
    "salary.sort_values(ascending=False).head()"
   ]
  },
  {
   "cell_type": "code",
   "execution_count": 6,
   "id": "5e17d1b5",
   "metadata": {},
   "outputs": [
    {
     "data": {
      "text/plain": [
       "51144    0.0\n",
       "23953    0.0\n",
       "23907    0.0\n",
       "44841    0.0\n",
       "2951     0.0\n",
       "Name: Salary, dtype: float64"
      ]
     },
     "execution_count": 6,
     "metadata": {},
     "output_type": "execute_result"
    }
   ],
   "source": [
    "salary.sort_values().head()"
   ]
  },
  {
   "cell_type": "code",
   "execution_count": 8,
   "id": "fb72722b",
   "metadata": {},
   "outputs": [],
   "source": [
    "salary.sort_values(ascending=False,inplace=True)"
   ]
  },
  {
   "cell_type": "code",
   "execution_count": 9,
   "id": "0fa02da3",
   "metadata": {},
   "outputs": [
    {
     "data": {
      "text/plain": [
       "31600    197000.0\n",
       "27943    195000.0\n",
       "6743     195000.0\n",
       "18237    195000.0\n",
       "41398    195000.0\n",
       "Name: Salary, dtype: float64"
      ]
     },
     "execution_count": 9,
     "metadata": {},
     "output_type": "execute_result"
    }
   ],
   "source": [
    "salary.head()"
   ]
  },
  {
   "cell_type": "markdown",
   "id": "81ab796f",
   "metadata": {},
   "source": []
  },
  {
   "cell_type": "code",
   "execution_count": 10,
   "id": "d584dd7f",
   "metadata": {},
   "outputs": [
    {
     "data": {
      "text/plain": [
       "51390     40000.000000\n",
       "51387     58000.000000\n",
       "51382     32258.064516\n",
       "51378    107526.881720\n",
       "51371     74193.548387\n",
       "51361       440.463955\n",
       "51360     59808.612440\n",
       "51356     15483.870968\n",
       "51355     33750.000000\n",
       "51343      4228.453972\n",
       "Name: Salary, dtype: float64"
      ]
     },
     "execution_count": 10,
     "metadata": {},
     "output_type": "execute_result"
    }
   ],
   "source": [
    "salary.sort_index(ascending=False).head(10)"
   ]
  },
  {
   "cell_type": "code",
   "execution_count": 11,
   "id": "bc165470",
   "metadata": {},
   "outputs": [],
   "source": [
    "maxSalaries = salary.sort_values(ascending=False).head(100)"
   ]
  },
  {
   "cell_type": "code",
   "execution_count": 12,
   "id": "a96f4151",
   "metadata": {},
   "outputs": [],
   "source": [
    "minSalaries = salary.sort_values().head(100)"
   ]
  },
  {
   "cell_type": "code",
   "execution_count": 13,
   "id": "cd73cd44",
   "metadata": {},
   "outputs": [
    {
     "data": {
      "text/plain": [
       "180198.1045586777"
      ]
     },
     "execution_count": 13,
     "metadata": {},
     "output_type": "execute_result"
    }
   ],
   "source": [
    "maxSalaries.mean()"
   ]
  },
  {
   "cell_type": "code",
   "execution_count": 14,
   "id": "222ced0e",
   "metadata": {},
   "outputs": [
    {
     "data": {
      "text/plain": [
       "67.08388907133795"
      ]
     },
     "execution_count": 14,
     "metadata": {},
     "output_type": "execute_result"
    }
   ],
   "source": [
    "minSalaries.mean()"
   ]
  },
  {
   "cell_type": "code",
   "execution_count": null,
   "id": "41657ba1",
   "metadata": {},
   "outputs": [],
   "source": []
  }
 ],
 "metadata": {
  "kernelspec": {
   "display_name": "Python 3 (ipykernel)",
   "language": "python",
   "name": "python3"
  },
  "language_info": {
   "codemirror_mode": {
    "name": "ipython",
    "version": 3
   },
   "file_extension": ".py",
   "mimetype": "text/x-python",
   "name": "python",
   "nbconvert_exporter": "python",
   "pygments_lexer": "ipython3",
   "version": "3.9.12"
  }
 },
 "nbformat": 4,
 "nbformat_minor": 5
}
