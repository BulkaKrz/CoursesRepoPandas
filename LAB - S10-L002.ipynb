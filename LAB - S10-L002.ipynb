{
 "cells": [
  {
   "cell_type": "markdown",
   "id": "5f37e447",
   "metadata": {},
   "source": [
    "### LAB - S10-L002 - export\n",
    "1. Zaimportuj moduł pandas i numpy nadaj im standardowe aliasy\n",
    "2. Do zmiennej mcdonalds zaimportuj plik mcdonalds.csv, pobierz tylko kolumny Category, Item, Calories i TotalFat\n",
    "3. W kolejnych krokach wyeksportuj dane znajdujące się w dataframe mcdonalds do pliku csv stosując sie do wymagań:\n",
    "    - mc-1.csv - nie eksportuj indeksu\n",
    "    - mc-2.csv - nie eksportuj indeksu, wszystkie teksty umieść w cudzysłowiu\n",
    "    - mc-3.csv - nie eksportuj indeksu, wszystkie teksty umieść w cudzysłowiu, znakiem rozdzielającym część całkowitą od dziesiętnej ma być przecinek\n",
    "    - mc-4.csv - nie eksportuj indeksu, wszystkie teksty umieść w cudzysłowiu, znakiem rozdzielającym część całkowitą od dziesiętnej ma być przecinek\n",
    "    - mc-5.csv - nie eksportuj indeksu, wszystkie teksty umieść w cudzysłowiu, znakiem rozdzielającym część całkowitą od dziesiętnej ma być przecinek, wyeksportować należy tylko kolumny Item i TotalFat\n",
    "4. Do pliku mc-6.json wyeksportuj dane w formacie json\n",
    "5. W zmiennej html zapamiętaj wynik konwersji mcdonalds do postaci html\n",
    "6. Zaimportuj moduł io. Korzystając z funkcji open utwórz nowy plik tekstowy mc-7.html, z kodowaniem utf-8. Zapisz w tym pliku zawartość zmiennej html. Korzystając z przeglądarki internetowej obejrzyj zawartość utworzonego pliku"
   ]
  },
  {
   "cell_type": "code",
   "execution_count": 1,
   "id": "321f6399",
   "metadata": {},
   "outputs": [],
   "source": [
    "import pandas as pd\n",
    "import numpy as np"
   ]
  },
  {
   "cell_type": "code",
   "execution_count": 2,
   "id": "5ecdfb8c",
   "metadata": {},
   "outputs": [],
   "source": [
    "mcdonalds = pd.read_csv('./course-files/Mcdonalds.csv', usecols=['Category', 'Item', 'Calories', 'TotalFat'])"
   ]
  },
  {
   "cell_type": "code",
   "execution_count": 3,
   "id": "ec435b7a",
   "metadata": {},
   "outputs": [
    {
     "data": {
      "text/html": [
       "<div>\n",
       "<style scoped>\n",
       "    .dataframe tbody tr th:only-of-type {\n",
       "        vertical-align: middle;\n",
       "    }\n",
       "\n",
       "    .dataframe tbody tr th {\n",
       "        vertical-align: top;\n",
       "    }\n",
       "\n",
       "    .dataframe thead th {\n",
       "        text-align: right;\n",
       "    }\n",
       "</style>\n",
       "<table border=\"1\" class=\"dataframe\">\n",
       "  <thead>\n",
       "    <tr style=\"text-align: right;\">\n",
       "      <th></th>\n",
       "      <th>Category</th>\n",
       "      <th>Item</th>\n",
       "      <th>Calories</th>\n",
       "      <th>TotalFat</th>\n",
       "    </tr>\n",
       "  </thead>\n",
       "  <tbody>\n",
       "    <tr>\n",
       "      <th>0</th>\n",
       "      <td>Breakfast</td>\n",
       "      <td>Egg McMuffin</td>\n",
       "      <td>300</td>\n",
       "      <td>13.0</td>\n",
       "    </tr>\n",
       "    <tr>\n",
       "      <th>1</th>\n",
       "      <td>Breakfast</td>\n",
       "      <td>Egg White Delight</td>\n",
       "      <td>250</td>\n",
       "      <td>8.0</td>\n",
       "    </tr>\n",
       "    <tr>\n",
       "      <th>2</th>\n",
       "      <td>Breakfast</td>\n",
       "      <td>Sausage McMuffin</td>\n",
       "      <td>370</td>\n",
       "      <td>23.0</td>\n",
       "    </tr>\n",
       "    <tr>\n",
       "      <th>3</th>\n",
       "      <td>Breakfast</td>\n",
       "      <td>Sausage McMuffin with Egg</td>\n",
       "      <td>450</td>\n",
       "      <td>28.0</td>\n",
       "    </tr>\n",
       "    <tr>\n",
       "      <th>4</th>\n",
       "      <td>Breakfast</td>\n",
       "      <td>Sausage McMuffin with Egg Whites</td>\n",
       "      <td>400</td>\n",
       "      <td>23.0</td>\n",
       "    </tr>\n",
       "  </tbody>\n",
       "</table>\n",
       "</div>"
      ],
      "text/plain": [
       "    Category                              Item  Calories  TotalFat\n",
       "0  Breakfast                      Egg McMuffin       300      13.0\n",
       "1  Breakfast                 Egg White Delight       250       8.0\n",
       "2  Breakfast                  Sausage McMuffin       370      23.0\n",
       "3  Breakfast         Sausage McMuffin with Egg       450      28.0\n",
       "4  Breakfast  Sausage McMuffin with Egg Whites       400      23.0"
      ]
     },
     "execution_count": 3,
     "metadata": {},
     "output_type": "execute_result"
    }
   ],
   "source": [
    "mcdonalds.head()"
   ]
  },
  {
   "cell_type": "code",
   "execution_count": 4,
   "id": "8477b21e",
   "metadata": {},
   "outputs": [],
   "source": [
    "mcdonalds.to_csv('./LAB-S10-L002/mc-1.csv', index=False)"
   ]
  },
  {
   "cell_type": "code",
   "execution_count": 8,
   "id": "f990969e",
   "metadata": {},
   "outputs": [],
   "source": [
    "mcdonalds.to_csv('./LAB-S10-L002/mc-2.csv', index=False, quotechar='\"' )"
   ]
  },
  {
   "cell_type": "code",
   "execution_count": 11,
   "id": "7f7dd46e",
   "metadata": {},
   "outputs": [],
   "source": [
    "mcdonalds.to_csv('./LAB-S10-L002/mc-3.csv', index=False, quotechar='\"', decimal=',')"
   ]
  },
  {
   "cell_type": "code",
   "execution_count": 12,
   "id": "d7c32d28",
   "metadata": {},
   "outputs": [],
   "source": [
    "mcdonalds.to_csv('./LAB-S10-L002/mc-4.csv', index=False, quotechar='\"', decimal=',', sep=';')"
   ]
  },
  {
   "cell_type": "code",
   "execution_count": 14,
   "id": "79e045a0",
   "metadata": {},
   "outputs": [],
   "source": [
    "mcdonalds.to_csv('./LAB-S10-L002/mc-5.csv', index=False, quotechar='\"', decimal=',', sep=';', columns=['Item', 'TotalFat'])"
   ]
  },
  {
   "cell_type": "code",
   "execution_count": 15,
   "id": "8192d61c",
   "metadata": {},
   "outputs": [],
   "source": [
    "mcdonalds.to_json('./LAB-S10-L002/mc-6.json')"
   ]
  },
  {
   "cell_type": "code",
   "execution_count": 16,
   "id": "ac769656",
   "metadata": {},
   "outputs": [],
   "source": [
    "html = mcdonalds.to_html()"
   ]
  },
  {
   "cell_type": "code",
   "execution_count": 17,
   "id": "68599d51",
   "metadata": {},
   "outputs": [],
   "source": [
    "import io"
   ]
  },
  {
   "cell_type": "code",
   "execution_count": 18,
   "id": "98244157",
   "metadata": {},
   "outputs": [],
   "source": [
    "with io.open('./LAB-S10-L002/mc-7.html', 'w', encoding='utf-8') as file:\n",
    "    file.write(html)"
   ]
  },
  {
   "cell_type": "code",
   "execution_count": null,
   "id": "7f4f9cd7",
   "metadata": {},
   "outputs": [],
   "source": []
  }
 ],
 "metadata": {
  "kernelspec": {
   "display_name": "Python 3 (ipykernel)",
   "language": "python",
   "name": "python3"
  },
  "language_info": {
   "codemirror_mode": {
    "name": "ipython",
    "version": 3
   },
   "file_extension": ".py",
   "mimetype": "text/x-python",
   "name": "python",
   "nbconvert_exporter": "python",
   "pygments_lexer": "ipython3",
   "version": "3.9.12"
  }
 },
 "nbformat": 4,
 "nbformat_minor": 5
}
