{
 "cells": [
  {
   "cell_type": "markdown",
   "id": "1dfaa091",
   "metadata": {},
   "source": [
    "### LAB - S10-L003 - excel\n",
    "1. Zaimportuj moduł pandas i numpy nadaj im standardowe aliasy\n",
    "2. Do zmiennej mcdonalds zaimportuj plik mcdonalds.csv, pobierz tylko kolumny Category, Item, Caloriesi TotalFat\n",
    "3. Zadeklaruj zmienną excelWriter, która pozwoli na zapisywanie danych do skoroszytu mcdonaldsexcel.xls\n",
    "4. Zapisz zawartość zmiennej mcdonalds do excelWriter. Nowy arkusz ma się nazywać Menu. Indeks niepowinien być zapisywany\n",
    "5. Zapisz excelWriter na dysku. (Dobry pomysł sprawdzić, jak wygląda teraz plik, ale po takim sprawdzeniupamiętaj aby zamknąć Excela, bo inaczej dostęp do pliku może być zablokowany)\n",
    "6. Do zmiennej imported1 zaimportuj ze skoroszytu mcdonalds-excel.xls arkusz Menu. \n",
    "7. Zaktualizuj w imported zawartość kolumny Calories dzieląc ją przez 2. \n",
    "8. Zapisz zawartość imported1 w excelWriter, dodając arkusz Menu Light\n",
    "9. Zaktualizuj w imported1 zawartość kolumny Calories dzieląc ją ponownie przez 2. \n",
    "10. Zapisz zawartość imported1 w excelWriter, dodając arkusz Menu Extra Light\n",
    "11. Zapisz excelWriter na dysku.\n",
    "12. Do zmiennej final wczytaj zawartość wszyskich arkuszy ze skoroszytu mcdonalds-excel.xls\n",
    "13. Sprawdź ile masz obiektów data frame w zmiennej final, wyświetlając jej długość\n",
    "14. Wyświetl nagłówek zerowego, pierwszego i drugiego arkusza. Czy widzisz zmniejszającą się ilość kalorii wkolejnych arkuszach?"
   ]
  },
  {
   "cell_type": "code",
   "execution_count": 1,
   "id": "c0da35b3",
   "metadata": {},
   "outputs": [],
   "source": [
    "import pandas as pd\n",
    "import numpy as np"
   ]
  },
  {
   "cell_type": "code",
   "execution_count": 2,
   "id": "ae4bf015",
   "metadata": {},
   "outputs": [],
   "source": [
    "mcdonalds = pd.read_csv('./course-files/Mcdonalds.csv', usecols=['Category', 'Item', 'Calories', 'TotalFat' ])"
   ]
  },
  {
   "cell_type": "code",
   "execution_count": 3,
   "id": "b6eb60c8",
   "metadata": {},
   "outputs": [],
   "source": [
    "excelWriter = pd.ExcelWriter('./LAB-S10-L002/mcdonaldsexcel.xlsx')"
   ]
  },
  {
   "cell_type": "code",
   "execution_count": 4,
   "id": "940262bc",
   "metadata": {},
   "outputs": [],
   "source": [
    "mcdonalds.to_excel(excelWriter, sheet_name='Menu', index=False)"
   ]
  },
  {
   "cell_type": "code",
   "execution_count": 5,
   "id": "58f79927",
   "metadata": {},
   "outputs": [],
   "source": [
    "excelWriter.save()"
   ]
  },
  {
   "cell_type": "code",
   "execution_count": 6,
   "id": "635b6be8",
   "metadata": {},
   "outputs": [],
   "source": [
    "imported1 = pd.read_excel('./LAB-S10-L002/mcdonaldsexcel.xlsx', sheet_name='Menu')"
   ]
  },
  {
   "cell_type": "code",
   "execution_count": 7,
   "id": "b66d324f",
   "metadata": {},
   "outputs": [],
   "source": [
    "excelWriter = pd.ExcelWriter('./LAB-S10-L002/mcdonaldsexcel.xlsx', engine=\"openpyxl\", mode='a')"
   ]
  },
  {
   "cell_type": "code",
   "execution_count": 8,
   "id": "f2cd4bda",
   "metadata": {},
   "outputs": [],
   "source": [
    "imported1['Calories'] = imported1['Calories']/2"
   ]
  },
  {
   "cell_type": "code",
   "execution_count": 9,
   "id": "99685ae9",
   "metadata": {},
   "outputs": [
    {
     "data": {
      "text/html": [
       "<div>\n",
       "<style scoped>\n",
       "    .dataframe tbody tr th:only-of-type {\n",
       "        vertical-align: middle;\n",
       "    }\n",
       "\n",
       "    .dataframe tbody tr th {\n",
       "        vertical-align: top;\n",
       "    }\n",
       "\n",
       "    .dataframe thead th {\n",
       "        text-align: right;\n",
       "    }\n",
       "</style>\n",
       "<table border=\"1\" class=\"dataframe\">\n",
       "  <thead>\n",
       "    <tr style=\"text-align: right;\">\n",
       "      <th></th>\n",
       "      <th>Category</th>\n",
       "      <th>Item</th>\n",
       "      <th>Calories</th>\n",
       "      <th>TotalFat</th>\n",
       "    </tr>\n",
       "  </thead>\n",
       "  <tbody>\n",
       "    <tr>\n",
       "      <th>0</th>\n",
       "      <td>Breakfast</td>\n",
       "      <td>Egg McMuffin</td>\n",
       "      <td>150.0</td>\n",
       "      <td>13.0</td>\n",
       "    </tr>\n",
       "    <tr>\n",
       "      <th>1</th>\n",
       "      <td>Breakfast</td>\n",
       "      <td>Egg White Delight</td>\n",
       "      <td>125.0</td>\n",
       "      <td>8.0</td>\n",
       "    </tr>\n",
       "    <tr>\n",
       "      <th>2</th>\n",
       "      <td>Breakfast</td>\n",
       "      <td>Sausage McMuffin</td>\n",
       "      <td>185.0</td>\n",
       "      <td>23.0</td>\n",
       "    </tr>\n",
       "    <tr>\n",
       "      <th>3</th>\n",
       "      <td>Breakfast</td>\n",
       "      <td>Sausage McMuffin with Egg</td>\n",
       "      <td>225.0</td>\n",
       "      <td>28.0</td>\n",
       "    </tr>\n",
       "    <tr>\n",
       "      <th>4</th>\n",
       "      <td>Breakfast</td>\n",
       "      <td>Sausage McMuffin with Egg Whites</td>\n",
       "      <td>200.0</td>\n",
       "      <td>23.0</td>\n",
       "    </tr>\n",
       "  </tbody>\n",
       "</table>\n",
       "</div>"
      ],
      "text/plain": [
       "    Category                              Item  Calories  TotalFat\n",
       "0  Breakfast                      Egg McMuffin     150.0      13.0\n",
       "1  Breakfast                 Egg White Delight     125.0       8.0\n",
       "2  Breakfast                  Sausage McMuffin     185.0      23.0\n",
       "3  Breakfast         Sausage McMuffin with Egg     225.0      28.0\n",
       "4  Breakfast  Sausage McMuffin with Egg Whites     200.0      23.0"
      ]
     },
     "execution_count": 9,
     "metadata": {},
     "output_type": "execute_result"
    }
   ],
   "source": [
    "imported1.head()"
   ]
  },
  {
   "cell_type": "code",
   "execution_count": 10,
   "id": "90c1902d",
   "metadata": {},
   "outputs": [],
   "source": [
    "imported1.to_excel(excelWriter, sheet_name='Menu Light')"
   ]
  },
  {
   "cell_type": "code",
   "execution_count": 11,
   "id": "d04c3d55",
   "metadata": {},
   "outputs": [],
   "source": [
    "imported1['Calories'] = imported1['Calories']/2"
   ]
  },
  {
   "cell_type": "code",
   "execution_count": 12,
   "id": "dabfd4d5",
   "metadata": {},
   "outputs": [
    {
     "data": {
      "text/html": [
       "<div>\n",
       "<style scoped>\n",
       "    .dataframe tbody tr th:only-of-type {\n",
       "        vertical-align: middle;\n",
       "    }\n",
       "\n",
       "    .dataframe tbody tr th {\n",
       "        vertical-align: top;\n",
       "    }\n",
       "\n",
       "    .dataframe thead th {\n",
       "        text-align: right;\n",
       "    }\n",
       "</style>\n",
       "<table border=\"1\" class=\"dataframe\">\n",
       "  <thead>\n",
       "    <tr style=\"text-align: right;\">\n",
       "      <th></th>\n",
       "      <th>Category</th>\n",
       "      <th>Item</th>\n",
       "      <th>Calories</th>\n",
       "      <th>TotalFat</th>\n",
       "    </tr>\n",
       "  </thead>\n",
       "  <tbody>\n",
       "    <tr>\n",
       "      <th>0</th>\n",
       "      <td>Breakfast</td>\n",
       "      <td>Egg McMuffin</td>\n",
       "      <td>75.0</td>\n",
       "      <td>13.0</td>\n",
       "    </tr>\n",
       "    <tr>\n",
       "      <th>1</th>\n",
       "      <td>Breakfast</td>\n",
       "      <td>Egg White Delight</td>\n",
       "      <td>62.5</td>\n",
       "      <td>8.0</td>\n",
       "    </tr>\n",
       "    <tr>\n",
       "      <th>2</th>\n",
       "      <td>Breakfast</td>\n",
       "      <td>Sausage McMuffin</td>\n",
       "      <td>92.5</td>\n",
       "      <td>23.0</td>\n",
       "    </tr>\n",
       "    <tr>\n",
       "      <th>3</th>\n",
       "      <td>Breakfast</td>\n",
       "      <td>Sausage McMuffin with Egg</td>\n",
       "      <td>112.5</td>\n",
       "      <td>28.0</td>\n",
       "    </tr>\n",
       "    <tr>\n",
       "      <th>4</th>\n",
       "      <td>Breakfast</td>\n",
       "      <td>Sausage McMuffin with Egg Whites</td>\n",
       "      <td>100.0</td>\n",
       "      <td>23.0</td>\n",
       "    </tr>\n",
       "  </tbody>\n",
       "</table>\n",
       "</div>"
      ],
      "text/plain": [
       "    Category                              Item  Calories  TotalFat\n",
       "0  Breakfast                      Egg McMuffin      75.0      13.0\n",
       "1  Breakfast                 Egg White Delight      62.5       8.0\n",
       "2  Breakfast                  Sausage McMuffin      92.5      23.0\n",
       "3  Breakfast         Sausage McMuffin with Egg     112.5      28.0\n",
       "4  Breakfast  Sausage McMuffin with Egg Whites     100.0      23.0"
      ]
     },
     "execution_count": 12,
     "metadata": {},
     "output_type": "execute_result"
    }
   ],
   "source": [
    "imported1.head()"
   ]
  },
  {
   "cell_type": "code",
   "execution_count": 13,
   "id": "e58c540d",
   "metadata": {},
   "outputs": [],
   "source": [
    "imported1.to_excel(excelWriter, sheet_name='Menu Extra Light')"
   ]
  },
  {
   "cell_type": "code",
   "execution_count": 14,
   "id": "bd3192d0",
   "metadata": {},
   "outputs": [],
   "source": [
    "excelWriter.save()"
   ]
  },
  {
   "cell_type": "code",
   "execution_count": 15,
   "id": "ba664a12",
   "metadata": {},
   "outputs": [],
   "source": [
    "final = pd.read_excel('./LAB-S10-L002/mcdonaldsexcel.xlsx', sheet_name=[0,1,2])"
   ]
  },
  {
   "cell_type": "code",
   "execution_count": null,
   "id": "1fcf81ac",
   "metadata": {},
   "outputs": [],
   "source": [
    "final"
   ]
  }
 ],
 "metadata": {
  "kernelspec": {
   "display_name": "Python 3 (ipykernel)",
   "language": "python",
   "name": "python3"
  },
  "language_info": {
   "codemirror_mode": {
    "name": "ipython",
    "version": 3
   },
   "file_extension": ".py",
   "mimetype": "text/x-python",
   "name": "python",
   "nbconvert_exporter": "python",
   "pygments_lexer": "ipython3",
   "version": "3.9.12"
  }
 },
 "nbformat": 4,
 "nbformat_minor": 5
}
