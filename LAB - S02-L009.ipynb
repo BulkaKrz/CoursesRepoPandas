{
 "cells": [
  {
   "cell_type": "markdown",
   "id": "ef9cb32e",
   "metadata": {},
   "source": [
    "## LAB - S02-L009 - Standardowe metody Pythona a obiekty PANDAS\n",
    "\n",
    "1. Zaimportuj moduły: pandas, numpy, matplotlib (tylko pyplot), math i nadaj im standardowe aliasy\n",
    "2. Z pliku StackOverflowDeveloperSurvey.csv wczytaj kolumnę Salary jako Data Series i zapisz ją w zmiennejsalary. Wczytując elementy pomiń te ankiety, w których respondenci nie podali kwoty wynagrodzenia (użyj dropna()). Wyświetl 5 pierwszych elementów serii\n",
    "3. Ile osób odpowiedziało w ankiecie na temat otrzymywanego wynagrodzenia?\n",
    "4. Jakie jest najmniejsze wynagrodzenie? A jakie jest największe wynagrodzenie?\n",
    "5. Pięć pierwszych elementów serii zamień na listę (nie zapisuj jej w zmiennej, po prostu wyświetl)\n",
    "6. Pięć pierwszych elementów serii zamień na słownik (nie zapisuj go, po prostu wyświetl)\n",
    "7. W zmiennej listSalarySorted zapisz listę powstałą z posortowania serii salary malejąco\n",
    "8. Wyświetl pięć pierwszych elementów listy listSalarySorted. (Pamiętaj że to nie seria i nie zadziała metoda head()\n",
    "9. Zmień nazwę atrybutu name dla serii salary na \"Salary of a person\"\n",
    "10. Wyświetl 5 pierwszych elementów serii salary"
   ]
  },
  {
   "cell_type": "code",
   "execution_count": 1,
   "id": "4a37119d",
   "metadata": {},
   "outputs": [],
   "source": [
    "import pandas as pd\n",
    "import numpy as np\n",
    "import matplotlib.pyplot as plt\n",
    "import math as math"
   ]
  },
  {
   "cell_type": "code",
   "execution_count": 2,
   "id": "354404c5",
   "metadata": {},
   "outputs": [],
   "source": [
    "salary = pd.read_csv(r'D:\\Udemy\\PYTHON_scripts\\course-files\\StackOverflowDeveloperSurvey.csv', usecols=['Salary']).squeeze().dropna()"
   ]
  },
  {
   "cell_type": "code",
   "execution_count": 3,
   "id": "e788b5b3",
   "metadata": {},
   "outputs": [
    {
     "data": {
      "text/plain": [
       "2     113750.0\n",
       "14    100000.0\n",
       "17    130000.0\n",
       "18     82500.0\n",
       "22    100764.0\n",
       "Name: Salary, dtype: float64"
      ]
     },
     "execution_count": 3,
     "metadata": {},
     "output_type": "execute_result"
    }
   ],
   "source": [
    "salary.head()"
   ]
  },
  {
   "cell_type": "code",
   "execution_count": 4,
   "id": "074a71e7",
   "metadata": {},
   "outputs": [
    {
     "data": {
      "text/plain": [
       "12891"
      ]
     },
     "execution_count": 4,
     "metadata": {},
     "output_type": "execute_result"
    }
   ],
   "source": [
    "salary.count()"
   ]
  },
  {
   "cell_type": "code",
   "execution_count": 5,
   "id": "b8a67873",
   "metadata": {},
   "outputs": [
    {
     "data": {
      "text/plain": [
       "12891"
      ]
     },
     "execution_count": 5,
     "metadata": {},
     "output_type": "execute_result"
    }
   ],
   "source": [
    "len(salary)"
   ]
  },
  {
   "cell_type": "code",
   "execution_count": 6,
   "id": "ff114107",
   "metadata": {},
   "outputs": [
    {
     "data": {
      "text/plain": [
       "0.0"
      ]
     },
     "execution_count": 6,
     "metadata": {},
     "output_type": "execute_result"
    }
   ],
   "source": [
    "min(salary)"
   ]
  },
  {
   "cell_type": "code",
   "execution_count": 7,
   "id": "cbbe9cd9",
   "metadata": {},
   "outputs": [
    {
     "data": {
      "text/plain": [
       "197000.0"
      ]
     },
     "execution_count": 7,
     "metadata": {},
     "output_type": "execute_result"
    }
   ],
   "source": [
    "max(salary)"
   ]
  },
  {
   "cell_type": "code",
   "execution_count": 8,
   "id": "266735f8",
   "metadata": {},
   "outputs": [
    {
     "data": {
      "text/plain": [
       "[113750.0, 100000.0, 130000.0, 82500.0, 100764.0]"
      ]
     },
     "execution_count": 8,
     "metadata": {},
     "output_type": "execute_result"
    }
   ],
   "source": [
    "list(salary.head())"
   ]
  },
  {
   "cell_type": "code",
   "execution_count": 10,
   "id": "a9aa65b4",
   "metadata": {},
   "outputs": [
    {
     "data": {
      "text/plain": [
       "array([113750., 100000., 130000.,  82500., 100764.])"
      ]
     },
     "execution_count": 10,
     "metadata": {},
     "output_type": "execute_result"
    }
   ],
   "source": [
    "salary.head().values"
   ]
  },
  {
   "cell_type": "code",
   "execution_count": 11,
   "id": "0f3e0e7f",
   "metadata": {},
   "outputs": [
    {
     "data": {
      "text/plain": [
       "{2: 113750.0, 14: 100000.0, 17: 130000.0, 18: 82500.0, 22: 100764.0}"
      ]
     },
     "execution_count": 11,
     "metadata": {},
     "output_type": "execute_result"
    }
   ],
   "source": [
    "dict(salary.head())"
   ]
  },
  {
   "cell_type": "code",
   "execution_count": 19,
   "id": "64a5f714",
   "metadata": {},
   "outputs": [],
   "source": [
    "listSalarySorted = list(salary.sort_values(ascending=False))"
   ]
  },
  {
   "cell_type": "code",
   "execution_count": 21,
   "id": "71975deb",
   "metadata": {},
   "outputs": [
    {
     "data": {
      "text/plain": [
       "[197000.0, 195000.0, 195000.0, 195000.0, 195000.0]"
      ]
     },
     "execution_count": 21,
     "metadata": {},
     "output_type": "execute_result"
    }
   ],
   "source": [
    "listSalarySorted[:5]"
   ]
  },
  {
   "cell_type": "code",
   "execution_count": 23,
   "id": "113b8af0",
   "metadata": {},
   "outputs": [],
   "source": [
    "salary.name = \"Salary of a person\""
   ]
  },
  {
   "cell_type": "code",
   "execution_count": 25,
   "id": "86980e57",
   "metadata": {},
   "outputs": [
    {
     "data": {
      "text/plain": [
       "2     113750.0\n",
       "14    100000.0\n",
       "17    130000.0\n",
       "18     82500.0\n",
       "22    100764.0\n",
       "Name: Salary of a person, dtype: float64"
      ]
     },
     "execution_count": 25,
     "metadata": {},
     "output_type": "execute_result"
    }
   ],
   "source": [
    "salary.head()"
   ]
  },
  {
   "cell_type": "code",
   "execution_count": null,
   "id": "8ea6b1f3",
   "metadata": {},
   "outputs": [],
   "source": []
  },
  {
   "cell_type": "code",
   "execution_count": null,
   "id": "7c5e28d1",
   "metadata": {},
   "outputs": [],
   "source": []
  }
 ],
 "metadata": {
  "kernelspec": {
   "display_name": "Python 3 (ipykernel)",
   "language": "python",
   "name": "python3"
  },
  "language_info": {
   "codemirror_mode": {
    "name": "ipython",
    "version": 3
   },
   "file_extension": ".py",
   "mimetype": "text/x-python",
   "name": "python",
   "nbconvert_exporter": "python",
   "pygments_lexer": "ipython3",
   "version": "3.9.12"
  }
 },
 "nbformat": 4,
 "nbformat_minor": 5
}
