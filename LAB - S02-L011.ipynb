{
 "cells": [
  {
   "cell_type": "markdown",
   "id": "a2e94285",
   "metadata": {},
   "source": [
    "### LAB - S02-L011 - Sprawdzanie czy element jest na liście\n",
    "1. Zaimportuj moduły: pandas, numpy, matplotlib (tylko pyplot), math i nadaj im standardowe aliasy\n",
    "2. Z pliku StackOverflowDeveloperSurvey.csv wczytaj kolumnę Country jako Data Series i zapisz ją w zmiennej countries. Wczytując elementy pomiń te ankiety, w których respondenci nie podali kraju (użyj dropna()). Wyświetl 5 pierwszych elementów serii\n",
    "3. Sprawdź, czy 'Spain' jest w serii countries (tu skorzystaj tylko z nazwy serii, bez odwołania do jego właściwości: index ani values). Jak uzasadnić wynik?\n",
    "4. Sprawdź, czy 'Spain' jest w serii countries (teraz skorzystaj z odpowiedniej właściwości serii, tak aby sprawdzanie odbyło się po wartościach, a nie indeksie). Jak uzasadnić wynik?\n",
    "5. Sprawdź czy na liście krajów jest kraj \"Wonderland\" (sprawdzając odwołuj się do odpowiedniej właściwości)"
   ]
  },
  {
   "cell_type": "code",
   "execution_count": 1,
   "id": "c97b615a",
   "metadata": {},
   "outputs": [],
   "source": [
    "import pandas as pd\n",
    "import numpy as np\n",
    "import matplotlib.pyplot as plt\n",
    "import math as math"
   ]
  },
  {
   "cell_type": "code",
   "execution_count": 2,
   "id": "ad1a1e63",
   "metadata": {},
   "outputs": [],
   "source": [
    "countries = pd.read_csv(r'D:\\Udemy\\PYTHON_scripts\\course-files\\StackOverflowDeveloperSurvey.csv', usecols=['Country']).squeeze().dropna()"
   ]
  },
  {
   "cell_type": "code",
   "execution_count": 3,
   "id": "09914d6e",
   "metadata": {},
   "outputs": [
    {
     "data": {
      "text/plain": [
       "0     United States\n",
       "1    United Kingdom\n",
       "2    United Kingdom\n",
       "3     United States\n",
       "4       Switzerland\n",
       "Name: Country, dtype: object"
      ]
     },
     "execution_count": 3,
     "metadata": {},
     "output_type": "execute_result"
    }
   ],
   "source": [
    "countries.head()"
   ]
  },
  {
   "cell_type": "code",
   "execution_count": 4,
   "id": "b2da56f8",
   "metadata": {},
   "outputs": [
    {
     "data": {
      "text/plain": [
       "False"
      ]
     },
     "execution_count": 4,
     "metadata": {},
     "output_type": "execute_result"
    }
   ],
   "source": [
    "'Spain' in countries"
   ]
  },
  {
   "cell_type": "code",
   "execution_count": 5,
   "id": "1d2a7fb3",
   "metadata": {},
   "outputs": [
    {
     "data": {
      "text/plain": [
       "True"
      ]
     },
     "execution_count": 5,
     "metadata": {},
     "output_type": "execute_result"
    }
   ],
   "source": [
    "'Spain' in countries.values"
   ]
  },
  {
   "cell_type": "code",
   "execution_count": 6,
   "id": "fe8cc98c",
   "metadata": {},
   "outputs": [
    {
     "data": {
      "text/plain": [
       "False"
      ]
     },
     "execution_count": 6,
     "metadata": {},
     "output_type": "execute_result"
    }
   ],
   "source": [
    "\"Wonderland\" in countries.values"
   ]
  },
  {
   "cell_type": "code",
   "execution_count": null,
   "id": "ddf45b9b",
   "metadata": {},
   "outputs": [],
   "source": []
  }
 ],
 "metadata": {
  "kernelspec": {
   "display_name": "Python 3 (ipykernel)",
   "language": "python",
   "name": "python3"
  },
  "language_info": {
   "codemirror_mode": {
    "name": "ipython",
    "version": 3
   },
   "file_extension": ".py",
   "mimetype": "text/x-python",
   "name": "python",
   "nbconvert_exporter": "python",
   "pygments_lexer": "ipython3",
   "version": "3.9.12"
  }
 },
 "nbformat": 4,
 "nbformat_minor": 5
}
