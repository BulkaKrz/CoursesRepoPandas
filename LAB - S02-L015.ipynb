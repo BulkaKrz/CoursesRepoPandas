{
 "cells": [
  {
   "cell_type": "markdown",
   "id": "444b6e90",
   "metadata": {},
   "source": [
    "### LAB - S02-L015 - Określanie indeksu podczas wczytywania pliku CSV\n",
    "1. Zaimportuj moduł pandas i nadaj mu standardowy alias.\n",
    "2. Do zmiennej fortune500 wczytaj dane z pliku Fortune_500_2017.csv. Wczytaj kolumny Rank i Title. Kolumna Rank powinna stać się indeksem. Wyświetl nagłówek otrzymanej serii danych.\n",
    "3. Wyświetl 10 pierwszych firm znajdujących się najwyżej w klasyfikacji Fortune 500\n",
    "4. Wyświetl 20 ostatnich firm znajdujących się w klasyfikacji Fortune 500\n",
    "5. Wczytaj jeszcze raz plik, ale tym razem indeksem ma być kolumna Title, a wartościami kolumna Employees opisująca ilość pracowników w każdej firmie.\n",
    "6. Sprawdź ilu pracowników pracuje dla IBM, Alphabet (Google), Facebook i Apple\n",
    "7. Wyświetl infromacje o ilości pracowników dla firm od IBM do Intel"
   ]
  },
  {
   "cell_type": "code",
   "execution_count": 1,
   "id": "694ee835",
   "metadata": {},
   "outputs": [],
   "source": [
    "import pandas as pd"
   ]
  },
  {
   "cell_type": "code",
   "execution_count": 2,
   "id": "9b9ae944",
   "metadata": {},
   "outputs": [],
   "source": [
    "fortune500 = pd.read_csv(r'D:\\Udemy\\PYTHON_scripts\\course-files\\Fortune_500_2017.csv', usecols=['Rank', 'Title'], index_col='Rank').squeeze()"
   ]
  },
  {
   "cell_type": "code",
   "execution_count": 3,
   "id": "c96a4507",
   "metadata": {},
   "outputs": [
    {
     "data": {
      "text/plain": [
       "Rank\n",
       "1               Walmart\n",
       "2    Berkshire Hathaway\n",
       "3                 Apple\n",
       "4           Exxon Mobil\n",
       "5              McKesson\n",
       "Name: Title, dtype: object"
      ]
     },
     "execution_count": 3,
     "metadata": {},
     "output_type": "execute_result"
    }
   ],
   "source": [
    "fortune500.head()"
   ]
  },
  {
   "cell_type": "code",
   "execution_count": 5,
   "id": "1af03055",
   "metadata": {},
   "outputs": [
    {
     "data": {
      "text/plain": [
       "Rank\n",
       "1                Walmart\n",
       "2     Berkshire Hathaway\n",
       "3                  Apple\n",
       "4            Exxon Mobil\n",
       "5               McKesson\n",
       "6     UnitedHealth Group\n",
       "7             CVS Health\n",
       "8         General Motors\n",
       "9                   AT&T\n",
       "10            Ford Motor\n",
       "Name: Title, dtype: object"
      ]
     },
     "execution_count": 5,
     "metadata": {},
     "output_type": "execute_result"
    }
   ],
   "source": [
    "fortune500[:10]"
   ]
  },
  {
   "cell_type": "code",
   "execution_count": 7,
   "id": "78c85b34",
   "metadata": {},
   "outputs": [
    {
     "data": {
      "text/plain": [
       "Rank\n",
       "481           Booz Allen Hamilton Holding\n",
       "482                              Chemours\n",
       "483    Western & Southern Financial Group\n",
       "484                              Celanese\n",
       "485                   Windstream Holdings\n",
       "486                              Seaboard\n",
       "487                             Essendant\n",
       "488                                Apache\n",
       "489                                Airgas\n",
       "490                        Kelly Services\n",
       "491                         Liberty Media\n",
       "492                      Rockwell Collins\n",
       "493             Robert Half International\n",
       "494                             CH2M Hill\n",
       "495                              Big Lots\n",
       "496                         Michaels Cos.\n",
       "497                         Toll Brothers\n",
       "498                                 Yahoo\n",
       "499                         Vistra Energy\n",
       "500                        ABM Industries\n",
       "Name: Title, dtype: object"
      ]
     },
     "execution_count": 7,
     "metadata": {},
     "output_type": "execute_result"
    }
   ],
   "source": [
    "fortune500.tail(20)"
   ]
  },
  {
   "cell_type": "code",
   "execution_count": 8,
   "id": "b22a476d",
   "metadata": {},
   "outputs": [
    {
     "data": {
      "text/plain": [
       "Rank\n",
       "481           Booz Allen Hamilton Holding\n",
       "482                              Chemours\n",
       "483    Western & Southern Financial Group\n",
       "484                              Celanese\n",
       "485                   Windstream Holdings\n",
       "486                              Seaboard\n",
       "487                             Essendant\n",
       "488                                Apache\n",
       "489                                Airgas\n",
       "490                        Kelly Services\n",
       "491                         Liberty Media\n",
       "492                      Rockwell Collins\n",
       "493             Robert Half International\n",
       "494                             CH2M Hill\n",
       "495                              Big Lots\n",
       "496                         Michaels Cos.\n",
       "497                         Toll Brothers\n",
       "498                                 Yahoo\n",
       "499                         Vistra Energy\n",
       "500                        ABM Industries\n",
       "Name: Title, dtype: object"
      ]
     },
     "execution_count": 8,
     "metadata": {},
     "output_type": "execute_result"
    }
   ],
   "source": [
    "fortune500[-20:]"
   ]
  },
  {
   "cell_type": "code",
   "execution_count": 9,
   "id": "5e236dff",
   "metadata": {},
   "outputs": [],
   "source": [
    "fortune500 = pd.read_csv(r'D:\\Udemy\\PYTHON_scripts\\course-files\\Fortune_500_2017.csv', usecols=['Title','Employees'], index_col='Title').squeeze()"
   ]
  },
  {
   "cell_type": "code",
   "execution_count": 11,
   "id": "0af491a0",
   "metadata": {},
   "outputs": [
    {
     "data": {
      "text/plain": [
       "72053"
      ]
     },
     "execution_count": 11,
     "metadata": {},
     "output_type": "execute_result"
    }
   ],
   "source": [
    "fortune500['Alphabet']"
   ]
  },
  {
   "cell_type": "code",
   "execution_count": 12,
   "id": "323d8f2a",
   "metadata": {},
   "outputs": [
    {
     "data": {
      "text/plain": [
       "414400"
      ]
     },
     "execution_count": 12,
     "metadata": {},
     "output_type": "execute_result"
    }
   ],
   "source": [
    "fortune500['IBM']"
   ]
  },
  {
   "cell_type": "code",
   "execution_count": 15,
   "id": "fedb7d30",
   "metadata": {},
   "outputs": [
    {
     "data": {
      "text/plain": [
       "17048"
      ]
     },
     "execution_count": 15,
     "metadata": {},
     "output_type": "execute_result"
    }
   ],
   "source": [
    "fortune500['Facebook']"
   ]
  },
  {
   "cell_type": "code",
   "execution_count": 16,
   "id": "b1c50e09",
   "metadata": {},
   "outputs": [
    {
     "data": {
      "text/plain": [
       "116000"
      ]
     },
     "execution_count": 16,
     "metadata": {},
     "output_type": "execute_result"
    }
   ],
   "source": [
    "fortune500['Apple']"
   ]
  },
  {
   "cell_type": "code",
   "execution_count": 17,
   "id": "1406dab7",
   "metadata": {},
   "outputs": [
    {
     "data": {
      "text/plain": [
       "Title\n",
       "IBM                          414400\n",
       "State Farm Insurance Cos.     68234\n",
       "Phillips 66                   14800\n",
       "Johnson & Johnson            126400\n",
       "Procter & Gamble             105000\n",
       "Valero Energy                  9996\n",
       "Target                       323000\n",
       "Freddie Mac                    5982\n",
       "Lowe’s                       240000\n",
       "Dell Technologies            138000\n",
       "MetLife                       58000\n",
       "Aetna                         49500\n",
       "PepsiCo                      264000\n",
       "Archer Daniels Midland        31800\n",
       "UPS                          335520\n",
       "Intel                        106000\n",
       "Name: Employees, dtype: int64"
      ]
     },
     "execution_count": 17,
     "metadata": {},
     "output_type": "execute_result"
    }
   ],
   "source": [
    "fortune500['IBM':'Intel']"
   ]
  },
  {
   "cell_type": "code",
   "execution_count": null,
   "id": "a0fbe772",
   "metadata": {},
   "outputs": [],
   "source": []
  }
 ],
 "metadata": {
  "kernelspec": {
   "display_name": "Python 3 (ipykernel)",
   "language": "python",
   "name": "python3"
  },
  "language_info": {
   "codemirror_mode": {
    "name": "ipython",
    "version": 3
   },
   "file_extension": ".py",
   "mimetype": "text/x-python",
   "name": "python",
   "nbconvert_exporter": "python",
   "pygments_lexer": "ipython3",
   "version": "3.9.12"
  }
 },
 "nbformat": 4,
 "nbformat_minor": 5
}
