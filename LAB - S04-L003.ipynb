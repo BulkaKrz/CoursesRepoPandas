{
 "cells": [
  {
   "cell_type": "markdown",
   "id": "425d95b2",
   "metadata": {},
   "source": [
    "### LAB - S04-L003-Dodawanie i usuwanie wierszy\n",
    "1. Zaimportuj moduł pandas i numpy, nadaj im standardowe aliasy. Do zmiennej professions wczytaj zawartość pliku Prestige.csv. Wyświetl nagłówek obiektu data frame.\n",
    "2. Zdefiniuj słownik w zmiennej dict, który ma klucze takie, jak nazwy kolumn w professions. Wpisz do wartości dla klucza name - data scientist, pozostałe wartości zdefiniuj jako NaN. Wyświetl obiekt w celu weryfikacji.\n",
    "3. Dodaj do professions nowy wiersz zdefiniowany przez słownik dict. W celu weryfikacji wyświetl 5 ostatnich wartości z professions\n",
    "4. Odszukaj w professions wiersza, w którym name to taxi.drivers. Zapisz go do zmiennej taxi i wyświetl.\n",
    "5. Usuń z professions wiersz z indekstem 98 (to właśnie taxi.drivers). Wyświetl 5 ostatnich wartości z professions\n",
    "6. Dodaj wiersz znajdujący się w taxi do professions, w taki sposób, aby wiersz na stałe znajdował sie w zmiennej professions. Wyświetl ostatnich 5 wierszy professions w celu weryfikacji\n",
    "7. Usuń z professions kolumnę census\n",
    "8. Usuń z professions kolumnę type. Wykorzystaj do tego inną metodę niż wykorzystana w poprzednim zadaniu"
   ]
  },
  {
   "cell_type": "code",
   "execution_count": 1,
   "id": "6a68b229",
   "metadata": {},
   "outputs": [],
   "source": [
    "import pandas as pd\n",
    "import numpy as np"
   ]
  },
  {
   "cell_type": "code",
   "execution_count": 2,
   "id": "8fcbb55b",
   "metadata": {},
   "outputs": [],
   "source": [
    "professions = pd.read_csv('.\\course-files\\Prestige.csv')"
   ]
  },
  {
   "cell_type": "code",
   "execution_count": 3,
   "id": "dfb9f364",
   "metadata": {},
   "outputs": [
    {
     "data": {
      "text/html": [
       "<div>\n",
       "<style scoped>\n",
       "    .dataframe tbody tr th:only-of-type {\n",
       "        vertical-align: middle;\n",
       "    }\n",
       "\n",
       "    .dataframe tbody tr th {\n",
       "        vertical-align: top;\n",
       "    }\n",
       "\n",
       "    .dataframe thead th {\n",
       "        text-align: right;\n",
       "    }\n",
       "</style>\n",
       "<table border=\"1\" class=\"dataframe\">\n",
       "  <thead>\n",
       "    <tr style=\"text-align: right;\">\n",
       "      <th></th>\n",
       "      <th>name</th>\n",
       "      <th>education</th>\n",
       "      <th>income</th>\n",
       "      <th>women</th>\n",
       "      <th>prestige</th>\n",
       "      <th>census</th>\n",
       "      <th>type</th>\n",
       "    </tr>\n",
       "  </thead>\n",
       "  <tbody>\n",
       "    <tr>\n",
       "      <th>0</th>\n",
       "      <td>gov.administrators</td>\n",
       "      <td>13.11</td>\n",
       "      <td>12351</td>\n",
       "      <td>11.16</td>\n",
       "      <td>68.8</td>\n",
       "      <td>1113</td>\n",
       "      <td>prof</td>\n",
       "    </tr>\n",
       "    <tr>\n",
       "      <th>1</th>\n",
       "      <td>general.managers</td>\n",
       "      <td>12.26</td>\n",
       "      <td>25879</td>\n",
       "      <td>4.02</td>\n",
       "      <td>69.1</td>\n",
       "      <td>1130</td>\n",
       "      <td>prof</td>\n",
       "    </tr>\n",
       "    <tr>\n",
       "      <th>2</th>\n",
       "      <td>accountants</td>\n",
       "      <td>12.77</td>\n",
       "      <td>9271</td>\n",
       "      <td>15.70</td>\n",
       "      <td>63.4</td>\n",
       "      <td>1171</td>\n",
       "      <td>prof</td>\n",
       "    </tr>\n",
       "    <tr>\n",
       "      <th>3</th>\n",
       "      <td>purchasing.officers</td>\n",
       "      <td>11.42</td>\n",
       "      <td>8865</td>\n",
       "      <td>9.11</td>\n",
       "      <td>56.8</td>\n",
       "      <td>1175</td>\n",
       "      <td>prof</td>\n",
       "    </tr>\n",
       "    <tr>\n",
       "      <th>4</th>\n",
       "      <td>chemists</td>\n",
       "      <td>14.62</td>\n",
       "      <td>8403</td>\n",
       "      <td>11.68</td>\n",
       "      <td>73.5</td>\n",
       "      <td>2111</td>\n",
       "      <td>prof</td>\n",
       "    </tr>\n",
       "  </tbody>\n",
       "</table>\n",
       "</div>"
      ],
      "text/plain": [
       "                  name  education  income  women  prestige  census  type\n",
       "0   gov.administrators      13.11   12351  11.16      68.8    1113  prof\n",
       "1     general.managers      12.26   25879   4.02      69.1    1130  prof\n",
       "2          accountants      12.77    9271  15.70      63.4    1171  prof\n",
       "3  purchasing.officers      11.42    8865   9.11      56.8    1175  prof\n",
       "4             chemists      14.62    8403  11.68      73.5    2111  prof"
      ]
     },
     "execution_count": 3,
     "metadata": {},
     "output_type": "execute_result"
    }
   ],
   "source": [
    "professions.head()"
   ]
  },
  {
   "cell_type": "code",
   "execution_count": 4,
   "id": "4f255763",
   "metadata": {},
   "outputs": [],
   "source": [
    "dict = {'name' : 'data scientist',\n",
    "    'education' : np.NaN,\n",
    "    'income' : np.NaN,\n",
    "    'women' : np.NaN,\n",
    "    'prestige' : np.NaN,\n",
    "    'census' : np.NaN,\n",
    "    'type' : np.NaN }"
   ]
  },
  {
   "cell_type": "code",
   "execution_count": 5,
   "id": "9d56e93c",
   "metadata": {},
   "outputs": [
    {
     "data": {
      "text/plain": [
       "{'name': 'data scientist',\n",
       " 'education': nan,\n",
       " 'income': nan,\n",
       " 'women': nan,\n",
       " 'prestige': nan,\n",
       " 'census': nan,\n",
       " 'type': nan}"
      ]
     },
     "execution_count": 5,
     "metadata": {},
     "output_type": "execute_result"
    }
   ],
   "source": [
    "dict"
   ]
  },
  {
   "cell_type": "code",
   "execution_count": 7,
   "id": "e3afc28d",
   "metadata": {},
   "outputs": [
    {
     "name": "stderr",
     "output_type": "stream",
     "text": [
      "C:\\Users\\user\\AppData\\Local\\Temp\\ipykernel_5960\\2174144886.py:1: FutureWarning: The frame.append method is deprecated and will be removed from pandas in a future version. Use pandas.concat instead.\n",
      "  professions = professions.append(dict, ignore_index=True)\n"
     ]
    }
   ],
   "source": [
    "professions = professions.append(dict, ignore_index=True)"
   ]
  },
  {
   "cell_type": "code",
   "execution_count": 8,
   "id": "8cb31336",
   "metadata": {},
   "outputs": [
    {
     "data": {
      "text/html": [
       "<div>\n",
       "<style scoped>\n",
       "    .dataframe tbody tr th:only-of-type {\n",
       "        vertical-align: middle;\n",
       "    }\n",
       "\n",
       "    .dataframe tbody tr th {\n",
       "        vertical-align: top;\n",
       "    }\n",
       "\n",
       "    .dataframe thead th {\n",
       "        text-align: right;\n",
       "    }\n",
       "</style>\n",
       "<table border=\"1\" class=\"dataframe\">\n",
       "  <thead>\n",
       "    <tr style=\"text-align: right;\">\n",
       "      <th></th>\n",
       "      <th>name</th>\n",
       "      <th>education</th>\n",
       "      <th>income</th>\n",
       "      <th>women</th>\n",
       "      <th>prestige</th>\n",
       "      <th>census</th>\n",
       "      <th>type</th>\n",
       "    </tr>\n",
       "  </thead>\n",
       "  <tbody>\n",
       "    <tr>\n",
       "      <th>98</th>\n",
       "      <td>taxi.drivers</td>\n",
       "      <td>7.93</td>\n",
       "      <td>4224.0</td>\n",
       "      <td>3.59</td>\n",
       "      <td>25.1</td>\n",
       "      <td>9173.0</td>\n",
       "      <td>bc</td>\n",
       "    </tr>\n",
       "    <tr>\n",
       "      <th>99</th>\n",
       "      <td>longshoremen</td>\n",
       "      <td>8.37</td>\n",
       "      <td>4753.0</td>\n",
       "      <td>0.00</td>\n",
       "      <td>26.1</td>\n",
       "      <td>9313.0</td>\n",
       "      <td>bc</td>\n",
       "    </tr>\n",
       "    <tr>\n",
       "      <th>100</th>\n",
       "      <td>typesetters</td>\n",
       "      <td>10.00</td>\n",
       "      <td>6462.0</td>\n",
       "      <td>13.58</td>\n",
       "      <td>42.2</td>\n",
       "      <td>9511.0</td>\n",
       "      <td>bc</td>\n",
       "    </tr>\n",
       "    <tr>\n",
       "      <th>101</th>\n",
       "      <td>bookbinders</td>\n",
       "      <td>8.55</td>\n",
       "      <td>3617.0</td>\n",
       "      <td>70.87</td>\n",
       "      <td>35.2</td>\n",
       "      <td>9517.0</td>\n",
       "      <td>bc</td>\n",
       "    </tr>\n",
       "    <tr>\n",
       "      <th>102</th>\n",
       "      <td>data scientist</td>\n",
       "      <td>NaN</td>\n",
       "      <td>NaN</td>\n",
       "      <td>NaN</td>\n",
       "      <td>NaN</td>\n",
       "      <td>NaN</td>\n",
       "      <td>NaN</td>\n",
       "    </tr>\n",
       "  </tbody>\n",
       "</table>\n",
       "</div>"
      ],
      "text/plain": [
       "               name  education  income  women  prestige  census type\n",
       "98     taxi.drivers       7.93  4224.0   3.59      25.1  9173.0   bc\n",
       "99     longshoremen       8.37  4753.0   0.00      26.1  9313.0   bc\n",
       "100     typesetters      10.00  6462.0  13.58      42.2  9511.0   bc\n",
       "101     bookbinders       8.55  3617.0  70.87      35.2  9517.0   bc\n",
       "102  data scientist        NaN     NaN    NaN       NaN     NaN  NaN"
      ]
     },
     "execution_count": 8,
     "metadata": {},
     "output_type": "execute_result"
    }
   ],
   "source": [
    "professions.tail()"
   ]
  },
  {
   "cell_type": "code",
   "execution_count": 11,
   "id": "4e7b855a",
   "metadata": {},
   "outputs": [
    {
     "data": {
      "text/html": [
       "<div>\n",
       "<style scoped>\n",
       "    .dataframe tbody tr th:only-of-type {\n",
       "        vertical-align: middle;\n",
       "    }\n",
       "\n",
       "    .dataframe tbody tr th {\n",
       "        vertical-align: top;\n",
       "    }\n",
       "\n",
       "    .dataframe thead th {\n",
       "        text-align: right;\n",
       "    }\n",
       "</style>\n",
       "<table border=\"1\" class=\"dataframe\">\n",
       "  <thead>\n",
       "    <tr style=\"text-align: right;\">\n",
       "      <th></th>\n",
       "      <th>name</th>\n",
       "      <th>education</th>\n",
       "      <th>income</th>\n",
       "      <th>women</th>\n",
       "      <th>prestige</th>\n",
       "      <th>census</th>\n",
       "      <th>type</th>\n",
       "    </tr>\n",
       "  </thead>\n",
       "  <tbody>\n",
       "    <tr>\n",
       "      <th>98</th>\n",
       "      <td>taxi.drivers</td>\n",
       "      <td>7.93</td>\n",
       "      <td>4224.0</td>\n",
       "      <td>3.59</td>\n",
       "      <td>25.1</td>\n",
       "      <td>9173.0</td>\n",
       "      <td>bc</td>\n",
       "    </tr>\n",
       "  </tbody>\n",
       "</table>\n",
       "</div>"
      ],
      "text/plain": [
       "            name  education  income  women  prestige  census type\n",
       "98  taxi.drivers       7.93  4224.0   3.59      25.1  9173.0   bc"
      ]
     },
     "execution_count": 11,
     "metadata": {},
     "output_type": "execute_result"
    }
   ],
   "source": [
    "professions.where(professions['name']=='taxi.drivers').dropna()"
   ]
  },
  {
   "cell_type": "code",
   "execution_count": 12,
   "id": "c7d5621a",
   "metadata": {},
   "outputs": [
    {
     "data": {
      "text/html": [
       "<div>\n",
       "<style scoped>\n",
       "    .dataframe tbody tr th:only-of-type {\n",
       "        vertical-align: middle;\n",
       "    }\n",
       "\n",
       "    .dataframe tbody tr th {\n",
       "        vertical-align: top;\n",
       "    }\n",
       "\n",
       "    .dataframe thead th {\n",
       "        text-align: right;\n",
       "    }\n",
       "</style>\n",
       "<table border=\"1\" class=\"dataframe\">\n",
       "  <thead>\n",
       "    <tr style=\"text-align: right;\">\n",
       "      <th></th>\n",
       "      <th>name</th>\n",
       "      <th>education</th>\n",
       "      <th>income</th>\n",
       "      <th>women</th>\n",
       "      <th>prestige</th>\n",
       "      <th>census</th>\n",
       "      <th>type</th>\n",
       "    </tr>\n",
       "  </thead>\n",
       "  <tbody>\n",
       "    <tr>\n",
       "      <th>98</th>\n",
       "      <td>taxi.drivers</td>\n",
       "      <td>7.93</td>\n",
       "      <td>4224.0</td>\n",
       "      <td>3.59</td>\n",
       "      <td>25.1</td>\n",
       "      <td>9173.0</td>\n",
       "      <td>bc</td>\n",
       "    </tr>\n",
       "  </tbody>\n",
       "</table>\n",
       "</div>"
      ],
      "text/plain": [
       "            name  education  income  women  prestige  census type\n",
       "98  taxi.drivers       7.93  4224.0   3.59      25.1  9173.0   bc"
      ]
     },
     "execution_count": 12,
     "metadata": {},
     "output_type": "execute_result"
    }
   ],
   "source": [
    "professions[professions['name'] == 'taxi.drivers']"
   ]
  },
  {
   "cell_type": "code",
   "execution_count": 13,
   "id": "af4c34f4",
   "metadata": {},
   "outputs": [],
   "source": [
    "taxi = professions[professions['name'] == 'taxi.drivers']"
   ]
  },
  {
   "cell_type": "code",
   "execution_count": 14,
   "id": "9f44394f",
   "metadata": {},
   "outputs": [
    {
     "data": {
      "text/html": [
       "<div>\n",
       "<style scoped>\n",
       "    .dataframe tbody tr th:only-of-type {\n",
       "        vertical-align: middle;\n",
       "    }\n",
       "\n",
       "    .dataframe tbody tr th {\n",
       "        vertical-align: top;\n",
       "    }\n",
       "\n",
       "    .dataframe thead th {\n",
       "        text-align: right;\n",
       "    }\n",
       "</style>\n",
       "<table border=\"1\" class=\"dataframe\">\n",
       "  <thead>\n",
       "    <tr style=\"text-align: right;\">\n",
       "      <th></th>\n",
       "      <th>name</th>\n",
       "      <th>education</th>\n",
       "      <th>income</th>\n",
       "      <th>women</th>\n",
       "      <th>prestige</th>\n",
       "      <th>census</th>\n",
       "      <th>type</th>\n",
       "    </tr>\n",
       "  </thead>\n",
       "  <tbody>\n",
       "    <tr>\n",
       "      <th>98</th>\n",
       "      <td>taxi.drivers</td>\n",
       "      <td>7.93</td>\n",
       "      <td>4224.0</td>\n",
       "      <td>3.59</td>\n",
       "      <td>25.1</td>\n",
       "      <td>9173.0</td>\n",
       "      <td>bc</td>\n",
       "    </tr>\n",
       "  </tbody>\n",
       "</table>\n",
       "</div>"
      ],
      "text/plain": [
       "            name  education  income  women  prestige  census type\n",
       "98  taxi.drivers       7.93  4224.0   3.59      25.1  9173.0   bc"
      ]
     },
     "execution_count": 14,
     "metadata": {},
     "output_type": "execute_result"
    }
   ],
   "source": [
    "taxi"
   ]
  },
  {
   "cell_type": "code",
   "execution_count": 15,
   "id": "b3fa1b58",
   "metadata": {},
   "outputs": [
    {
     "data": {
      "text/plain": [
       "0      False\n",
       "1      False\n",
       "2      False\n",
       "3      False\n",
       "4      False\n",
       "       ...  \n",
       "98      True\n",
       "99     False\n",
       "100    False\n",
       "101    False\n",
       "102    False\n",
       "Name: name, Length: 103, dtype: bool"
      ]
     },
     "execution_count": 15,
     "metadata": {},
     "output_type": "execute_result"
    }
   ],
   "source": [
    "professions['name'] == 'taxi.drivers'"
   ]
  },
  {
   "cell_type": "code",
   "execution_count": 17,
   "id": "a486163a",
   "metadata": {},
   "outputs": [],
   "source": [
    "professions.drop(axis=0,index=98,inplace=True)"
   ]
  },
  {
   "cell_type": "code",
   "execution_count": 18,
   "id": "af814ad2",
   "metadata": {},
   "outputs": [
    {
     "data": {
      "text/html": [
       "<div>\n",
       "<style scoped>\n",
       "    .dataframe tbody tr th:only-of-type {\n",
       "        vertical-align: middle;\n",
       "    }\n",
       "\n",
       "    .dataframe tbody tr th {\n",
       "        vertical-align: top;\n",
       "    }\n",
       "\n",
       "    .dataframe thead th {\n",
       "        text-align: right;\n",
       "    }\n",
       "</style>\n",
       "<table border=\"1\" class=\"dataframe\">\n",
       "  <thead>\n",
       "    <tr style=\"text-align: right;\">\n",
       "      <th></th>\n",
       "      <th>name</th>\n",
       "      <th>education</th>\n",
       "      <th>income</th>\n",
       "      <th>women</th>\n",
       "      <th>prestige</th>\n",
       "      <th>census</th>\n",
       "      <th>type</th>\n",
       "    </tr>\n",
       "  </thead>\n",
       "  <tbody>\n",
       "    <tr>\n",
       "      <th>92</th>\n",
       "      <td>house.painters</td>\n",
       "      <td>7.81</td>\n",
       "      <td>4549.0</td>\n",
       "      <td>2.46</td>\n",
       "      <td>29.9</td>\n",
       "      <td>8785.0</td>\n",
       "      <td>bc</td>\n",
       "    </tr>\n",
       "    <tr>\n",
       "      <th>93</th>\n",
       "      <td>plumbers</td>\n",
       "      <td>8.33</td>\n",
       "      <td>6928.0</td>\n",
       "      <td>0.61</td>\n",
       "      <td>42.9</td>\n",
       "      <td>8791.0</td>\n",
       "      <td>bc</td>\n",
       "    </tr>\n",
       "    <tr>\n",
       "      <th>94</th>\n",
       "      <td>construction.labourers</td>\n",
       "      <td>7.52</td>\n",
       "      <td>3910.0</td>\n",
       "      <td>1.09</td>\n",
       "      <td>26.5</td>\n",
       "      <td>8798.0</td>\n",
       "      <td>bc</td>\n",
       "    </tr>\n",
       "    <tr>\n",
       "      <th>95</th>\n",
       "      <td>pilots</td>\n",
       "      <td>12.27</td>\n",
       "      <td>14032.0</td>\n",
       "      <td>0.58</td>\n",
       "      <td>66.1</td>\n",
       "      <td>9111.0</td>\n",
       "      <td>prof</td>\n",
       "    </tr>\n",
       "    <tr>\n",
       "      <th>96</th>\n",
       "      <td>train.engineers</td>\n",
       "      <td>8.49</td>\n",
       "      <td>8845.0</td>\n",
       "      <td>0.00</td>\n",
       "      <td>48.9</td>\n",
       "      <td>9131.0</td>\n",
       "      <td>bc</td>\n",
       "    </tr>\n",
       "    <tr>\n",
       "      <th>97</th>\n",
       "      <td>bus.drivers</td>\n",
       "      <td>7.58</td>\n",
       "      <td>5562.0</td>\n",
       "      <td>9.47</td>\n",
       "      <td>35.9</td>\n",
       "      <td>9171.0</td>\n",
       "      <td>bc</td>\n",
       "    </tr>\n",
       "    <tr>\n",
       "      <th>99</th>\n",
       "      <td>longshoremen</td>\n",
       "      <td>8.37</td>\n",
       "      <td>4753.0</td>\n",
       "      <td>0.00</td>\n",
       "      <td>26.1</td>\n",
       "      <td>9313.0</td>\n",
       "      <td>bc</td>\n",
       "    </tr>\n",
       "    <tr>\n",
       "      <th>100</th>\n",
       "      <td>typesetters</td>\n",
       "      <td>10.00</td>\n",
       "      <td>6462.0</td>\n",
       "      <td>13.58</td>\n",
       "      <td>42.2</td>\n",
       "      <td>9511.0</td>\n",
       "      <td>bc</td>\n",
       "    </tr>\n",
       "    <tr>\n",
       "      <th>101</th>\n",
       "      <td>bookbinders</td>\n",
       "      <td>8.55</td>\n",
       "      <td>3617.0</td>\n",
       "      <td>70.87</td>\n",
       "      <td>35.2</td>\n",
       "      <td>9517.0</td>\n",
       "      <td>bc</td>\n",
       "    </tr>\n",
       "    <tr>\n",
       "      <th>102</th>\n",
       "      <td>data scientist</td>\n",
       "      <td>NaN</td>\n",
       "      <td>NaN</td>\n",
       "      <td>NaN</td>\n",
       "      <td>NaN</td>\n",
       "      <td>NaN</td>\n",
       "      <td>NaN</td>\n",
       "    </tr>\n",
       "  </tbody>\n",
       "</table>\n",
       "</div>"
      ],
      "text/plain": [
       "                       name  education   income  women  prestige  census  type\n",
       "92           house.painters       7.81   4549.0   2.46      29.9  8785.0    bc\n",
       "93                 plumbers       8.33   6928.0   0.61      42.9  8791.0    bc\n",
       "94   construction.labourers       7.52   3910.0   1.09      26.5  8798.0    bc\n",
       "95                   pilots      12.27  14032.0   0.58      66.1  9111.0  prof\n",
       "96          train.engineers       8.49   8845.0   0.00      48.9  9131.0    bc\n",
       "97              bus.drivers       7.58   5562.0   9.47      35.9  9171.0    bc\n",
       "99             longshoremen       8.37   4753.0   0.00      26.1  9313.0    bc\n",
       "100             typesetters      10.00   6462.0  13.58      42.2  9511.0    bc\n",
       "101             bookbinders       8.55   3617.0  70.87      35.2  9517.0    bc\n",
       "102          data scientist        NaN      NaN    NaN       NaN     NaN   NaN"
      ]
     },
     "execution_count": 18,
     "metadata": {},
     "output_type": "execute_result"
    }
   ],
   "source": [
    "professions.tail(10)"
   ]
  },
  {
   "cell_type": "code",
   "execution_count": 19,
   "id": "2dfbd218",
   "metadata": {},
   "outputs": [
    {
     "name": "stderr",
     "output_type": "stream",
     "text": [
      "C:\\Users\\user\\AppData\\Local\\Temp\\ipykernel_5960\\113176898.py:1: FutureWarning: The frame.append method is deprecated and will be removed from pandas in a future version. Use pandas.concat instead.\n",
      "  professions = professions.append(taxi)\n"
     ]
    }
   ],
   "source": [
    "professions = professions.append(taxi)"
   ]
  },
  {
   "cell_type": "code",
   "execution_count": 20,
   "id": "a8322c31",
   "metadata": {},
   "outputs": [
    {
     "data": {
      "text/html": [
       "<div>\n",
       "<style scoped>\n",
       "    .dataframe tbody tr th:only-of-type {\n",
       "        vertical-align: middle;\n",
       "    }\n",
       "\n",
       "    .dataframe tbody tr th {\n",
       "        vertical-align: top;\n",
       "    }\n",
       "\n",
       "    .dataframe thead th {\n",
       "        text-align: right;\n",
       "    }\n",
       "</style>\n",
       "<table border=\"1\" class=\"dataframe\">\n",
       "  <thead>\n",
       "    <tr style=\"text-align: right;\">\n",
       "      <th></th>\n",
       "      <th>name</th>\n",
       "      <th>education</th>\n",
       "      <th>income</th>\n",
       "      <th>women</th>\n",
       "      <th>prestige</th>\n",
       "      <th>census</th>\n",
       "      <th>type</th>\n",
       "    </tr>\n",
       "  </thead>\n",
       "  <tbody>\n",
       "    <tr>\n",
       "      <th>99</th>\n",
       "      <td>longshoremen</td>\n",
       "      <td>8.37</td>\n",
       "      <td>4753.0</td>\n",
       "      <td>0.00</td>\n",
       "      <td>26.1</td>\n",
       "      <td>9313.0</td>\n",
       "      <td>bc</td>\n",
       "    </tr>\n",
       "    <tr>\n",
       "      <th>100</th>\n",
       "      <td>typesetters</td>\n",
       "      <td>10.00</td>\n",
       "      <td>6462.0</td>\n",
       "      <td>13.58</td>\n",
       "      <td>42.2</td>\n",
       "      <td>9511.0</td>\n",
       "      <td>bc</td>\n",
       "    </tr>\n",
       "    <tr>\n",
       "      <th>101</th>\n",
       "      <td>bookbinders</td>\n",
       "      <td>8.55</td>\n",
       "      <td>3617.0</td>\n",
       "      <td>70.87</td>\n",
       "      <td>35.2</td>\n",
       "      <td>9517.0</td>\n",
       "      <td>bc</td>\n",
       "    </tr>\n",
       "    <tr>\n",
       "      <th>102</th>\n",
       "      <td>data scientist</td>\n",
       "      <td>NaN</td>\n",
       "      <td>NaN</td>\n",
       "      <td>NaN</td>\n",
       "      <td>NaN</td>\n",
       "      <td>NaN</td>\n",
       "      <td>NaN</td>\n",
       "    </tr>\n",
       "    <tr>\n",
       "      <th>98</th>\n",
       "      <td>taxi.drivers</td>\n",
       "      <td>7.93</td>\n",
       "      <td>4224.0</td>\n",
       "      <td>3.59</td>\n",
       "      <td>25.1</td>\n",
       "      <td>9173.0</td>\n",
       "      <td>bc</td>\n",
       "    </tr>\n",
       "  </tbody>\n",
       "</table>\n",
       "</div>"
      ],
      "text/plain": [
       "               name  education  income  women  prestige  census type\n",
       "99     longshoremen       8.37  4753.0   0.00      26.1  9313.0   bc\n",
       "100     typesetters      10.00  6462.0  13.58      42.2  9511.0   bc\n",
       "101     bookbinders       8.55  3617.0  70.87      35.2  9517.0   bc\n",
       "102  data scientist        NaN     NaN    NaN       NaN     NaN  NaN\n",
       "98     taxi.drivers       7.93  4224.0   3.59      25.1  9173.0   bc"
      ]
     },
     "execution_count": 20,
     "metadata": {},
     "output_type": "execute_result"
    }
   ],
   "source": [
    "professions.tail()"
   ]
  },
  {
   "cell_type": "code",
   "execution_count": 21,
   "id": "48bfc8a6",
   "metadata": {},
   "outputs": [],
   "source": [
    "del professions['census']"
   ]
  },
  {
   "cell_type": "code",
   "execution_count": 23,
   "id": "a1c9eaad",
   "metadata": {},
   "outputs": [],
   "source": [
    "professions.drop(columns='type', inplace=True)"
   ]
  },
  {
   "cell_type": "code",
   "execution_count": 24,
   "id": "faac3e23",
   "metadata": {},
   "outputs": [
    {
     "data": {
      "text/html": [
       "<div>\n",
       "<style scoped>\n",
       "    .dataframe tbody tr th:only-of-type {\n",
       "        vertical-align: middle;\n",
       "    }\n",
       "\n",
       "    .dataframe tbody tr th {\n",
       "        vertical-align: top;\n",
       "    }\n",
       "\n",
       "    .dataframe thead th {\n",
       "        text-align: right;\n",
       "    }\n",
       "</style>\n",
       "<table border=\"1\" class=\"dataframe\">\n",
       "  <thead>\n",
       "    <tr style=\"text-align: right;\">\n",
       "      <th></th>\n",
       "      <th>name</th>\n",
       "      <th>education</th>\n",
       "      <th>income</th>\n",
       "      <th>women</th>\n",
       "      <th>prestige</th>\n",
       "    </tr>\n",
       "  </thead>\n",
       "  <tbody>\n",
       "    <tr>\n",
       "      <th>0</th>\n",
       "      <td>gov.administrators</td>\n",
       "      <td>13.11</td>\n",
       "      <td>12351.0</td>\n",
       "      <td>11.16</td>\n",
       "      <td>68.8</td>\n",
       "    </tr>\n",
       "    <tr>\n",
       "      <th>1</th>\n",
       "      <td>general.managers</td>\n",
       "      <td>12.26</td>\n",
       "      <td>25879.0</td>\n",
       "      <td>4.02</td>\n",
       "      <td>69.1</td>\n",
       "    </tr>\n",
       "    <tr>\n",
       "      <th>2</th>\n",
       "      <td>accountants</td>\n",
       "      <td>12.77</td>\n",
       "      <td>9271.0</td>\n",
       "      <td>15.70</td>\n",
       "      <td>63.4</td>\n",
       "    </tr>\n",
       "    <tr>\n",
       "      <th>3</th>\n",
       "      <td>purchasing.officers</td>\n",
       "      <td>11.42</td>\n",
       "      <td>8865.0</td>\n",
       "      <td>9.11</td>\n",
       "      <td>56.8</td>\n",
       "    </tr>\n",
       "    <tr>\n",
       "      <th>4</th>\n",
       "      <td>chemists</td>\n",
       "      <td>14.62</td>\n",
       "      <td>8403.0</td>\n",
       "      <td>11.68</td>\n",
       "      <td>73.5</td>\n",
       "    </tr>\n",
       "  </tbody>\n",
       "</table>\n",
       "</div>"
      ],
      "text/plain": [
       "                  name  education   income  women  prestige\n",
       "0   gov.administrators      13.11  12351.0  11.16      68.8\n",
       "1     general.managers      12.26  25879.0   4.02      69.1\n",
       "2          accountants      12.77   9271.0  15.70      63.4\n",
       "3  purchasing.officers      11.42   8865.0   9.11      56.8\n",
       "4             chemists      14.62   8403.0  11.68      73.5"
      ]
     },
     "execution_count": 24,
     "metadata": {},
     "output_type": "execute_result"
    }
   ],
   "source": [
    "professions.head()"
   ]
  },
  {
   "cell_type": "code",
   "execution_count": null,
   "id": "ec99e3de",
   "metadata": {},
   "outputs": [],
   "source": []
  }
 ],
 "metadata": {
  "kernelspec": {
   "display_name": "Python 3 (ipykernel)",
   "language": "python",
   "name": "python3"
  },
  "language_info": {
   "codemirror_mode": {
    "name": "ipython",
    "version": 3
   },
   "file_extension": ".py",
   "mimetype": "text/x-python",
   "name": "python",
   "nbconvert_exporter": "python",
   "pygments_lexer": "ipython3",
   "version": "3.9.12"
  }
 },
 "nbformat": 4,
 "nbformat_minor": 5
}
