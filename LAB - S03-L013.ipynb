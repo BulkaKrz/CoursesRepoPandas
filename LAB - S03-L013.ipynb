{
 "cells": [
  {
   "cell_type": "markdown",
   "id": "0746c3c9",
   "metadata": {},
   "source": [
    "### LAB - S03-L013-LAB Duplikaty w data frame\n",
    "1. Zaimportuj moduł pandas oraz numpy i nadaj im standardowe aliasy. Do zmiennej surveys wczytaj zawartość pliku StackOverflowDeveloperSurvey2018.csv. Pobierz tylko następujące kolumny:\n",
    "        'Country','Gender','OperatingSystem'. Skorzystaj z parametru low_memory=False. \n",
    "    Wyświetl nagłówektak utworzonego Data Frame.\n",
    "2. Sprawdź czy kolumna Country zawiera wartości unikalne\n",
    "3. Wyznacz wszystkie kraje, z jakich pochodzą uczestnicy ankiety. (Wystarczy jak wyświetlisz pierwszychkilka)\n",
    "4. Policz ile tych krajów jest (raz pomijając wartość NaN a raz uwzględniając ją)\n",
    "5. Utwórz serię wartości True/False duplicatesKeepFirst zawierającą informacje o tym czy wystąpienie kraju w surveys jest pierwsze czy kolejne.\n",
    "6. Wyświetl pierwszych kilka ankiet, które pochodzą z różnych krajów (skorzystaj z duplicatedKeepFirst) \n",
    "7. Ile krajów zostanie zwróconych w poprzednim punkcie? Nim uruchomisz odpowiednie polecenie, spróbuj przewidzieć tą wartość.\n",
    "8. Usuń powtarzające się wiersze ze względu na wartości w kolumnach 'Country', 'OperatingSystem'\n",
    "9. Wyświetl pozostałe w dataframe surveys wiersze dotyczące Twojego kraju"
   ]
  },
  {
   "cell_type": "code",
   "execution_count": 1,
   "id": "7aebf8ac",
   "metadata": {},
   "outputs": [],
   "source": [
    "import pandas as pd\n",
    "import numpy as np"
   ]
  },
  {
   "cell_type": "code",
   "execution_count": 2,
   "id": "463739b9",
   "metadata": {},
   "outputs": [],
   "source": [
    "surveys = pd.read_csv('./course-files/StackOverflowDeveloperSurvey2018.csv', \n",
    "                      usecols=['Country','Gender','OperatingSystem'], low_memory=False)"
   ]
  },
  {
   "cell_type": "code",
   "execution_count": 3,
   "id": "89883956",
   "metadata": {},
   "outputs": [
    {
     "data": {
      "text/html": [
       "<div>\n",
       "<style scoped>\n",
       "    .dataframe tbody tr th:only-of-type {\n",
       "        vertical-align: middle;\n",
       "    }\n",
       "\n",
       "    .dataframe tbody tr th {\n",
       "        vertical-align: top;\n",
       "    }\n",
       "\n",
       "    .dataframe thead th {\n",
       "        text-align: right;\n",
       "    }\n",
       "</style>\n",
       "<table border=\"1\" class=\"dataframe\">\n",
       "  <thead>\n",
       "    <tr style=\"text-align: right;\">\n",
       "      <th></th>\n",
       "      <th>Country</th>\n",
       "      <th>OperatingSystem</th>\n",
       "      <th>Gender</th>\n",
       "    </tr>\n",
       "  </thead>\n",
       "  <tbody>\n",
       "    <tr>\n",
       "      <th>0</th>\n",
       "      <td>Kenya</td>\n",
       "      <td>Linux-based</td>\n",
       "      <td>Male</td>\n",
       "    </tr>\n",
       "    <tr>\n",
       "      <th>1</th>\n",
       "      <td>United Kingdom</td>\n",
       "      <td>Linux-based</td>\n",
       "      <td>Male</td>\n",
       "    </tr>\n",
       "    <tr>\n",
       "      <th>2</th>\n",
       "      <td>United States</td>\n",
       "      <td>NaN</td>\n",
       "      <td>NaN</td>\n",
       "    </tr>\n",
       "    <tr>\n",
       "      <th>3</th>\n",
       "      <td>United States</td>\n",
       "      <td>Windows</td>\n",
       "      <td>Male</td>\n",
       "    </tr>\n",
       "    <tr>\n",
       "      <th>4</th>\n",
       "      <td>South Africa</td>\n",
       "      <td>Windows</td>\n",
       "      <td>Male</td>\n",
       "    </tr>\n",
       "  </tbody>\n",
       "</table>\n",
       "</div>"
      ],
      "text/plain": [
       "          Country OperatingSystem Gender\n",
       "0           Kenya     Linux-based   Male\n",
       "1  United Kingdom     Linux-based   Male\n",
       "2   United States             NaN    NaN\n",
       "3   United States         Windows   Male\n",
       "4    South Africa         Windows   Male"
      ]
     },
     "execution_count": 3,
     "metadata": {},
     "output_type": "execute_result"
    }
   ],
   "source": [
    "surveys.head()"
   ]
  },
  {
   "cell_type": "code",
   "execution_count": 4,
   "id": "3baed61b",
   "metadata": {},
   "outputs": [
    {
     "data": {
      "text/plain": [
       "(98855, 3)"
      ]
     },
     "execution_count": 4,
     "metadata": {},
     "output_type": "execute_result"
    }
   ],
   "source": [
    "surveys.shape"
   ]
  },
  {
   "cell_type": "code",
   "execution_count": 6,
   "id": "23ec1238",
   "metadata": {},
   "outputs": [
    {
     "data": {
      "text/plain": [
       "False"
      ]
     },
     "execution_count": 6,
     "metadata": {},
     "output_type": "execute_result"
    }
   ],
   "source": [
    "surveys['Country'].is_unique"
   ]
  },
  {
   "cell_type": "code",
   "execution_count": 9,
   "id": "f09d8bcc",
   "metadata": {},
   "outputs": [
    {
     "data": {
      "text/plain": [
       "array(['Kenya', 'United Kingdom', 'United States', 'South Africa',\n",
       "       'Nigeria', 'India', 'Spain', 'Croatia', 'Netherlands', 'Israel',\n",
       "       'Sweden', 'Chile', 'Australia', 'Greece', 'Poland', 'Belgium',\n",
       "       'Argentina', 'Germany', 'Russian Federation', 'Indonesia'],\n",
       "      dtype=object)"
      ]
     },
     "execution_count": 9,
     "metadata": {},
     "output_type": "execute_result"
    }
   ],
   "source": [
    "surveys['Country'].unique()[:20]"
   ]
  },
  {
   "cell_type": "code",
   "execution_count": 10,
   "id": "805f3e71",
   "metadata": {},
   "outputs": [
    {
     "data": {
      "text/plain": [
       "184"
      ]
     },
     "execution_count": 10,
     "metadata": {},
     "output_type": "execute_result"
    }
   ],
   "source": [
    "len(surveys['Country'].unique())"
   ]
  },
  {
   "cell_type": "code",
   "execution_count": 11,
   "id": "c8099f19",
   "metadata": {},
   "outputs": [
    {
     "data": {
      "text/plain": [
       "183"
      ]
     },
     "execution_count": 11,
     "metadata": {},
     "output_type": "execute_result"
    }
   ],
   "source": [
    "surveys['Country'].nunique()"
   ]
  },
  {
   "cell_type": "code",
   "execution_count": 12,
   "id": "0d718e71",
   "metadata": {},
   "outputs": [],
   "source": [
    "duplicatesKeepFirst = surveys.duplicated(subset='Country')"
   ]
  },
  {
   "cell_type": "code",
   "execution_count": 13,
   "id": "227a4bf3",
   "metadata": {},
   "outputs": [
    {
     "data": {
      "text/plain": [
       "0    False\n",
       "1    False\n",
       "2    False\n",
       "3     True\n",
       "4    False\n",
       "dtype: bool"
      ]
     },
     "execution_count": 13,
     "metadata": {},
     "output_type": "execute_result"
    }
   ],
   "source": [
    "duplicatesKeepFirst.head()"
   ]
  },
  {
   "cell_type": "code",
   "execution_count": 14,
   "id": "53c39f66",
   "metadata": {},
   "outputs": [
    {
     "data": {
      "text/html": [
       "<div>\n",
       "<style scoped>\n",
       "    .dataframe tbody tr th:only-of-type {\n",
       "        vertical-align: middle;\n",
       "    }\n",
       "\n",
       "    .dataframe tbody tr th {\n",
       "        vertical-align: top;\n",
       "    }\n",
       "\n",
       "    .dataframe thead th {\n",
       "        text-align: right;\n",
       "    }\n",
       "</style>\n",
       "<table border=\"1\" class=\"dataframe\">\n",
       "  <thead>\n",
       "    <tr style=\"text-align: right;\">\n",
       "      <th></th>\n",
       "      <th>Country</th>\n",
       "      <th>OperatingSystem</th>\n",
       "      <th>Gender</th>\n",
       "    </tr>\n",
       "  </thead>\n",
       "  <tbody>\n",
       "    <tr>\n",
       "      <th>0</th>\n",
       "      <td>Kenya</td>\n",
       "      <td>Linux-based</td>\n",
       "      <td>Male</td>\n",
       "    </tr>\n",
       "    <tr>\n",
       "      <th>1</th>\n",
       "      <td>United Kingdom</td>\n",
       "      <td>Linux-based</td>\n",
       "      <td>Male</td>\n",
       "    </tr>\n",
       "    <tr>\n",
       "      <th>2</th>\n",
       "      <td>United States</td>\n",
       "      <td>NaN</td>\n",
       "      <td>NaN</td>\n",
       "    </tr>\n",
       "    <tr>\n",
       "      <th>4</th>\n",
       "      <td>South Africa</td>\n",
       "      <td>Windows</td>\n",
       "      <td>Male</td>\n",
       "    </tr>\n",
       "    <tr>\n",
       "      <th>7</th>\n",
       "      <td>Nigeria</td>\n",
       "      <td>Windows</td>\n",
       "      <td>Female</td>\n",
       "    </tr>\n",
       "  </tbody>\n",
       "</table>\n",
       "</div>"
      ],
      "text/plain": [
       "          Country OperatingSystem  Gender\n",
       "0           Kenya     Linux-based    Male\n",
       "1  United Kingdom     Linux-based    Male\n",
       "2   United States             NaN     NaN\n",
       "4    South Africa         Windows    Male\n",
       "7         Nigeria         Windows  Female"
      ]
     },
     "execution_count": 14,
     "metadata": {},
     "output_type": "execute_result"
    }
   ],
   "source": [
    "surveys[~duplicatesKeepFirst].head()"
   ]
  },
  {
   "cell_type": "code",
   "execution_count": 15,
   "id": "9d4fe412",
   "metadata": {},
   "outputs": [
    {
     "data": {
      "text/plain": [
       "184"
      ]
     },
     "execution_count": 15,
     "metadata": {},
     "output_type": "execute_result"
    }
   ],
   "source": [
    "len(surveys[~duplicatesKeepFirst])"
   ]
  },
  {
   "cell_type": "code",
   "execution_count": 18,
   "id": "f8456b09",
   "metadata": {},
   "outputs": [],
   "source": [
    "surveys.drop_duplicates(subset=['Country', 'OperatingSystem'], inplace=True)"
   ]
  },
  {
   "cell_type": "code",
   "execution_count": 19,
   "id": "004b008c",
   "metadata": {},
   "outputs": [
    {
     "data": {
      "text/html": [
       "<div>\n",
       "<style scoped>\n",
       "    .dataframe tbody tr th:only-of-type {\n",
       "        vertical-align: middle;\n",
       "    }\n",
       "\n",
       "    .dataframe tbody tr th {\n",
       "        vertical-align: top;\n",
       "    }\n",
       "\n",
       "    .dataframe thead th {\n",
       "        text-align: right;\n",
       "    }\n",
       "</style>\n",
       "<table border=\"1\" class=\"dataframe\">\n",
       "  <thead>\n",
       "    <tr style=\"text-align: right;\">\n",
       "      <th></th>\n",
       "      <th>Country</th>\n",
       "      <th>OperatingSystem</th>\n",
       "      <th>Gender</th>\n",
       "    </tr>\n",
       "  </thead>\n",
       "  <tbody>\n",
       "    <tr>\n",
       "      <th>30</th>\n",
       "      <td>Poland</td>\n",
       "      <td>Linux-based</td>\n",
       "      <td>Male</td>\n",
       "    </tr>\n",
       "    <tr>\n",
       "      <th>34</th>\n",
       "      <td>Poland</td>\n",
       "      <td>Windows</td>\n",
       "      <td>Male</td>\n",
       "    </tr>\n",
       "    <tr>\n",
       "      <th>232</th>\n",
       "      <td>Poland</td>\n",
       "      <td>NaN</td>\n",
       "      <td>NaN</td>\n",
       "    </tr>\n",
       "    <tr>\n",
       "      <th>854</th>\n",
       "      <td>Poland</td>\n",
       "      <td>MacOS</td>\n",
       "      <td>Male</td>\n",
       "    </tr>\n",
       "    <tr>\n",
       "      <th>72587</th>\n",
       "      <td>Poland</td>\n",
       "      <td>BSD/Unix</td>\n",
       "      <td>NaN</td>\n",
       "    </tr>\n",
       "  </tbody>\n",
       "</table>\n",
       "</div>"
      ],
      "text/plain": [
       "      Country OperatingSystem Gender\n",
       "30     Poland     Linux-based   Male\n",
       "34     Poland         Windows   Male\n",
       "232    Poland             NaN    NaN\n",
       "854    Poland           MacOS   Male\n",
       "72587  Poland        BSD/Unix    NaN"
      ]
     },
     "execution_count": 19,
     "metadata": {},
     "output_type": "execute_result"
    }
   ],
   "source": [
    "surveys.query('Country == \"Poland\"')"
   ]
  },
  {
   "cell_type": "code",
   "execution_count": 22,
   "id": "dc204a10",
   "metadata": {},
   "outputs": [],
   "source": [
    "isPoland = surveys.where(surveys['Country'] == \"Poland\")"
   ]
  },
  {
   "cell_type": "code",
   "execution_count": 27,
   "id": "52250f0b",
   "metadata": {},
   "outputs": [
    {
     "data": {
      "text/html": [
       "<div>\n",
       "<style scoped>\n",
       "    .dataframe tbody tr th:only-of-type {\n",
       "        vertical-align: middle;\n",
       "    }\n",
       "\n",
       "    .dataframe tbody tr th {\n",
       "        vertical-align: top;\n",
       "    }\n",
       "\n",
       "    .dataframe thead th {\n",
       "        text-align: right;\n",
       "    }\n",
       "</style>\n",
       "<table border=\"1\" class=\"dataframe\">\n",
       "  <thead>\n",
       "    <tr style=\"text-align: right;\">\n",
       "      <th></th>\n",
       "      <th>Country</th>\n",
       "      <th>OperatingSystem</th>\n",
       "      <th>Gender</th>\n",
       "    </tr>\n",
       "  </thead>\n",
       "  <tbody>\n",
       "    <tr>\n",
       "      <th>30</th>\n",
       "      <td>Poland</td>\n",
       "      <td>Linux-based</td>\n",
       "      <td>Male</td>\n",
       "    </tr>\n",
       "    <tr>\n",
       "      <th>34</th>\n",
       "      <td>Poland</td>\n",
       "      <td>Windows</td>\n",
       "      <td>Male</td>\n",
       "    </tr>\n",
       "    <tr>\n",
       "      <th>232</th>\n",
       "      <td>Poland</td>\n",
       "      <td>NaN</td>\n",
       "      <td>NaN</td>\n",
       "    </tr>\n",
       "    <tr>\n",
       "      <th>854</th>\n",
       "      <td>Poland</td>\n",
       "      <td>MacOS</td>\n",
       "      <td>Male</td>\n",
       "    </tr>\n",
       "    <tr>\n",
       "      <th>72587</th>\n",
       "      <td>Poland</td>\n",
       "      <td>BSD/Unix</td>\n",
       "      <td>NaN</td>\n",
       "    </tr>\n",
       "  </tbody>\n",
       "</table>\n",
       "</div>"
      ],
      "text/plain": [
       "      Country OperatingSystem Gender\n",
       "30     Poland     Linux-based   Male\n",
       "34     Poland         Windows   Male\n",
       "232    Poland             NaN    NaN\n",
       "854    Poland           MacOS   Male\n",
       "72587  Poland        BSD/Unix    NaN"
      ]
     },
     "execution_count": 27,
     "metadata": {},
     "output_type": "execute_result"
    }
   ],
   "source": [
    "isPoland.dropna(subset='Country')"
   ]
  },
  {
   "cell_type": "code",
   "execution_count": null,
   "id": "053bdc4b",
   "metadata": {},
   "outputs": [],
   "source": []
  }
 ],
 "metadata": {
  "kernelspec": {
   "display_name": "Python 3 (ipykernel)",
   "language": "python",
   "name": "python3"
  },
  "language_info": {
   "codemirror_mode": {
    "name": "ipython",
    "version": 3
   },
   "file_extension": ".py",
   "mimetype": "text/x-python",
   "name": "python",
   "nbconvert_exporter": "python",
   "pygments_lexer": "ipython3",
   "version": "3.9.12"
  }
 },
 "nbformat": 4,
 "nbformat_minor": 5
}
