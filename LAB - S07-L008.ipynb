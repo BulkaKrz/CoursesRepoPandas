{
 "cells": [
  {
   "cell_type": "markdown",
   "id": "4b52fd40",
   "metadata": {},
   "source": [
    "### LAB - S07-L008 - merge wielu obiektów data frame\n",
    "1. Zaimportuj moduł pandas i numpy nadaj im standardowe aliasy\n",
    "2. Do zmiennej suppliers zaimportuj zawartość pliku suppliers.csv. Pobierz tylko kolumny SupplierID, CompanyName, City\n",
    "3. Do zmiennej products zaimportuj zawartość pliku products.csv. Pobierz tylko kolumny ProductID, ProductName, SupplierID, CategoryID\n",
    "4. Do zmiennej categories zaimportuj zawartość pliku categories1.csv. Pobierz tylko kolumny CategoryID i CategoryName. Kolumna CategoryID ma być indeksem.\n",
    "5. Połącz products i categories korzystając z CategoryID. Wynik zapisz w nowej zmiennej prod_cat\n",
    "6. Połącz prod_cat z suppliers korzytając z SupplierID. Wynik zapisz w nowej zmiennej prod_cat_sup\n",
    "7. Wykonaj złączenia opisane w krokach (5) i (6), ale bez stosowania pomocniczych zmiennych\n"
   ]
  },
  {
   "cell_type": "code",
   "execution_count": 1,
   "id": "0342a5d9",
   "metadata": {},
   "outputs": [],
   "source": [
    "import pandas as pd\n",
    "import numpy as np"
   ]
  },
  {
   "cell_type": "code",
   "execution_count": 2,
   "id": "9bdbb0e8",
   "metadata": {},
   "outputs": [],
   "source": [
    "suppliers = pd.read_csv('./course-files/northwind-mongo-master/suppliers.csv', \n",
    "                        usecols=['SupplierID', 'CompanyName', 'City'])"
   ]
  },
  {
   "cell_type": "code",
   "execution_count": 3,
   "id": "68ccc155",
   "metadata": {},
   "outputs": [],
   "source": [
    "products = pd.read_csv('./course-files/northwind-mongo-master/products.csv', \n",
    "                        usecols=['ProductID', 'ProductName', 'SupplierID', 'CategoryID'])"
   ]
  },
  {
   "cell_type": "code",
   "execution_count": 4,
   "id": "7249f602",
   "metadata": {},
   "outputs": [],
   "source": [
    "categories = pd.read_csv('./course-files/northwind-mongo-master/categories1.csv', \n",
    "                        usecols=['CategoryID', 'CategoryName'] , index_col='CategoryID')"
   ]
  },
  {
   "cell_type": "code",
   "execution_count": 5,
   "id": "c15db5b9",
   "metadata": {},
   "outputs": [],
   "source": [
    "prod_cat = products.merge(categories, left_on='CategoryID', right_index=True)"
   ]
  },
  {
   "cell_type": "code",
   "execution_count": 6,
   "id": "ca9f2f0d",
   "metadata": {},
   "outputs": [
    {
     "data": {
      "text/html": [
       "<div>\n",
       "<style scoped>\n",
       "    .dataframe tbody tr th:only-of-type {\n",
       "        vertical-align: middle;\n",
       "    }\n",
       "\n",
       "    .dataframe tbody tr th {\n",
       "        vertical-align: top;\n",
       "    }\n",
       "\n",
       "    .dataframe thead th {\n",
       "        text-align: right;\n",
       "    }\n",
       "</style>\n",
       "<table border=\"1\" class=\"dataframe\">\n",
       "  <thead>\n",
       "    <tr style=\"text-align: right;\">\n",
       "      <th></th>\n",
       "      <th>ProductID</th>\n",
       "      <th>ProductName</th>\n",
       "      <th>SupplierID</th>\n",
       "      <th>CategoryID</th>\n",
       "      <th>CategoryName</th>\n",
       "    </tr>\n",
       "  </thead>\n",
       "  <tbody>\n",
       "    <tr>\n",
       "      <th>0</th>\n",
       "      <td>1</td>\n",
       "      <td>Chai</td>\n",
       "      <td>1</td>\n",
       "      <td>1</td>\n",
       "      <td>Beverages</td>\n",
       "    </tr>\n",
       "    <tr>\n",
       "      <th>1</th>\n",
       "      <td>2</td>\n",
       "      <td>Chang</td>\n",
       "      <td>1</td>\n",
       "      <td>1</td>\n",
       "      <td>Beverages</td>\n",
       "    </tr>\n",
       "    <tr>\n",
       "      <th>23</th>\n",
       "      <td>24</td>\n",
       "      <td>Guaraná Fantástica</td>\n",
       "      <td>10</td>\n",
       "      <td>1</td>\n",
       "      <td>Beverages</td>\n",
       "    </tr>\n",
       "  </tbody>\n",
       "</table>\n",
       "</div>"
      ],
      "text/plain": [
       "    ProductID         ProductName  SupplierID  CategoryID CategoryName\n",
       "0           1                Chai           1           1    Beverages\n",
       "1           2               Chang           1           1    Beverages\n",
       "23         24  Guaraná Fantástica          10           1    Beverages"
      ]
     },
     "execution_count": 6,
     "metadata": {},
     "output_type": "execute_result"
    }
   ],
   "source": [
    "prod_cat.head(3)"
   ]
  },
  {
   "cell_type": "code",
   "execution_count": 7,
   "id": "f8af66df",
   "metadata": {},
   "outputs": [],
   "source": [
    "prod_cat_sup = prod_cat.merge(suppliers, on='SupplierID')"
   ]
  },
  {
   "cell_type": "code",
   "execution_count": 8,
   "id": "f08bdc2e",
   "metadata": {},
   "outputs": [
    {
     "data": {
      "text/html": [
       "<div>\n",
       "<style scoped>\n",
       "    .dataframe tbody tr th:only-of-type {\n",
       "        vertical-align: middle;\n",
       "    }\n",
       "\n",
       "    .dataframe tbody tr th {\n",
       "        vertical-align: top;\n",
       "    }\n",
       "\n",
       "    .dataframe thead th {\n",
       "        text-align: right;\n",
       "    }\n",
       "</style>\n",
       "<table border=\"1\" class=\"dataframe\">\n",
       "  <thead>\n",
       "    <tr style=\"text-align: right;\">\n",
       "      <th></th>\n",
       "      <th>ProductID</th>\n",
       "      <th>ProductName</th>\n",
       "      <th>SupplierID</th>\n",
       "      <th>CategoryID</th>\n",
       "      <th>CategoryName</th>\n",
       "      <th>CompanyName</th>\n",
       "      <th>City</th>\n",
       "    </tr>\n",
       "  </thead>\n",
       "  <tbody>\n",
       "    <tr>\n",
       "      <th>0</th>\n",
       "      <td>1</td>\n",
       "      <td>Chai</td>\n",
       "      <td>1</td>\n",
       "      <td>1</td>\n",
       "      <td>Beverages</td>\n",
       "      <td>Exotic Liquids</td>\n",
       "      <td>London</td>\n",
       "    </tr>\n",
       "    <tr>\n",
       "      <th>1</th>\n",
       "      <td>2</td>\n",
       "      <td>Chang</td>\n",
       "      <td>1</td>\n",
       "      <td>1</td>\n",
       "      <td>Beverages</td>\n",
       "      <td>Exotic Liquids</td>\n",
       "      <td>London</td>\n",
       "    </tr>\n",
       "    <tr>\n",
       "      <th>2</th>\n",
       "      <td>3</td>\n",
       "      <td>Aniseed Syrup</td>\n",
       "      <td>1</td>\n",
       "      <td>2</td>\n",
       "      <td>Condiments</td>\n",
       "      <td>Exotic Liquids</td>\n",
       "      <td>London</td>\n",
       "    </tr>\n",
       "  </tbody>\n",
       "</table>\n",
       "</div>"
      ],
      "text/plain": [
       "   ProductID    ProductName  SupplierID  CategoryID CategoryName  \\\n",
       "0          1           Chai           1           1    Beverages   \n",
       "1          2          Chang           1           1    Beverages   \n",
       "2          3  Aniseed Syrup           1           2   Condiments   \n",
       "\n",
       "      CompanyName    City  \n",
       "0  Exotic Liquids  London  \n",
       "1  Exotic Liquids  London  \n",
       "2  Exotic Liquids  London  "
      ]
     },
     "execution_count": 8,
     "metadata": {},
     "output_type": "execute_result"
    }
   ],
   "source": [
    "prod_cat_sup.head(3)"
   ]
  },
  {
   "cell_type": "code",
   "execution_count": 9,
   "id": "54c624ee",
   "metadata": {},
   "outputs": [
    {
     "data": {
      "text/html": [
       "<div>\n",
       "<style scoped>\n",
       "    .dataframe tbody tr th:only-of-type {\n",
       "        vertical-align: middle;\n",
       "    }\n",
       "\n",
       "    .dataframe tbody tr th {\n",
       "        vertical-align: top;\n",
       "    }\n",
       "\n",
       "    .dataframe thead th {\n",
       "        text-align: right;\n",
       "    }\n",
       "</style>\n",
       "<table border=\"1\" class=\"dataframe\">\n",
       "  <thead>\n",
       "    <tr style=\"text-align: right;\">\n",
       "      <th></th>\n",
       "      <th>ProductID</th>\n",
       "      <th>ProductName</th>\n",
       "      <th>SupplierID</th>\n",
       "      <th>CategoryID</th>\n",
       "      <th>CategoryName</th>\n",
       "      <th>CompanyName</th>\n",
       "      <th>City</th>\n",
       "    </tr>\n",
       "  </thead>\n",
       "  <tbody>\n",
       "    <tr>\n",
       "      <th>0</th>\n",
       "      <td>1</td>\n",
       "      <td>Chai</td>\n",
       "      <td>1</td>\n",
       "      <td>1</td>\n",
       "      <td>Beverages</td>\n",
       "      <td>Exotic Liquids</td>\n",
       "      <td>London</td>\n",
       "    </tr>\n",
       "    <tr>\n",
       "      <th>1</th>\n",
       "      <td>2</td>\n",
       "      <td>Chang</td>\n",
       "      <td>1</td>\n",
       "      <td>1</td>\n",
       "      <td>Beverages</td>\n",
       "      <td>Exotic Liquids</td>\n",
       "      <td>London</td>\n",
       "    </tr>\n",
       "    <tr>\n",
       "      <th>2</th>\n",
       "      <td>3</td>\n",
       "      <td>Aniseed Syrup</td>\n",
       "      <td>1</td>\n",
       "      <td>2</td>\n",
       "      <td>Condiments</td>\n",
       "      <td>Exotic Liquids</td>\n",
       "      <td>London</td>\n",
       "    </tr>\n",
       "  </tbody>\n",
       "</table>\n",
       "</div>"
      ],
      "text/plain": [
       "   ProductID    ProductName  SupplierID  CategoryID CategoryName  \\\n",
       "0          1           Chai           1           1    Beverages   \n",
       "1          2          Chang           1           1    Beverages   \n",
       "2          3  Aniseed Syrup           1           2   Condiments   \n",
       "\n",
       "      CompanyName    City  \n",
       "0  Exotic Liquids  London  \n",
       "1  Exotic Liquids  London  \n",
       "2  Exotic Liquids  London  "
      ]
     },
     "execution_count": 9,
     "metadata": {},
     "output_type": "execute_result"
    }
   ],
   "source": [
    "products.merge(categories, left_on='CategoryID', right_index=True).merge(suppliers, on='SupplierID').head(3)"
   ]
  },
  {
   "cell_type": "code",
   "execution_count": null,
   "id": "7e1b396f",
   "metadata": {},
   "outputs": [],
   "source": []
  }
 ],
 "metadata": {
  "kernelspec": {
   "display_name": "Python 3 (ipykernel)",
   "language": "python",
   "name": "python3"
  },
  "language_info": {
   "codemirror_mode": {
    "name": "ipython",
    "version": 3
   },
   "file_extension": ".py",
   "mimetype": "text/x-python",
   "name": "python",
   "nbconvert_exporter": "python",
   "pygments_lexer": "ipython3",
   "version": "3.9.12"
  }
 },
 "nbformat": 4,
 "nbformat_minor": 5
}
