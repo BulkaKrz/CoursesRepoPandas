{
 "cells": [
  {
   "cell_type": "markdown",
   "id": "882c9051",
   "metadata": {},
   "source": [
    "### LAB - S03-L008-LAB Kontrola i optymalizacja typów danych\n",
    "1. Zaimportuj moduł pandas oraz numpy i nadaj im standardowe aliasy. Do zmiennej fuel wczytaj zawartość pliku fuel.csv. Podczas wczytywania skorzystaj z dodatkowego argumentu low_memory=False, pobierz tylko następujące kolumny: 'Vehicle ID','Year','Make','Model','Class','Fuel Type','Combined MPG (FT1)'. \n",
    "    Wyświetl nagłówek tak utworzonego Data Frame\n",
    "\n",
    "2. Wyświetl informację o kolumnach (wykorzystywane typy, ilość obiektów nienullowych, dokładna informacja o pamięci)\n",
    "3. Skonwertuj kolumnę Year do typu int. Ponownie wyświetl informację o typach kolumn i użyciu pamięci\n",
    "4. Sprawdź ile razy powtarzają się wartości w kolumnie Make \n",
    "5. Zmień typ kolumny Make na category i ponownie wyświetl informację o pamięci konsumowanej przez ten typ\n",
    "6. Powtórz kroki 4-5 dla kolumn: Model, Class, 'Fuel Type'.\n",
    "7. Kolumnę 'Combined MPG (FT1)' skonwertuj do typu float\n",
    "8. Porównaj rozmiar obiektu fuel na początku (krok 2) i na końcu (krok 6) - czy różnica jest wyraźna?"
   ]
  },
  {
   "cell_type": "code",
   "execution_count": 15,
   "id": "e1bdca4c",
   "metadata": {},
   "outputs": [],
   "source": [
    "import pandas as pd\n",
    "import numpy as np\n",
    "fuel = pd.read_csv('./course-files/fuel.csv', usecols=['Vehicle ID','Year','Make',\n",
    "'Model','Class','Fuel Type','Combined MPG (FT1)'], index_col = 'Vehicle ID')"
   ]
  },
  {
   "cell_type": "code",
   "execution_count": 16,
   "id": "0eb79a60",
   "metadata": {},
   "outputs": [
    {
     "data": {
      "text/html": [
       "<div>\n",
       "<style scoped>\n",
       "    .dataframe tbody tr th:only-of-type {\n",
       "        vertical-align: middle;\n",
       "    }\n",
       "\n",
       "    .dataframe tbody tr th {\n",
       "        vertical-align: top;\n",
       "    }\n",
       "\n",
       "    .dataframe thead th {\n",
       "        text-align: right;\n",
       "    }\n",
       "</style>\n",
       "<table border=\"1\" class=\"dataframe\">\n",
       "  <thead>\n",
       "    <tr style=\"text-align: right;\">\n",
       "      <th></th>\n",
       "      <th>Year</th>\n",
       "      <th>Make</th>\n",
       "      <th>Model</th>\n",
       "      <th>Class</th>\n",
       "      <th>Fuel Type</th>\n",
       "      <th>Combined MPG (FT1)</th>\n",
       "    </tr>\n",
       "    <tr>\n",
       "      <th>Vehicle ID</th>\n",
       "      <th></th>\n",
       "      <th></th>\n",
       "      <th></th>\n",
       "      <th></th>\n",
       "      <th></th>\n",
       "      <th></th>\n",
       "    </tr>\n",
       "  </thead>\n",
       "  <tbody>\n",
       "    <tr>\n",
       "      <th>26587</th>\n",
       "      <td>1984</td>\n",
       "      <td>Alfa Romeo</td>\n",
       "      <td>GT V6 2.5</td>\n",
       "      <td>Minicompact Cars</td>\n",
       "      <td>Regular</td>\n",
       "      <td>20.0</td>\n",
       "    </tr>\n",
       "    <tr>\n",
       "      <th>27705</th>\n",
       "      <td>1984</td>\n",
       "      <td>Alfa Romeo</td>\n",
       "      <td>GT V6 2.5</td>\n",
       "      <td>Minicompact Cars</td>\n",
       "      <td>Regular</td>\n",
       "      <td>20.0</td>\n",
       "    </tr>\n",
       "    <tr>\n",
       "      <th>26561</th>\n",
       "      <td>1984</td>\n",
       "      <td>Alfa Romeo</td>\n",
       "      <td>Spider Veloce 2000</td>\n",
       "      <td>Two Seaters</td>\n",
       "      <td>Regular</td>\n",
       "      <td>21.0</td>\n",
       "    </tr>\n",
       "    <tr>\n",
       "      <th>27681</th>\n",
       "      <td>1984</td>\n",
       "      <td>Alfa Romeo</td>\n",
       "      <td>Spider Veloce 2000</td>\n",
       "      <td>Two Seaters</td>\n",
       "      <td>Regular</td>\n",
       "      <td>21.0</td>\n",
       "    </tr>\n",
       "    <tr>\n",
       "      <th>27550</th>\n",
       "      <td>1984</td>\n",
       "      <td>AM General</td>\n",
       "      <td>DJ Po Vehicle 2WD</td>\n",
       "      <td>Special Purpose Vehicle 2WD</td>\n",
       "      <td>Regular</td>\n",
       "      <td>17.0</td>\n",
       "    </tr>\n",
       "  </tbody>\n",
       "</table>\n",
       "</div>"
      ],
      "text/plain": [
       "            Year        Make               Model                        Class  \\\n",
       "Vehicle ID                                                                      \n",
       "26587       1984  Alfa Romeo           GT V6 2.5             Minicompact Cars   \n",
       "27705       1984  Alfa Romeo           GT V6 2.5             Minicompact Cars   \n",
       "26561       1984  Alfa Romeo  Spider Veloce 2000                  Two Seaters   \n",
       "27681       1984  Alfa Romeo  Spider Veloce 2000                  Two Seaters   \n",
       "27550       1984  AM General   DJ Po Vehicle 2WD  Special Purpose Vehicle 2WD   \n",
       "\n",
       "           Fuel Type  Combined MPG (FT1)  \n",
       "Vehicle ID                                \n",
       "26587        Regular                20.0  \n",
       "27705        Regular                20.0  \n",
       "26561        Regular                21.0  \n",
       "27681        Regular                21.0  \n",
       "27550        Regular                17.0  "
      ]
     },
     "execution_count": 16,
     "metadata": {},
     "output_type": "execute_result"
    }
   ],
   "source": [
    "fuel.head()"
   ]
  },
  {
   "cell_type": "code",
   "execution_count": 17,
   "id": "92ba6b04",
   "metadata": {},
   "outputs": [
    {
     "data": {
      "text/plain": [
       "31684"
      ]
     },
     "execution_count": 17,
     "metadata": {},
     "output_type": "execute_result"
    }
   ],
   "source": [
    "len(fuel)"
   ]
  },
  {
   "cell_type": "code",
   "execution_count": 18,
   "id": "8d96e15d",
   "metadata": {},
   "outputs": [
    {
     "name": "stdout",
     "output_type": "stream",
     "text": [
      "<class 'pandas.core.frame.DataFrame'>\n",
      "Int64Index: 31684 entries, 26587 to 32106\n",
      "Data columns (total 6 columns):\n",
      " #   Column              Non-Null Count  Dtype  \n",
      "---  ------              --------------  -----  \n",
      " 0   Year                31684 non-null  int64  \n",
      " 1   Make                31684 non-null  object \n",
      " 2   Model               31683 non-null  object \n",
      " 3   Class               31683 non-null  object \n",
      " 4   Fuel Type           31683 non-null  object \n",
      " 5   Combined MPG (FT1)  31683 non-null  float64\n",
      "dtypes: float64(1), int64(1), object(4)\n",
      "memory usage: 8.9 MB\n"
     ]
    }
   ],
   "source": [
    "fuel.info(memory_usage='deep')"
   ]
  },
  {
   "cell_type": "code",
   "execution_count": 19,
   "id": "e06d9d46",
   "metadata": {},
   "outputs": [],
   "source": [
    "fuel['Year'] = fuel['Year'].astype('int')"
   ]
  },
  {
   "cell_type": "code",
   "execution_count": 20,
   "id": "07bd94f6",
   "metadata": {},
   "outputs": [
    {
     "name": "stdout",
     "output_type": "stream",
     "text": [
      "<class 'pandas.core.frame.DataFrame'>\n",
      "Int64Index: 31684 entries, 26587 to 32106\n",
      "Data columns (total 6 columns):\n",
      " #   Column              Non-Null Count  Dtype  \n",
      "---  ------              --------------  -----  \n",
      " 0   Year                31684 non-null  int32  \n",
      " 1   Make                31684 non-null  object \n",
      " 2   Model               31683 non-null  object \n",
      " 3   Class               31683 non-null  object \n",
      " 4   Fuel Type           31683 non-null  object \n",
      " 5   Combined MPG (FT1)  31683 non-null  float64\n",
      "dtypes: float64(1), int32(1), object(4)\n",
      "memory usage: 8.8 MB\n"
     ]
    }
   ],
   "source": [
    "fuel.info(memory_usage='deep')"
   ]
  },
  {
   "cell_type": "code",
   "execution_count": 21,
   "id": "6521b64e",
   "metadata": {},
   "outputs": [
    {
     "data": {
      "text/plain": [
       "Chevrolet                 3389\n",
       "Ford                      2721\n",
       "Dodge                     2361\n",
       "GMC                       2174\n",
       "Toyota                    1599\n",
       "                          ... \n",
       "General Motors               1\n",
       "Panoz Auto-Development       1\n",
       "Goldacre                     1\n",
       "Panos                        1\n",
       "Mitsubish                    1\n",
       "Name: Make, Length: 128, dtype: int64"
      ]
     },
     "execution_count": 21,
     "metadata": {},
     "output_type": "execute_result"
    }
   ],
   "source": [
    "fuel['Make'].value_counts()"
   ]
  },
  {
   "cell_type": "code",
   "execution_count": 22,
   "id": "ce1a31bf",
   "metadata": {},
   "outputs": [],
   "source": [
    "fuel['Make'] = fuel['Make'].astype('category')"
   ]
  },
  {
   "cell_type": "code",
   "execution_count": 23,
   "id": "286abc3f",
   "metadata": {},
   "outputs": [
    {
     "name": "stdout",
     "output_type": "stream",
     "text": [
      "<class 'pandas.core.frame.DataFrame'>\n",
      "Int64Index: 31684 entries, 26587 to 32106\n",
      "Data columns (total 6 columns):\n",
      " #   Column              Non-Null Count  Dtype   \n",
      "---  ------              --------------  -----   \n",
      " 0   Year                31684 non-null  int32   \n",
      " 1   Make                31684 non-null  category\n",
      " 2   Model               31683 non-null  object  \n",
      " 3   Class               31683 non-null  object  \n",
      " 4   Fuel Type           31683 non-null  object  \n",
      " 5   Combined MPG (FT1)  31683 non-null  float64 \n",
      "dtypes: category(1), float64(1), int32(1), object(3)\n",
      "memory usage: 6.9 MB\n"
     ]
    }
   ],
   "source": [
    "fuel.info(memory_usage='deep')"
   ]
  },
  {
   "cell_type": "code",
   "execution_count": 24,
   "id": "d6be0461",
   "metadata": {},
   "outputs": [],
   "source": [
    "fuel['Model'] = fuel['Model'].astype('category')"
   ]
  },
  {
   "cell_type": "code",
   "execution_count": 25,
   "id": "4e4e1638",
   "metadata": {},
   "outputs": [],
   "source": [
    "fuel['Class'] = fuel['Class'].astype('category')\n",
    "fuel['Fuel Type'] = fuel['Fuel Type'].astype('category')"
   ]
  },
  {
   "cell_type": "code",
   "execution_count": 26,
   "id": "ca3ff846",
   "metadata": {},
   "outputs": [],
   "source": [
    "fuel['Combined MPG (FT1)'] = fuel['Combined MPG (FT1)'].astype('float')"
   ]
  },
  {
   "cell_type": "code",
   "execution_count": 27,
   "id": "51d6bce5",
   "metadata": {},
   "outputs": [
    {
     "name": "stdout",
     "output_type": "stream",
     "text": [
      "<class 'pandas.core.frame.DataFrame'>\n",
      "Int64Index: 31684 entries, 26587 to 32106\n",
      "Data columns (total 6 columns):\n",
      " #   Column              Non-Null Count  Dtype   \n",
      "---  ------              --------------  -----   \n",
      " 0   Year                31684 non-null  int32   \n",
      " 1   Make                31684 non-null  category\n",
      " 2   Model               31683 non-null  category\n",
      " 3   Class               31683 non-null  category\n",
      " 4   Fuel Type           31683 non-null  category\n",
      " 5   Combined MPG (FT1)  31683 non-null  float64 \n",
      "dtypes: category(4), float64(1), int32(1)\n",
      "memory usage: 1.1 MB\n"
     ]
    }
   ],
   "source": [
    "fuel.info(memory_usage='deep')"
   ]
  },
  {
   "cell_type": "code",
   "execution_count": null,
   "id": "4ff03562",
   "metadata": {},
   "outputs": [],
   "source": []
  }
 ],
 "metadata": {
  "kernelspec": {
   "display_name": "Python 3 (ipykernel)",
   "language": "python",
   "name": "python3"
  },
  "language_info": {
   "codemirror_mode": {
    "name": "ipython",
    "version": 3
   },
   "file_extension": ".py",
   "mimetype": "text/x-python",
   "name": "python",
   "nbconvert_exporter": "python",
   "pygments_lexer": "ipython3",
   "version": "3.9.12"
  }
 },
 "nbformat": 4,
 "nbformat_minor": 5
}
