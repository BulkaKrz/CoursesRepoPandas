{
 "cells": [
  {
   "cell_type": "markdown",
   "id": "c43f5155",
   "metadata": {},
   "source": [
    "### LAB - S02-L013 - Porównanie metod wyszukiwaniadanych po indeksie\n",
    "1. Zaimportuj moduł pandas i nadaj mu standardowy alias.\n",
    "2. Utwórz serię countries importując z pliku countries.csv kolumny Symbol i Name. Kolumna Symbol powinna stać sie indeksem serii. Skorzystaj z polecenia:\n",
    "\n",
    "countries = pd.read_csv(\"countries.csv\", usecols=['Symbol','Name'],index_col='Symbol',squeeze=True)\n",
    "\n",
    "3. Wyświetl 20 pierwszych wierszy tej serii.\n",
    "4. Znanymi Ci metodami wyświetl z serii wiersz odpowiadający Symbolowi \"FR\"\n",
    "5. Znanymi Ci metodami wyświetl z serii wiersz znajdujący się na pozycji 13.\n",
    "6. Utwórz listę nordic i wpisz do niej 3 elementy: \"FI\", \"SE\", \"NO\".\n",
    "7. Znanymi Ci metodami wyświetl wiersze odpowiadające symbolom znajdującym się na liście nordic"
   ]
  },
  {
   "cell_type": "code",
   "execution_count": 1,
   "id": "ef649dde",
   "metadata": {},
   "outputs": [],
   "source": [
    "import pandas as pd"
   ]
  },
  {
   "cell_type": "code",
   "execution_count": 2,
   "id": "70933271",
   "metadata": {},
   "outputs": [],
   "source": [
    "countries = pd.read_csv(r'D:\\Udemy\\PYTHON_scripts\\course-files\\countries.csv',usecols=['Symbol','Name'], index_col='Symbol').squeeze()"
   ]
  },
  {
   "cell_type": "code",
   "execution_count": 4,
   "id": "a6231efd",
   "metadata": {},
   "outputs": [
    {
     "data": {
      "text/plain": [
       "Symbol\n",
       "AF            Afghanistan\n",
       "AL                Albania\n",
       "DZ                Algeria\n",
       "AD                Andorra\n",
       "AO                 Angola\n",
       "AI               Anguilla\n",
       "AQ             Antarctica\n",
       "AG    Antigua and Barbuda\n",
       "SA           Saudi Arabia\n",
       "AR              Argentina\n",
       "AM                Armenia\n",
       "AW                  Aruba\n",
       "AU              Australia\n",
       "AT                Austria\n",
       "AZ             Azerbaijan\n",
       "BS                Bahamas\n",
       "BH                Bahrain\n",
       "BD             Bangladesh\n",
       "BB               Barbados\n",
       "BE                Belgium\n",
       "Name: Name, dtype: object"
      ]
     },
     "execution_count": 4,
     "metadata": {},
     "output_type": "execute_result"
    }
   ],
   "source": [
    "countries.head(20)"
   ]
  },
  {
   "cell_type": "code",
   "execution_count": 7,
   "id": "b96ccca8",
   "metadata": {},
   "outputs": [
    {
     "data": {
      "text/plain": [
       "'France'"
      ]
     },
     "execution_count": 7,
     "metadata": {},
     "output_type": "execute_result"
    }
   ],
   "source": [
    "countries['FR']"
   ]
  },
  {
   "cell_type": "code",
   "execution_count": 8,
   "id": "4165f3f5",
   "metadata": {},
   "outputs": [
    {
     "data": {
      "text/plain": [
       "'France'"
      ]
     },
     "execution_count": 8,
     "metadata": {},
     "output_type": "execute_result"
    }
   ],
   "source": [
    "countries.get('FR')"
   ]
  },
  {
   "cell_type": "code",
   "execution_count": 9,
   "id": "3f3253ca",
   "metadata": {},
   "outputs": [
    {
     "data": {
      "text/plain": [
       "'France'"
      ]
     },
     "execution_count": 9,
     "metadata": {},
     "output_type": "execute_result"
    }
   ],
   "source": [
    "countries.at['FR']"
   ]
  },
  {
   "cell_type": "code",
   "execution_count": 10,
   "id": "d7fb17d4",
   "metadata": {},
   "outputs": [
    {
     "data": {
      "text/plain": [
       "'France'"
      ]
     },
     "execution_count": 10,
     "metadata": {},
     "output_type": "execute_result"
    }
   ],
   "source": [
    "countries.loc['FR']"
   ]
  },
  {
   "cell_type": "code",
   "execution_count": 12,
   "id": "68005675",
   "metadata": {},
   "outputs": [
    {
     "data": {
      "text/plain": [
       "'Austria'"
      ]
     },
     "execution_count": 12,
     "metadata": {},
     "output_type": "execute_result"
    }
   ],
   "source": [
    "countries.iat[13]"
   ]
  },
  {
   "cell_type": "code",
   "execution_count": 13,
   "id": "638402f0",
   "metadata": {},
   "outputs": [
    {
     "data": {
      "text/plain": [
       "'Austria'"
      ]
     },
     "execution_count": 13,
     "metadata": {},
     "output_type": "execute_result"
    }
   ],
   "source": [
    "countries.iloc[13]"
   ]
  },
  {
   "cell_type": "code",
   "execution_count": 14,
   "id": "d85a61b6",
   "metadata": {},
   "outputs": [],
   "source": [
    "nordic = ['FI','SE','NO']"
   ]
  },
  {
   "cell_type": "code",
   "execution_count": 15,
   "id": "4cb1dbdf",
   "metadata": {},
   "outputs": [
    {
     "data": {
      "text/plain": [
       "Symbol\n",
       "FI    Finland\n",
       "SE     Sweden\n",
       "NO     Norway\n",
       "Name: Name, dtype: object"
      ]
     },
     "execution_count": 15,
     "metadata": {},
     "output_type": "execute_result"
    }
   ],
   "source": [
    "countries[nordic]"
   ]
  },
  {
   "cell_type": "code",
   "execution_count": 16,
   "id": "c7f595a1",
   "metadata": {},
   "outputs": [
    {
     "data": {
      "text/plain": [
       "Symbol\n",
       "FI    Finland\n",
       "SE     Sweden\n",
       "NO     Norway\n",
       "Name: Name, dtype: object"
      ]
     },
     "execution_count": 16,
     "metadata": {},
     "output_type": "execute_result"
    }
   ],
   "source": [
    "countries.loc[nordic]"
   ]
  },
  {
   "cell_type": "markdown",
   "id": "05a99886",
   "metadata": {},
   "source": [
    "## LAB - S02-L014 - Reindex i intersection\n",
    "1. Zaimportuj moduł pandas i nadaj mu standardowy alias.\n",
    "2. Utwórz serię **countries** importując z pliku countries.csv kolumny Symbol i Name. Kolumna Symbol powinna stać sie indeksem serii. Skorzystaj z polecenia:\n",
    "\n",
    "*countries = pd.read_csv(\"countries.csv\", usecols=['Symbol','Name'],index_col='Symbol',squeeze=True)*\n",
    "\n",
    "3. Usuń niekopmpletne dane korzystając z polecenia:\n",
    "*countries.dropna(inplace=True)*\n",
    "\n",
    "4. Wyświetl 20 pierwszych wierszy tej serii.\n",
    "5. Utwórz listę toFind zawierającą symbole krajów: BB, AA, BS (kraju AA nie ma w wykazie państw, bo to ... Atalantyda...\n",
    "6. Korzystając z metody loc i zmiennej wyświetl wynik poszukiwania krajów o symbolach z listy toFind. (Oprócz wyniku powinno zostać wyświetlone ostrzeżenie)\n",
    "7. Wyszukaj krajów **toFind** korzystając z metody reindex.\n",
    "8. Wyświetl listę będącą częścią wspólną indeksu serii **countries** oraz listy **toFind**.\n",
    "9. Korzystając z metody loc oraz listy wygenerowanej w poprzednim punkcie wyświetl kraje o symbolach z listy **toFind**"
   ]
  },
  {
   "cell_type": "code",
   "execution_count": 17,
   "id": "63a0a567",
   "metadata": {},
   "outputs": [
    {
     "data": {
      "text/plain": [
       "Symbol\n",
       "AF                                          Afghanistan\n",
       "AL                                              Albania\n",
       "DZ                                              Algeria\n",
       "AD                                              Andorra\n",
       "AO                                               Angola\n",
       "                            ...                        \n",
       "ZM                                               Zambia\n",
       "QR    Stores and provisions within the framework of ...\n",
       "CV                                           Cape Verde\n",
       "ZW                                             Zimbabwe\n",
       "AE                                 United Arab Emirates\n",
       "Name: Name, Length: 242, dtype: object"
      ]
     },
     "execution_count": 17,
     "metadata": {},
     "output_type": "execute_result"
    }
   ],
   "source": [
    "countries.dropna(inplace=True)\n",
    "countries"
   ]
  },
  {
   "cell_type": "code",
   "execution_count": 18,
   "id": "cbb2a0ed",
   "metadata": {},
   "outputs": [
    {
     "data": {
      "text/plain": [
       "'Stores and provisions within the framework of intra-EU trade'"
      ]
     },
     "execution_count": 18,
     "metadata": {},
     "output_type": "execute_result"
    }
   ],
   "source": [
    "countries['QR']"
   ]
  },
  {
   "cell_type": "code",
   "execution_count": 19,
   "id": "c2044534",
   "metadata": {},
   "outputs": [
    {
     "data": {
      "text/plain": [
       "Symbol\n",
       "AF            Afghanistan\n",
       "AL                Albania\n",
       "DZ                Algeria\n",
       "AD                Andorra\n",
       "AO                 Angola\n",
       "AI               Anguilla\n",
       "AQ             Antarctica\n",
       "AG    Antigua and Barbuda\n",
       "SA           Saudi Arabia\n",
       "AR              Argentina\n",
       "AM                Armenia\n",
       "AW                  Aruba\n",
       "AU              Australia\n",
       "AT                Austria\n",
       "AZ             Azerbaijan\n",
       "BS                Bahamas\n",
       "BH                Bahrain\n",
       "BD             Bangladesh\n",
       "BB               Barbados\n",
       "BE                Belgium\n",
       "Name: Name, dtype: object"
      ]
     },
     "execution_count": 19,
     "metadata": {},
     "output_type": "execute_result"
    }
   ],
   "source": [
    "countries.head(20)"
   ]
  },
  {
   "cell_type": "code",
   "execution_count": 20,
   "id": "a9720581",
   "metadata": {},
   "outputs": [],
   "source": [
    "toFind = ['BB','AA','BS']"
   ]
  },
  {
   "cell_type": "code",
   "execution_count": 24,
   "id": "23c5f71d",
   "metadata": {},
   "outputs": [
    {
     "data": {
      "text/plain": [
       "Symbol\n",
       "BB    Barbados\n",
       "AA         NaN\n",
       "BS     Bahamas\n",
       "Name: Name, dtype: object"
      ]
     },
     "execution_count": 24,
     "metadata": {},
     "output_type": "execute_result"
    }
   ],
   "source": [
    "countries.reindex(toFind)"
   ]
  },
  {
   "cell_type": "code",
   "execution_count": 25,
   "id": "62ac1d9d",
   "metadata": {},
   "outputs": [
    {
     "data": {
      "text/plain": [
       "Index(['BS', 'BB'], dtype='object', name='Symbol')"
      ]
     },
     "execution_count": 25,
     "metadata": {},
     "output_type": "execute_result"
    }
   ],
   "source": [
    "countries.index.intersection(toFind)"
   ]
  },
  {
   "cell_type": "code",
   "execution_count": 26,
   "id": "3dfe1b8d",
   "metadata": {},
   "outputs": [
    {
     "data": {
      "text/plain": [
       "Symbol\n",
       "BS     Bahamas\n",
       "BB    Barbados\n",
       "Name: Name, dtype: object"
      ]
     },
     "execution_count": 26,
     "metadata": {},
     "output_type": "execute_result"
    }
   ],
   "source": [
    "countries.loc[countries.index.intersection(toFind)]"
   ]
  },
  {
   "cell_type": "code",
   "execution_count": null,
   "id": "12ebe7e6",
   "metadata": {},
   "outputs": [],
   "source": []
  }
 ],
 "metadata": {
  "kernelspec": {
   "display_name": "Python 3 (ipykernel)",
   "language": "python",
   "name": "python3"
  },
  "language_info": {
   "codemirror_mode": {
    "name": "ipython",
    "version": 3
   },
   "file_extension": ".py",
   "mimetype": "text/x-python",
   "name": "python",
   "nbconvert_exporter": "python",
   "pygments_lexer": "ipython3",
   "version": "3.9.12"
  }
 },
 "nbformat": 4,
 "nbformat_minor": 5
}
