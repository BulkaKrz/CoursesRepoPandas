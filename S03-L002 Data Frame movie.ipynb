{
 "cells": [
  {
   "cell_type": "code",
   "execution_count": 1,
   "id": "775b167d",
   "metadata": {},
   "outputs": [],
   "source": [
    "import pandas as pd\n",
    "import numpy as np\n",
    "import matplotlib.pyplot as plt\n",
    "import math as math"
   ]
  },
  {
   "cell_type": "code",
   "execution_count": 2,
   "id": "f1828b1a",
   "metadata": {},
   "outputs": [],
   "source": [
    "frame = pd.read_csv('./course-files/Mcdonalds.csv')"
   ]
  },
  {
   "cell_type": "code",
   "execution_count": 3,
   "id": "db9302ac",
   "metadata": {
    "collapsed": true
   },
   "outputs": [
    {
     "data": {
      "text/html": [
       "<div>\n",
       "<style scoped>\n",
       "    .dataframe tbody tr th:only-of-type {\n",
       "        vertical-align: middle;\n",
       "    }\n",
       "\n",
       "    .dataframe tbody tr th {\n",
       "        vertical-align: top;\n",
       "    }\n",
       "\n",
       "    .dataframe thead th {\n",
       "        text-align: right;\n",
       "    }\n",
       "</style>\n",
       "<table border=\"1\" class=\"dataframe\">\n",
       "  <thead>\n",
       "    <tr style=\"text-align: right;\">\n",
       "      <th></th>\n",
       "      <th>Category</th>\n",
       "      <th>Item</th>\n",
       "      <th>Serving Size</th>\n",
       "      <th>Calories</th>\n",
       "      <th>Calories from Fat</th>\n",
       "      <th>TotalFat</th>\n",
       "      <th>Total Fat (% Daily Value)</th>\n",
       "      <th>Saturated Fat</th>\n",
       "      <th>Saturated Fat (% Daily Value)</th>\n",
       "      <th>Trans Fat</th>\n",
       "      <th>...</th>\n",
       "      <th>Carbohydrates</th>\n",
       "      <th>Carbohydrates (% Daily Value)</th>\n",
       "      <th>Dietary Fiber</th>\n",
       "      <th>Dietary Fiber (% Daily Value)</th>\n",
       "      <th>Sugars</th>\n",
       "      <th>Protein</th>\n",
       "      <th>Vitamin A (% Daily Value)</th>\n",
       "      <th>Vitamin C (% Daily Value)</th>\n",
       "      <th>Calcium (% Daily Value)</th>\n",
       "      <th>Iron (% Daily Value)</th>\n",
       "    </tr>\n",
       "  </thead>\n",
       "  <tbody>\n",
       "    <tr>\n",
       "      <th>0</th>\n",
       "      <td>Breakfast</td>\n",
       "      <td>Egg McMuffin</td>\n",
       "      <td>4.8 oz (136 g)</td>\n",
       "      <td>300</td>\n",
       "      <td>120</td>\n",
       "      <td>13.0</td>\n",
       "      <td>20</td>\n",
       "      <td>5.0</td>\n",
       "      <td>25</td>\n",
       "      <td>0.0</td>\n",
       "      <td>...</td>\n",
       "      <td>31</td>\n",
       "      <td>10</td>\n",
       "      <td>4</td>\n",
       "      <td>17</td>\n",
       "      <td>3</td>\n",
       "      <td>17</td>\n",
       "      <td>10</td>\n",
       "      <td>0</td>\n",
       "      <td>25</td>\n",
       "      <td>15</td>\n",
       "    </tr>\n",
       "    <tr>\n",
       "      <th>1</th>\n",
       "      <td>Breakfast</td>\n",
       "      <td>Egg White Delight</td>\n",
       "      <td>4.8 oz (135 g)</td>\n",
       "      <td>250</td>\n",
       "      <td>70</td>\n",
       "      <td>8.0</td>\n",
       "      <td>12</td>\n",
       "      <td>3.0</td>\n",
       "      <td>15</td>\n",
       "      <td>0.0</td>\n",
       "      <td>...</td>\n",
       "      <td>30</td>\n",
       "      <td>10</td>\n",
       "      <td>4</td>\n",
       "      <td>17</td>\n",
       "      <td>3</td>\n",
       "      <td>18</td>\n",
       "      <td>6</td>\n",
       "      <td>0</td>\n",
       "      <td>25</td>\n",
       "      <td>8</td>\n",
       "    </tr>\n",
       "    <tr>\n",
       "      <th>2</th>\n",
       "      <td>Breakfast</td>\n",
       "      <td>Sausage McMuffin</td>\n",
       "      <td>3.9 oz (111 g)</td>\n",
       "      <td>370</td>\n",
       "      <td>200</td>\n",
       "      <td>23.0</td>\n",
       "      <td>35</td>\n",
       "      <td>8.0</td>\n",
       "      <td>42</td>\n",
       "      <td>0.0</td>\n",
       "      <td>...</td>\n",
       "      <td>29</td>\n",
       "      <td>10</td>\n",
       "      <td>4</td>\n",
       "      <td>17</td>\n",
       "      <td>2</td>\n",
       "      <td>14</td>\n",
       "      <td>8</td>\n",
       "      <td>0</td>\n",
       "      <td>25</td>\n",
       "      <td>10</td>\n",
       "    </tr>\n",
       "    <tr>\n",
       "      <th>3</th>\n",
       "      <td>Breakfast</td>\n",
       "      <td>Sausage McMuffin with Egg</td>\n",
       "      <td>5.7 oz (161 g)</td>\n",
       "      <td>450</td>\n",
       "      <td>250</td>\n",
       "      <td>28.0</td>\n",
       "      <td>43</td>\n",
       "      <td>10.0</td>\n",
       "      <td>52</td>\n",
       "      <td>0.0</td>\n",
       "      <td>...</td>\n",
       "      <td>30</td>\n",
       "      <td>10</td>\n",
       "      <td>4</td>\n",
       "      <td>17</td>\n",
       "      <td>2</td>\n",
       "      <td>21</td>\n",
       "      <td>15</td>\n",
       "      <td>0</td>\n",
       "      <td>30</td>\n",
       "      <td>15</td>\n",
       "    </tr>\n",
       "    <tr>\n",
       "      <th>4</th>\n",
       "      <td>Breakfast</td>\n",
       "      <td>Sausage McMuffin with Egg Whites</td>\n",
       "      <td>5.7 oz (161 g)</td>\n",
       "      <td>400</td>\n",
       "      <td>210</td>\n",
       "      <td>23.0</td>\n",
       "      <td>35</td>\n",
       "      <td>8.0</td>\n",
       "      <td>42</td>\n",
       "      <td>0.0</td>\n",
       "      <td>...</td>\n",
       "      <td>30</td>\n",
       "      <td>10</td>\n",
       "      <td>4</td>\n",
       "      <td>17</td>\n",
       "      <td>2</td>\n",
       "      <td>21</td>\n",
       "      <td>6</td>\n",
       "      <td>0</td>\n",
       "      <td>25</td>\n",
       "      <td>10</td>\n",
       "    </tr>\n",
       "    <tr>\n",
       "      <th>...</th>\n",
       "      <td>...</td>\n",
       "      <td>...</td>\n",
       "      <td>...</td>\n",
       "      <td>...</td>\n",
       "      <td>...</td>\n",
       "      <td>...</td>\n",
       "      <td>...</td>\n",
       "      <td>...</td>\n",
       "      <td>...</td>\n",
       "      <td>...</td>\n",
       "      <td>...</td>\n",
       "      <td>...</td>\n",
       "      <td>...</td>\n",
       "      <td>...</td>\n",
       "      <td>...</td>\n",
       "      <td>...</td>\n",
       "      <td>...</td>\n",
       "      <td>...</td>\n",
       "      <td>...</td>\n",
       "      <td>...</td>\n",
       "      <td>...</td>\n",
       "    </tr>\n",
       "    <tr>\n",
       "      <th>255</th>\n",
       "      <td>Smoothies &amp; Shakes</td>\n",
       "      <td>McFlurry with Oreo Cookies (Small)</td>\n",
       "      <td>10.1 oz (285 g)</td>\n",
       "      <td>510</td>\n",
       "      <td>150</td>\n",
       "      <td>17.0</td>\n",
       "      <td>26</td>\n",
       "      <td>9.0</td>\n",
       "      <td>44</td>\n",
       "      <td>0.5</td>\n",
       "      <td>...</td>\n",
       "      <td>80</td>\n",
       "      <td>27</td>\n",
       "      <td>1</td>\n",
       "      <td>4</td>\n",
       "      <td>64</td>\n",
       "      <td>12</td>\n",
       "      <td>15</td>\n",
       "      <td>0</td>\n",
       "      <td>40</td>\n",
       "      <td>8</td>\n",
       "    </tr>\n",
       "    <tr>\n",
       "      <th>256</th>\n",
       "      <td>Smoothies &amp; Shakes</td>\n",
       "      <td>McFlurry with Oreo Cookies (Medium)</td>\n",
       "      <td>13.4 oz (381 g)</td>\n",
       "      <td>690</td>\n",
       "      <td>200</td>\n",
       "      <td>23.0</td>\n",
       "      <td>35</td>\n",
       "      <td>12.0</td>\n",
       "      <td>58</td>\n",
       "      <td>1.0</td>\n",
       "      <td>...</td>\n",
       "      <td>106</td>\n",
       "      <td>35</td>\n",
       "      <td>1</td>\n",
       "      <td>5</td>\n",
       "      <td>85</td>\n",
       "      <td>15</td>\n",
       "      <td>20</td>\n",
       "      <td>0</td>\n",
       "      <td>50</td>\n",
       "      <td>10</td>\n",
       "    </tr>\n",
       "    <tr>\n",
       "      <th>257</th>\n",
       "      <td>Smoothies &amp; Shakes</td>\n",
       "      <td>McFlurry with Oreo Cookies (Snack)</td>\n",
       "      <td>6.7 oz (190 g)</td>\n",
       "      <td>340</td>\n",
       "      <td>100</td>\n",
       "      <td>11.0</td>\n",
       "      <td>17</td>\n",
       "      <td>6.0</td>\n",
       "      <td>29</td>\n",
       "      <td>0.0</td>\n",
       "      <td>...</td>\n",
       "      <td>53</td>\n",
       "      <td>18</td>\n",
       "      <td>1</td>\n",
       "      <td>2</td>\n",
       "      <td>43</td>\n",
       "      <td>8</td>\n",
       "      <td>10</td>\n",
       "      <td>0</td>\n",
       "      <td>25</td>\n",
       "      <td>6</td>\n",
       "    </tr>\n",
       "    <tr>\n",
       "      <th>258</th>\n",
       "      <td>Smoothies &amp; Shakes</td>\n",
       "      <td>McFlurry with Reese's Peanut Butter Cups (Medium)</td>\n",
       "      <td>14.2 oz (403 g)</td>\n",
       "      <td>810</td>\n",
       "      <td>290</td>\n",
       "      <td>32.0</td>\n",
       "      <td>50</td>\n",
       "      <td>15.0</td>\n",
       "      <td>76</td>\n",
       "      <td>1.0</td>\n",
       "      <td>...</td>\n",
       "      <td>114</td>\n",
       "      <td>38</td>\n",
       "      <td>2</td>\n",
       "      <td>9</td>\n",
       "      <td>103</td>\n",
       "      <td>21</td>\n",
       "      <td>20</td>\n",
       "      <td>0</td>\n",
       "      <td>60</td>\n",
       "      <td>6</td>\n",
       "    </tr>\n",
       "    <tr>\n",
       "      <th>259</th>\n",
       "      <td>Smoothies &amp; Shakes</td>\n",
       "      <td>McFlurry with Reese's Peanut Butter Cups (Snack)</td>\n",
       "      <td>7.1 oz (202 g)</td>\n",
       "      <td>410</td>\n",
       "      <td>150</td>\n",
       "      <td>16.0</td>\n",
       "      <td>25</td>\n",
       "      <td>8.0</td>\n",
       "      <td>38</td>\n",
       "      <td>0.0</td>\n",
       "      <td>...</td>\n",
       "      <td>57</td>\n",
       "      <td>19</td>\n",
       "      <td>1</td>\n",
       "      <td>5</td>\n",
       "      <td>51</td>\n",
       "      <td>10</td>\n",
       "      <td>10</td>\n",
       "      <td>0</td>\n",
       "      <td>30</td>\n",
       "      <td>4</td>\n",
       "    </tr>\n",
       "  </tbody>\n",
       "</table>\n",
       "<p>260 rows × 24 columns</p>\n",
       "</div>"
      ],
      "text/plain": [
       "               Category                                               Item  \\\n",
       "0             Breakfast                                       Egg McMuffin   \n",
       "1             Breakfast                                  Egg White Delight   \n",
       "2             Breakfast                                   Sausage McMuffin   \n",
       "3             Breakfast                          Sausage McMuffin with Egg   \n",
       "4             Breakfast                   Sausage McMuffin with Egg Whites   \n",
       "..                  ...                                                ...   \n",
       "255  Smoothies & Shakes                 McFlurry with Oreo Cookies (Small)   \n",
       "256  Smoothies & Shakes                McFlurry with Oreo Cookies (Medium)   \n",
       "257  Smoothies & Shakes                 McFlurry with Oreo Cookies (Snack)   \n",
       "258  Smoothies & Shakes  McFlurry with Reese's Peanut Butter Cups (Medium)   \n",
       "259  Smoothies & Shakes   McFlurry with Reese's Peanut Butter Cups (Snack)   \n",
       "\n",
       "        Serving Size  Calories  Calories from Fat  TotalFat  \\\n",
       "0     4.8 oz (136 g)       300                120      13.0   \n",
       "1     4.8 oz (135 g)       250                 70       8.0   \n",
       "2     3.9 oz (111 g)       370                200      23.0   \n",
       "3     5.7 oz (161 g)       450                250      28.0   \n",
       "4     5.7 oz (161 g)       400                210      23.0   \n",
       "..               ...       ...                ...       ...   \n",
       "255  10.1 oz (285 g)       510                150      17.0   \n",
       "256  13.4 oz (381 g)       690                200      23.0   \n",
       "257   6.7 oz (190 g)       340                100      11.0   \n",
       "258  14.2 oz (403 g)       810                290      32.0   \n",
       "259   7.1 oz (202 g)       410                150      16.0   \n",
       "\n",
       "     Total Fat (% Daily Value)  Saturated Fat  Saturated Fat (% Daily Value)  \\\n",
       "0                           20            5.0                             25   \n",
       "1                           12            3.0                             15   \n",
       "2                           35            8.0                             42   \n",
       "3                           43           10.0                             52   \n",
       "4                           35            8.0                             42   \n",
       "..                         ...            ...                            ...   \n",
       "255                         26            9.0                             44   \n",
       "256                         35           12.0                             58   \n",
       "257                         17            6.0                             29   \n",
       "258                         50           15.0                             76   \n",
       "259                         25            8.0                             38   \n",
       "\n",
       "     Trans Fat  ...  Carbohydrates  Carbohydrates (% Daily Value)  \\\n",
       "0          0.0  ...             31                             10   \n",
       "1          0.0  ...             30                             10   \n",
       "2          0.0  ...             29                             10   \n",
       "3          0.0  ...             30                             10   \n",
       "4          0.0  ...             30                             10   \n",
       "..         ...  ...            ...                            ...   \n",
       "255        0.5  ...             80                             27   \n",
       "256        1.0  ...            106                             35   \n",
       "257        0.0  ...             53                             18   \n",
       "258        1.0  ...            114                             38   \n",
       "259        0.0  ...             57                             19   \n",
       "\n",
       "     Dietary Fiber  Dietary Fiber (% Daily Value)  Sugars  Protein  \\\n",
       "0                4                             17       3       17   \n",
       "1                4                             17       3       18   \n",
       "2                4                             17       2       14   \n",
       "3                4                             17       2       21   \n",
       "4                4                             17       2       21   \n",
       "..             ...                            ...     ...      ...   \n",
       "255              1                              4      64       12   \n",
       "256              1                              5      85       15   \n",
       "257              1                              2      43        8   \n",
       "258              2                              9     103       21   \n",
       "259              1                              5      51       10   \n",
       "\n",
       "     Vitamin A (% Daily Value)  Vitamin C (% Daily Value)  \\\n",
       "0                           10                          0   \n",
       "1                            6                          0   \n",
       "2                            8                          0   \n",
       "3                           15                          0   \n",
       "4                            6                          0   \n",
       "..                         ...                        ...   \n",
       "255                         15                          0   \n",
       "256                         20                          0   \n",
       "257                         10                          0   \n",
       "258                         20                          0   \n",
       "259                         10                          0   \n",
       "\n",
       "     Calcium (% Daily Value)  Iron (% Daily Value)  \n",
       "0                         25                    15  \n",
       "1                         25                     8  \n",
       "2                         25                    10  \n",
       "3                         30                    15  \n",
       "4                         25                    10  \n",
       "..                       ...                   ...  \n",
       "255                       40                     8  \n",
       "256                       50                    10  \n",
       "257                       25                     6  \n",
       "258                       60                     6  \n",
       "259                       30                     4  \n",
       "\n",
       "[260 rows x 24 columns]"
      ]
     },
     "execution_count": 3,
     "metadata": {},
     "output_type": "execute_result"
    }
   ],
   "source": [
    "frame"
   ]
  },
  {
   "cell_type": "code",
   "execution_count": 4,
   "id": "1a242a79",
   "metadata": {},
   "outputs": [],
   "source": [
    "series = pd.read_csv('./course-files/Mcdonalds.csv', usecols=['Item', 'Calories'], index_col='Item').squeeze()"
   ]
  },
  {
   "cell_type": "code",
   "execution_count": 5,
   "id": "30e49675",
   "metadata": {},
   "outputs": [
    {
     "data": {
      "text/plain": [
       "Item\n",
       "Egg McMuffin                                         300\n",
       "Egg White Delight                                    250\n",
       "Sausage McMuffin                                     370\n",
       "Sausage McMuffin with Egg                            450\n",
       "Sausage McMuffin with Egg Whites                     400\n",
       "                                                    ... \n",
       "McFlurry with Oreo Cookies (Small)                   510\n",
       "McFlurry with Oreo Cookies (Medium)                  690\n",
       "McFlurry with Oreo Cookies (Snack)                   340\n",
       "McFlurry with Reese's Peanut Butter Cups (Medium)    810\n",
       "McFlurry with Reese's Peanut Butter Cups (Snack)     410\n",
       "Name: Calories, Length: 260, dtype: int64"
      ]
     },
     "execution_count": 5,
     "metadata": {},
     "output_type": "execute_result"
    }
   ],
   "source": [
    "series"
   ]
  },
  {
   "cell_type": "code",
   "execution_count": 6,
   "id": "c84aa262",
   "metadata": {},
   "outputs": [
    {
     "data": {
      "text/plain": [
       "260"
      ]
     },
     "execution_count": 6,
     "metadata": {},
     "output_type": "execute_result"
    }
   ],
   "source": [
    "series.count()"
   ]
  },
  {
   "cell_type": "code",
   "execution_count": 7,
   "id": "25eb7e48",
   "metadata": {},
   "outputs": [
    {
     "data": {
      "text/plain": [
       "Category                         260\n",
       "Item                             260\n",
       "Serving Size                     260\n",
       "Calories                         260\n",
       "Calories from Fat                260\n",
       "TotalFat                         260\n",
       "Total Fat (% Daily Value)        260\n",
       "Saturated Fat                    260\n",
       "Saturated Fat (% Daily Value)    260\n",
       "Trans Fat                        260\n",
       "Cholesterol                      260\n",
       "Cholesterol (% Daily Value)      260\n",
       "Sodium                           260\n",
       "Sodium (% Daily Value)           260\n",
       "Carbohydrates                    260\n",
       "Carbohydrates (% Daily Value)    260\n",
       "Dietary Fiber                    260\n",
       "Dietary Fiber (% Daily Value)    260\n",
       "Sugars                           260\n",
       "Protein                          260\n",
       "Vitamin A (% Daily Value)        260\n",
       "Vitamin C (% Daily Value)        260\n",
       "Calcium (% Daily Value)          260\n",
       "Iron (% Daily Value)             260\n",
       "dtype: int64"
      ]
     },
     "execution_count": 7,
     "metadata": {},
     "output_type": "execute_result"
    }
   ],
   "source": [
    "frame.count()"
   ]
  },
  {
   "cell_type": "code",
   "execution_count": 8,
   "id": "d68afba5",
   "metadata": {},
   "outputs": [
    {
     "data": {
      "text/plain": [
       "260"
      ]
     },
     "execution_count": 8,
     "metadata": {},
     "output_type": "execute_result"
    }
   ],
   "source": [
    "len(series)"
   ]
  },
  {
   "cell_type": "code",
   "execution_count": 9,
   "id": "5d6ad2dc",
   "metadata": {},
   "outputs": [
    {
     "data": {
      "text/plain": [
       "260"
      ]
     },
     "execution_count": 9,
     "metadata": {},
     "output_type": "execute_result"
    }
   ],
   "source": [
    "len(frame)"
   ]
  },
  {
   "cell_type": "code",
   "execution_count": 10,
   "id": "d4dcdb21",
   "metadata": {},
   "outputs": [
    {
     "data": {
      "text/plain": [
       "dtype('int64')"
      ]
     },
     "execution_count": 10,
     "metadata": {},
     "output_type": "execute_result"
    }
   ],
   "source": [
    "series.dtypes"
   ]
  },
  {
   "cell_type": "code",
   "execution_count": 11,
   "id": "9b8b0304",
   "metadata": {},
   "outputs": [
    {
     "data": {
      "text/plain": [
       "Category                          object\n",
       "Item                              object\n",
       "Serving Size                      object\n",
       "Calories                           int64\n",
       "Calories from Fat                  int64\n",
       "TotalFat                         float64\n",
       "Total Fat (% Daily Value)          int64\n",
       "Saturated Fat                    float64\n",
       "Saturated Fat (% Daily Value)      int64\n",
       "Trans Fat                        float64\n",
       "Cholesterol                        int64\n",
       "Cholesterol (% Daily Value)        int64\n",
       "Sodium                             int64\n",
       "Sodium (% Daily Value)             int64\n",
       "Carbohydrates                      int64\n",
       "Carbohydrates (% Daily Value)      int64\n",
       "Dietary Fiber                      int64\n",
       "Dietary Fiber (% Daily Value)      int64\n",
       "Sugars                             int64\n",
       "Protein                            int64\n",
       "Vitamin A (% Daily Value)          int64\n",
       "Vitamin C (% Daily Value)          int64\n",
       "Calcium (% Daily Value)            int64\n",
       "Iron (% Daily Value)               int64\n",
       "dtype: object"
      ]
     },
     "execution_count": 11,
     "metadata": {},
     "output_type": "execute_result"
    }
   ],
   "source": [
    "frame.dtypes"
   ]
  },
  {
   "cell_type": "code",
   "execution_count": 19,
   "id": "3a8ca426",
   "metadata": {},
   "outputs": [
    {
     "data": {
      "text/plain": [
       "int64      18\n",
       "object      3\n",
       "float64     3\n",
       "dtype: int64"
      ]
     },
     "execution_count": 19,
     "metadata": {},
     "output_type": "execute_result"
    }
   ],
   "source": [
    "frame.dtypes.value_counts()"
   ]
  },
  {
   "cell_type": "code",
   "execution_count": 20,
   "id": "c32a93cc",
   "metadata": {},
   "outputs": [
    {
     "data": {
      "text/plain": [
       "(260,)"
      ]
     },
     "execution_count": 20,
     "metadata": {},
     "output_type": "execute_result"
    }
   ],
   "source": [
    "series.shape"
   ]
  },
  {
   "cell_type": "code",
   "execution_count": 21,
   "id": "14dbdfda",
   "metadata": {},
   "outputs": [
    {
     "data": {
      "text/plain": [
       "(260, 24)"
      ]
     },
     "execution_count": 21,
     "metadata": {},
     "output_type": "execute_result"
    }
   ],
   "source": [
    "frame.shape"
   ]
  },
  {
   "cell_type": "code",
   "execution_count": 22,
   "id": "23c431ba",
   "metadata": {},
   "outputs": [
    {
     "data": {
      "text/plain": [
       "[Index(['Egg McMuffin', 'Egg White Delight', 'Sausage McMuffin',\n",
       "        'Sausage McMuffin with Egg', 'Sausage McMuffin with Egg Whites',\n",
       "        'Steak & Egg McMuffin', 'Bacon, Egg & Cheese Biscuit (Regular Biscuit)',\n",
       "        'Bacon, Egg & Cheese Biscuit (Large Biscuit)',\n",
       "        'Bacon, Egg & Cheese Biscuit with Egg Whites (Regular Biscuit)',\n",
       "        'Bacon, Egg & Cheese Biscuit with Egg Whites (Large Biscuit)',\n",
       "        ...\n",
       "        'Shamrock Shake (Medium)', 'Shamrock Shake (Large)',\n",
       "        'McFlurry with M&M’s Candies (Small)',\n",
       "        'McFlurry with M&M’s Candies (Medium)',\n",
       "        'McFlurry with M&M’s Candies (Snack)',\n",
       "        'McFlurry with Oreo Cookies (Small)',\n",
       "        'McFlurry with Oreo Cookies (Medium)',\n",
       "        'McFlurry with Oreo Cookies (Snack)',\n",
       "        'McFlurry with Reese's Peanut Butter Cups (Medium)',\n",
       "        'McFlurry with Reese's Peanut Butter Cups (Snack)'],\n",
       "       dtype='object', name='Item', length=260)]"
      ]
     },
     "execution_count": 22,
     "metadata": {},
     "output_type": "execute_result"
    }
   ],
   "source": [
    "series.axes"
   ]
  },
  {
   "cell_type": "code",
   "execution_count": 23,
   "id": "cbe17766",
   "metadata": {},
   "outputs": [
    {
     "data": {
      "text/plain": [
       "[RangeIndex(start=0, stop=260, step=1),\n",
       " Index(['Category', 'Item', 'Serving Size', 'Calories', 'Calories from Fat',\n",
       "        'TotalFat', 'Total Fat (% Daily Value)', 'Saturated Fat',\n",
       "        'Saturated Fat (% Daily Value)', 'Trans Fat', 'Cholesterol',\n",
       "        'Cholesterol (% Daily Value)', 'Sodium', 'Sodium (% Daily Value)',\n",
       "        'Carbohydrates', 'Carbohydrates (% Daily Value)', 'Dietary Fiber',\n",
       "        'Dietary Fiber (% Daily Value)', 'Sugars', 'Protein',\n",
       "        'Vitamin A (% Daily Value)', 'Vitamin C (% Daily Value)',\n",
       "        'Calcium (% Daily Value)', 'Iron (% Daily Value)'],\n",
       "       dtype='object')]"
      ]
     },
     "execution_count": 23,
     "metadata": {},
     "output_type": "execute_result"
    }
   ],
   "source": [
    "frame.axes"
   ]
  },
  {
   "cell_type": "code",
   "execution_count": 24,
   "id": "d798834a",
   "metadata": {},
   "outputs": [
    {
     "data": {
      "text/plain": [
       "Index(['Egg McMuffin', 'Egg White Delight', 'Sausage McMuffin',\n",
       "       'Sausage McMuffin with Egg', 'Sausage McMuffin with Egg Whites',\n",
       "       'Steak & Egg McMuffin', 'Bacon, Egg & Cheese Biscuit (Regular Biscuit)',\n",
       "       'Bacon, Egg & Cheese Biscuit (Large Biscuit)',\n",
       "       'Bacon, Egg & Cheese Biscuit with Egg Whites (Regular Biscuit)',\n",
       "       'Bacon, Egg & Cheese Biscuit with Egg Whites (Large Biscuit)',\n",
       "       ...\n",
       "       'Shamrock Shake (Medium)', 'Shamrock Shake (Large)',\n",
       "       'McFlurry with M&M’s Candies (Small)',\n",
       "       'McFlurry with M&M’s Candies (Medium)',\n",
       "       'McFlurry with M&M’s Candies (Snack)',\n",
       "       'McFlurry with Oreo Cookies (Small)',\n",
       "       'McFlurry with Oreo Cookies (Medium)',\n",
       "       'McFlurry with Oreo Cookies (Snack)',\n",
       "       'McFlurry with Reese's Peanut Butter Cups (Medium)',\n",
       "       'McFlurry with Reese's Peanut Butter Cups (Snack)'],\n",
       "      dtype='object', name='Item', length=260)"
      ]
     },
     "execution_count": 24,
     "metadata": {},
     "output_type": "execute_result"
    }
   ],
   "source": [
    "series.index"
   ]
  },
  {
   "cell_type": "code",
   "execution_count": 25,
   "id": "01f89327",
   "metadata": {},
   "outputs": [
    {
     "data": {
      "text/plain": [
       "RangeIndex(start=0, stop=260, step=1)"
      ]
     },
     "execution_count": 25,
     "metadata": {},
     "output_type": "execute_result"
    }
   ],
   "source": [
    "frame.index"
   ]
  },
  {
   "cell_type": "code",
   "execution_count": 26,
   "id": "925183d5",
   "metadata": {},
   "outputs": [
    {
     "data": {
      "text/plain": [
       "Index(['Category', 'Item', 'Serving Size', 'Calories', 'Calories from Fat',\n",
       "       'TotalFat', 'Total Fat (% Daily Value)', 'Saturated Fat',\n",
       "       'Saturated Fat (% Daily Value)', 'Trans Fat', 'Cholesterol',\n",
       "       'Cholesterol (% Daily Value)', 'Sodium', 'Sodium (% Daily Value)',\n",
       "       'Carbohydrates', 'Carbohydrates (% Daily Value)', 'Dietary Fiber',\n",
       "       'Dietary Fiber (% Daily Value)', 'Sugars', 'Protein',\n",
       "       'Vitamin A (% Daily Value)', 'Vitamin C (% Daily Value)',\n",
       "       'Calcium (% Daily Value)', 'Iron (% Daily Value)'],\n",
       "      dtype='object')"
      ]
     },
     "execution_count": 26,
     "metadata": {},
     "output_type": "execute_result"
    }
   ],
   "source": [
    "frame.columns"
   ]
  },
  {
   "cell_type": "code",
   "execution_count": 27,
   "id": "6da9bc69",
   "metadata": {},
   "outputs": [
    {
     "data": {
      "text/plain": [
       "array([ 300,  250,  370,  450,  400,  430,  460,  520,  410,  470,  430,\n",
       "        480,  510,  570,  460,  520,  410,  470,  540,  460,  400,  420,\n",
       "        550,  500,  620,  570,  670,  740,  800,  640,  690, 1090, 1150,\n",
       "        990, 1050,  350,  520,  300,  150,  460,  290,  260,  530,  520,\n",
       "        600,  610,  540,  750,  240,  290,  430,  720,  380,  440,  430,\n",
       "        430,  500,  510,  350,  670,  510,  610,  450,  750,  590,  430,\n",
       "        360,  480,  430,  360,  630,  480,  610,  450,  670,  520,  540,\n",
       "        380,  190,  280,  470,  940, 1880,  390,  140,  380,  220,  140,\n",
       "        450,  290,  340,  260,  330,  250,  360,  280,  230,  340,  510,\n",
       "        110,   20,   15,  150,  250,  160,  150,   45,  330,  340,  280,\n",
       "        140,  200,  280,  100,    0,    0,    0,    0,  140,  190,  270,\n",
       "        100,    0,    0,    0,    0,  140,  200,  280,  100,  100,  130,\n",
       "         80,  150,  190,  280,    0,    0,    0,    0,    0,  150,  180,\n",
       "        220,  110,    0,    0,    0,  170,  210,  280,  270,  340,  430,\n",
       "        270,  330,  430,  260,  330,  420,  210,  260,  330,  100,  130,\n",
       "        170,  200,  250,  310,  200,  250,  310,  190,  240,  300,  140,\n",
       "        170,  220,  340,  410,  500,  270,  330,  390,  320,  390,  480,\n",
       "        250,  310,  370,  360,  440,  540,  280,  340,  400,  140,  190,\n",
       "        270,  130,  180,  260,  130,  180,  250,  120,  170,  240,   80,\n",
       "        120,  160,  290,  350,  480,  240,  290,  390,  280,  340,  460,\n",
       "        230,  270,  370,  450,  550,  670,  450,  550,  670,  530,  630,\n",
       "        760,  220,  260,  340,  210,  250,  330,  210,  260,  340,  530,\n",
       "        660,  820,  550,  690,  850,  560,  700,  850,  660,  820,  650,\n",
       "        930,  430,  510,  690,  340,  810,  410], dtype=int64)"
      ]
     },
     "execution_count": 27,
     "metadata": {},
     "output_type": "execute_result"
    }
   ],
   "source": [
    "series.values"
   ]
  },
  {
   "cell_type": "code",
   "execution_count": 28,
   "id": "442f7261",
   "metadata": {},
   "outputs": [
    {
     "data": {
      "text/plain": [
       "array([['Breakfast', 'Egg McMuffin', '4.8 oz (136 g)', ..., 0, 25, 15],\n",
       "       ['Breakfast', 'Egg White Delight', '4.8 oz (135 g)', ..., 0, 25,\n",
       "        8],\n",
       "       ['Breakfast', 'Sausage McMuffin', '3.9 oz (111 g)', ..., 0, 25,\n",
       "        10],\n",
       "       ...,\n",
       "       ['Smoothies & Shakes', 'McFlurry with Oreo Cookies (Snack)',\n",
       "        '6.7 oz (190 g)', ..., 0, 25, 6],\n",
       "       ['Smoothies & Shakes',\n",
       "        \"McFlurry with Reese's Peanut Butter Cups (Medium)\",\n",
       "        '14.2 oz (403 g)', ..., 0, 60, 6],\n",
       "       ['Smoothies & Shakes',\n",
       "        \"McFlurry with Reese's Peanut Butter Cups (Snack)\",\n",
       "        '7.1 oz (202 g)', ..., 0, 30, 4]], dtype=object)"
      ]
     },
     "execution_count": 28,
     "metadata": {},
     "output_type": "execute_result"
    }
   ],
   "source": [
    "frame.values"
   ]
  },
  {
   "cell_type": "code",
   "execution_count": 29,
   "id": "fc7023f4",
   "metadata": {},
   "outputs": [
    {
     "data": {
      "text/plain": [
       "0      16\n",
       "340    10\n",
       "430    10\n",
       "280     9\n",
       "250     8\n",
       "       ..\n",
       "640     1\n",
       "800     1\n",
       "740     1\n",
       "620     1\n",
       "810     1\n",
       "Name: Calories, Length: 78, dtype: int64"
      ]
     },
     "execution_count": 29,
     "metadata": {},
     "output_type": "execute_result"
    }
   ],
   "source": [
    "series.value_counts()"
   ]
  },
  {
   "cell_type": "code",
   "execution_count": 31,
   "id": "4bcc0ea9",
   "metadata": {},
   "outputs": [
    {
     "data": {
      "text/plain": [
       "Category        Item                                Serving Size     Calories  Calories from Fat  TotalFat  Total Fat (% Daily Value)  Saturated Fat  Saturated Fat (% Daily Value)  Trans Fat  Cholesterol  Cholesterol (% Daily Value)  Sodium  Sodium (% Daily Value)  Carbohydrates  Carbohydrates (% Daily Value)  Dietary Fiber  Dietary Fiber (% Daily Value)  Sugars  Protein  Vitamin A (% Daily Value)  Vitamin C (% Daily Value)  Calcium (% Daily Value)  Iron (% Daily Value)\n",
       "Beef & Pork     Bacon Clubhouse Burger              9.5 oz (270 g)   720       360                40.0      62                         15.0           75                             1.5        115          38                           1470    61                      51             17                             4              14                             14      39       8                          25                         30                       25                      1\n",
       "Coffee & Tea    Iced Nonfat Caramel Mocha (Medium)  16 fl oz cup     270       45                 5.0       8                          3.0            16                             0.0        20           7                            170     7                       47             16                             1              2                              41      10       15                         0                          30                       2                       1\n",
       "                Iced Tea (Child)                    12 fl oz cup     0         0                  0.0       0                          0.0            0                              0.0        0            0                            5       0                       0              0                              0              0                              0       0        0                          0                          0                        0                       1\n",
       "                Iced Tea (Large)                    30 fl oz cup     0         0                  0.0       0                          0.0            0                              0.0        0            0                            15      1                       0              0                              0              0                              0       0        0                          0                          0                        0                       1\n",
       "                Iced Tea (Medium)                   21 fl oz cup     0         0                  0.0       0                          0.0            0                              0.0        0            0                            10      0                       0              0                              0              0                              0       0        0                          0                          0                        0                       1\n",
       "                                                                                                                                                                                                                                                                                                                                                                                                                                                                                             ..\n",
       "Chicken & Fish  Chicken McNuggets (4 piece)         2.3 oz (65 g)    190       110                12.0      18                         2.0            10                             0.0        25           9                            360     15                      12             4                              1              2                              0       9        0                          2                          0                        2                       1\n",
       "                Chicken McNuggets (40 piece)        22.8 oz (646 g)  1880      1060               118.0     182                        20.0           101                            1.0        265          89                           3600    150                     118            39                             6              24                             1       87       0                          15                         8                        25                      1\n",
       "                Chicken McNuggets (6 piece)         3.4 oz (97 g)    280       160                18.0      27                         3.0            15                             0.0        40           13                           540     22                      18             6                              1              4                              0       13       0                          2                          2                        4                       1\n",
       "                Filet-O-Fish                        5 oz (142 g)     390       170                19.0      29                         4.0            19                             0.0        40           14                           590     24                      39             13                             2              7                              5       15       2                          0                          15                       10                      1\n",
       "Snacks & Sides  Small French Fries                  2.6 oz (75 g)    230       100                11.0      17                         1.5            8                              0.0        0            0                            130     5                       30             10                             2              10                             0       2        0                          30                         0                        4                       1\n",
       "Length: 260, dtype: int64"
      ]
     },
     "execution_count": 31,
     "metadata": {},
     "output_type": "execute_result"
    }
   ],
   "source": [
    "frame.value_counts()"
   ]
  },
  {
   "cell_type": "code",
   "execution_count": 32,
   "id": "ccef30db",
   "metadata": {},
   "outputs": [
    {
     "name": "stdout",
     "output_type": "stream",
     "text": [
      "<class 'pandas.core.series.Series'>\n",
      "Index: 260 entries, Egg McMuffin to McFlurry with Reese's Peanut Butter Cups (Snack)\n",
      "Series name: Calories\n",
      "Non-Null Count  Dtype\n",
      "--------------  -----\n",
      "260 non-null    int64\n",
      "dtypes: int64(1)\n",
      "memory usage: 12.2+ KB\n"
     ]
    }
   ],
   "source": [
    "series.info()"
   ]
  },
  {
   "cell_type": "code",
   "execution_count": 33,
   "id": "d66d22b8",
   "metadata": {},
   "outputs": [
    {
     "data": {
      "text/plain": [
       "<bound method Series.info of Item\n",
       "Egg McMuffin                                         300\n",
       "Egg White Delight                                    250\n",
       "Sausage McMuffin                                     370\n",
       "Sausage McMuffin with Egg                            450\n",
       "Sausage McMuffin with Egg Whites                     400\n",
       "                                                    ... \n",
       "McFlurry with Oreo Cookies (Small)                   510\n",
       "McFlurry with Oreo Cookies (Medium)                  690\n",
       "McFlurry with Oreo Cookies (Snack)                   340\n",
       "McFlurry with Reese's Peanut Butter Cups (Medium)    810\n",
       "McFlurry with Reese's Peanut Butter Cups (Snack)     410\n",
       "Name: Calories, Length: 260, dtype: int64>"
      ]
     },
     "execution_count": 33,
     "metadata": {},
     "output_type": "execute_result"
    }
   ],
   "source": [
    "series.info"
   ]
  },
  {
   "cell_type": "code",
   "execution_count": 34,
   "id": "39479c0c",
   "metadata": {},
   "outputs": [
    {
     "data": {
      "text/plain": [
       "<bound method DataFrame.info of                Category                                               Item  \\\n",
       "0             Breakfast                                       Egg McMuffin   \n",
       "1             Breakfast                                  Egg White Delight   \n",
       "2             Breakfast                                   Sausage McMuffin   \n",
       "3             Breakfast                          Sausage McMuffin with Egg   \n",
       "4             Breakfast                   Sausage McMuffin with Egg Whites   \n",
       "..                  ...                                                ...   \n",
       "255  Smoothies & Shakes                 McFlurry with Oreo Cookies (Small)   \n",
       "256  Smoothies & Shakes                McFlurry with Oreo Cookies (Medium)   \n",
       "257  Smoothies & Shakes                 McFlurry with Oreo Cookies (Snack)   \n",
       "258  Smoothies & Shakes  McFlurry with Reese's Peanut Butter Cups (Medium)   \n",
       "259  Smoothies & Shakes   McFlurry with Reese's Peanut Butter Cups (Snack)   \n",
       "\n",
       "        Serving Size  Calories  Calories from Fat  TotalFat  \\\n",
       "0     4.8 oz (136 g)       300                120      13.0   \n",
       "1     4.8 oz (135 g)       250                 70       8.0   \n",
       "2     3.9 oz (111 g)       370                200      23.0   \n",
       "3     5.7 oz (161 g)       450                250      28.0   \n",
       "4     5.7 oz (161 g)       400                210      23.0   \n",
       "..               ...       ...                ...       ...   \n",
       "255  10.1 oz (285 g)       510                150      17.0   \n",
       "256  13.4 oz (381 g)       690                200      23.0   \n",
       "257   6.7 oz (190 g)       340                100      11.0   \n",
       "258  14.2 oz (403 g)       810                290      32.0   \n",
       "259   7.1 oz (202 g)       410                150      16.0   \n",
       "\n",
       "     Total Fat (% Daily Value)  Saturated Fat  Saturated Fat (% Daily Value)  \\\n",
       "0                           20            5.0                             25   \n",
       "1                           12            3.0                             15   \n",
       "2                           35            8.0                             42   \n",
       "3                           43           10.0                             52   \n",
       "4                           35            8.0                             42   \n",
       "..                         ...            ...                            ...   \n",
       "255                         26            9.0                             44   \n",
       "256                         35           12.0                             58   \n",
       "257                         17            6.0                             29   \n",
       "258                         50           15.0                             76   \n",
       "259                         25            8.0                             38   \n",
       "\n",
       "     Trans Fat  ...  Carbohydrates  Carbohydrates (% Daily Value)  \\\n",
       "0          0.0  ...             31                             10   \n",
       "1          0.0  ...             30                             10   \n",
       "2          0.0  ...             29                             10   \n",
       "3          0.0  ...             30                             10   \n",
       "4          0.0  ...             30                             10   \n",
       "..         ...  ...            ...                            ...   \n",
       "255        0.5  ...             80                             27   \n",
       "256        1.0  ...            106                             35   \n",
       "257        0.0  ...             53                             18   \n",
       "258        1.0  ...            114                             38   \n",
       "259        0.0  ...             57                             19   \n",
       "\n",
       "     Dietary Fiber  Dietary Fiber (% Daily Value)  Sugars  Protein  \\\n",
       "0                4                             17       3       17   \n",
       "1                4                             17       3       18   \n",
       "2                4                             17       2       14   \n",
       "3                4                             17       2       21   \n",
       "4                4                             17       2       21   \n",
       "..             ...                            ...     ...      ...   \n",
       "255              1                              4      64       12   \n",
       "256              1                              5      85       15   \n",
       "257              1                              2      43        8   \n",
       "258              2                              9     103       21   \n",
       "259              1                              5      51       10   \n",
       "\n",
       "     Vitamin A (% Daily Value)  Vitamin C (% Daily Value)  \\\n",
       "0                           10                          0   \n",
       "1                            6                          0   \n",
       "2                            8                          0   \n",
       "3                           15                          0   \n",
       "4                            6                          0   \n",
       "..                         ...                        ...   \n",
       "255                         15                          0   \n",
       "256                         20                          0   \n",
       "257                         10                          0   \n",
       "258                         20                          0   \n",
       "259                         10                          0   \n",
       "\n",
       "     Calcium (% Daily Value)  Iron (% Daily Value)  \n",
       "0                         25                    15  \n",
       "1                         25                     8  \n",
       "2                         25                    10  \n",
       "3                         30                    15  \n",
       "4                         25                    10  \n",
       "..                       ...                   ...  \n",
       "255                       40                     8  \n",
       "256                       50                    10  \n",
       "257                       25                     6  \n",
       "258                       60                     6  \n",
       "259                       30                     4  \n",
       "\n",
       "[260 rows x 24 columns]>"
      ]
     },
     "execution_count": 34,
     "metadata": {},
     "output_type": "execute_result"
    }
   ],
   "source": [
    "frame.info"
   ]
  },
  {
   "cell_type": "code",
   "execution_count": 35,
   "id": "afad6ec6",
   "metadata": {},
   "outputs": [
    {
     "name": "stdout",
     "output_type": "stream",
     "text": [
      "<class 'pandas.core.frame.DataFrame'>\n",
      "RangeIndex: 260 entries, 0 to 259\n",
      "Data columns (total 24 columns):\n",
      " #   Column                         Non-Null Count  Dtype  \n",
      "---  ------                         --------------  -----  \n",
      " 0   Category                       260 non-null    object \n",
      " 1   Item                           260 non-null    object \n",
      " 2   Serving Size                   260 non-null    object \n",
      " 3   Calories                       260 non-null    int64  \n",
      " 4   Calories from Fat              260 non-null    int64  \n",
      " 5   TotalFat                       260 non-null    float64\n",
      " 6   Total Fat (% Daily Value)      260 non-null    int64  \n",
      " 7   Saturated Fat                  260 non-null    float64\n",
      " 8   Saturated Fat (% Daily Value)  260 non-null    int64  \n",
      " 9   Trans Fat                      260 non-null    float64\n",
      " 10  Cholesterol                    260 non-null    int64  \n",
      " 11  Cholesterol (% Daily Value)    260 non-null    int64  \n",
      " 12  Sodium                         260 non-null    int64  \n",
      " 13  Sodium (% Daily Value)         260 non-null    int64  \n",
      " 14  Carbohydrates                  260 non-null    int64  \n",
      " 15  Carbohydrates (% Daily Value)  260 non-null    int64  \n",
      " 16  Dietary Fiber                  260 non-null    int64  \n",
      " 17  Dietary Fiber (% Daily Value)  260 non-null    int64  \n",
      " 18  Sugars                         260 non-null    int64  \n",
      " 19  Protein                        260 non-null    int64  \n",
      " 20  Vitamin A (% Daily Value)      260 non-null    int64  \n",
      " 21  Vitamin C (% Daily Value)      260 non-null    int64  \n",
      " 22  Calcium (% Daily Value)        260 non-null    int64  \n",
      " 23  Iron (% Daily Value)           260 non-null    int64  \n",
      "dtypes: float64(3), int64(18), object(3)\n",
      "memory usage: 48.9+ KB\n"
     ]
    }
   ],
   "source": [
    "frame.info()"
   ]
  },
  {
   "cell_type": "code",
   "execution_count": 37,
   "id": "fde59092",
   "metadata": {},
   "outputs": [
    {
     "data": {
      "text/plain": [
       "0      16\n",
       "340    10\n",
       "430    10\n",
       "280     9\n",
       "250     8\n",
       "       ..\n",
       "640     1\n",
       "800     1\n",
       "740     1\n",
       "620     1\n",
       "810     1\n",
       "Name: Calories, Length: 78, dtype: int64"
      ]
     },
     "execution_count": 37,
     "metadata": {},
     "output_type": "execute_result"
    }
   ],
   "source": [
    "series.value_counts()"
   ]
  },
  {
   "cell_type": "code",
   "execution_count": 38,
   "id": "e37a2d58",
   "metadata": {},
   "outputs": [
    {
     "data": {
      "text/plain": [
       "Category        Item                                Serving Size     Calories  Calories from Fat  TotalFat  Total Fat (% Daily Value)  Saturated Fat  Saturated Fat (% Daily Value)  Trans Fat  Cholesterol  Cholesterol (% Daily Value)  Sodium  Sodium (% Daily Value)  Carbohydrates  Carbohydrates (% Daily Value)  Dietary Fiber  Dietary Fiber (% Daily Value)  Sugars  Protein  Vitamin A (% Daily Value)  Vitamin C (% Daily Value)  Calcium (% Daily Value)  Iron (% Daily Value)\n",
       "Beef & Pork     Bacon Clubhouse Burger              9.5 oz (270 g)   720       360                40.0      62                         15.0           75                             1.5        115          38                           1470    61                      51             17                             4              14                             14      39       8                          25                         30                       25                      1\n",
       "Coffee & Tea    Iced Nonfat Caramel Mocha (Medium)  16 fl oz cup     270       45                 5.0       8                          3.0            16                             0.0        20           7                            170     7                       47             16                             1              2                              41      10       15                         0                          30                       2                       1\n",
       "                Iced Tea (Child)                    12 fl oz cup     0         0                  0.0       0                          0.0            0                              0.0        0            0                            5       0                       0              0                              0              0                              0       0        0                          0                          0                        0                       1\n",
       "                Iced Tea (Large)                    30 fl oz cup     0         0                  0.0       0                          0.0            0                              0.0        0            0                            15      1                       0              0                              0              0                              0       0        0                          0                          0                        0                       1\n",
       "                Iced Tea (Medium)                   21 fl oz cup     0         0                  0.0       0                          0.0            0                              0.0        0            0                            10      0                       0              0                              0              0                              0       0        0                          0                          0                        0                       1\n",
       "                                                                                                                                                                                                                                                                                                                                                                                                                                                                                             ..\n",
       "Chicken & Fish  Chicken McNuggets (4 piece)         2.3 oz (65 g)    190       110                12.0      18                         2.0            10                             0.0        25           9                            360     15                      12             4                              1              2                              0       9        0                          2                          0                        2                       1\n",
       "                Chicken McNuggets (40 piece)        22.8 oz (646 g)  1880      1060               118.0     182                        20.0           101                            1.0        265          89                           3600    150                     118            39                             6              24                             1       87       0                          15                         8                        25                      1\n",
       "                Chicken McNuggets (6 piece)         3.4 oz (97 g)    280       160                18.0      27                         3.0            15                             0.0        40           13                           540     22                      18             6                              1              4                              0       13       0                          2                          2                        4                       1\n",
       "                Filet-O-Fish                        5 oz (142 g)     390       170                19.0      29                         4.0            19                             0.0        40           14                           590     24                      39             13                             2              7                              5       15       2                          0                          15                       10                      1\n",
       "Snacks & Sides  Small French Fries                  2.6 oz (75 g)    230       100                11.0      17                         1.5            8                              0.0        0            0                            130     5                       30             10                             2              10                             0       2        0                          30                         0                        4                       1\n",
       "Length: 260, dtype: int64"
      ]
     },
     "execution_count": 38,
     "metadata": {},
     "output_type": "execute_result"
    }
   ],
   "source": [
    "frame.value_counts()"
   ]
  },
  {
   "cell_type": "code",
   "execution_count": 39,
   "id": "c4fe3f27",
   "metadata": {},
   "outputs": [
    {
     "data": {
      "text/plain": [
       "0      16\n",
       "340    10\n",
       "430    10\n",
       "280     9\n",
       "250     8\n",
       "       ..\n",
       "640     1\n",
       "800     1\n",
       "740     1\n",
       "620     1\n",
       "810     1\n",
       "Name: Calories, Length: 78, dtype: int64"
      ]
     },
     "execution_count": 39,
     "metadata": {},
     "output_type": "execute_result"
    }
   ],
   "source": [
    "frame['Calories'].value_counts()"
   ]
  },
  {
   "cell_type": "code",
   "execution_count": 40,
   "id": "e8f762b7",
   "metadata": {},
   "outputs": [
    {
     "data": {
      "text/plain": [
       "Coffee & Tea          95\n",
       "Breakfast             42\n",
       "Smoothies & Shakes    28\n",
       "Chicken & Fish        27\n",
       "Beverages             27\n",
       "Beef & Pork           15\n",
       "Snacks & Sides        13\n",
       "Desserts               7\n",
       "Salads                 6\n",
       "Name: Category, dtype: int64"
      ]
     },
     "execution_count": 40,
     "metadata": {},
     "output_type": "execute_result"
    }
   ],
   "source": [
    "frame[\"Category\"].value_counts()"
   ]
  },
  {
   "cell_type": "code",
   "execution_count": 41,
   "id": "d3f4fb96",
   "metadata": {},
   "outputs": [
    {
     "data": {
      "text/plain": [
       "Item\n",
       "Caramel Latte (Medium)    340\n",
       "Name: Calories, dtype: int64"
      ]
     },
     "execution_count": 41,
     "metadata": {},
     "output_type": "execute_result"
    }
   ],
   "source": [
    "series.sample()"
   ]
  },
  {
   "cell_type": "code",
   "execution_count": 42,
   "id": "2825012f",
   "metadata": {},
   "outputs": [
    {
     "data": {
      "text/html": [
       "<div>\n",
       "<style scoped>\n",
       "    .dataframe tbody tr th:only-of-type {\n",
       "        vertical-align: middle;\n",
       "    }\n",
       "\n",
       "    .dataframe tbody tr th {\n",
       "        vertical-align: top;\n",
       "    }\n",
       "\n",
       "    .dataframe thead th {\n",
       "        text-align: right;\n",
       "    }\n",
       "</style>\n",
       "<table border=\"1\" class=\"dataframe\">\n",
       "  <thead>\n",
       "    <tr style=\"text-align: right;\">\n",
       "      <th></th>\n",
       "      <th>Category</th>\n",
       "      <th>Item</th>\n",
       "      <th>Serving Size</th>\n",
       "      <th>Calories</th>\n",
       "      <th>Calories from Fat</th>\n",
       "      <th>TotalFat</th>\n",
       "      <th>Total Fat (% Daily Value)</th>\n",
       "      <th>Saturated Fat</th>\n",
       "      <th>Saturated Fat (% Daily Value)</th>\n",
       "      <th>Trans Fat</th>\n",
       "      <th>...</th>\n",
       "      <th>Carbohydrates</th>\n",
       "      <th>Carbohydrates (% Daily Value)</th>\n",
       "      <th>Dietary Fiber</th>\n",
       "      <th>Dietary Fiber (% Daily Value)</th>\n",
       "      <th>Sugars</th>\n",
       "      <th>Protein</th>\n",
       "      <th>Vitamin A (% Daily Value)</th>\n",
       "      <th>Vitamin C (% Daily Value)</th>\n",
       "      <th>Calcium (% Daily Value)</th>\n",
       "      <th>Iron (% Daily Value)</th>\n",
       "    </tr>\n",
       "  </thead>\n",
       "  <tbody>\n",
       "    <tr>\n",
       "      <th>162</th>\n",
       "      <td>Coffee &amp; Tea</td>\n",
       "      <td>Latte with Sugar Free French Vanilla Syrup (La...</td>\n",
       "      <td>20 fl oz cup</td>\n",
       "      <td>330</td>\n",
       "      <td>120</td>\n",
       "      <td>14.0</td>\n",
       "      <td>21</td>\n",
       "      <td>8.0</td>\n",
       "      <td>39</td>\n",
       "      <td>0.0</td>\n",
       "      <td>...</td>\n",
       "      <td>37</td>\n",
       "      <td>12</td>\n",
       "      <td>2</td>\n",
       "      <td>7</td>\n",
       "      <td>20</td>\n",
       "      <td>15</td>\n",
       "      <td>15</td>\n",
       "      <td>0</td>\n",
       "      <td>50</td>\n",
       "      <td>2</td>\n",
       "    </tr>\n",
       "  </tbody>\n",
       "</table>\n",
       "<p>1 rows × 24 columns</p>\n",
       "</div>"
      ],
      "text/plain": [
       "         Category                                               Item  \\\n",
       "162  Coffee & Tea  Latte with Sugar Free French Vanilla Syrup (La...   \n",
       "\n",
       "     Serving Size  Calories  Calories from Fat  TotalFat  \\\n",
       "162  20 fl oz cup       330                120      14.0   \n",
       "\n",
       "     Total Fat (% Daily Value)  Saturated Fat  Saturated Fat (% Daily Value)  \\\n",
       "162                         21            8.0                             39   \n",
       "\n",
       "     Trans Fat  ...  Carbohydrates  Carbohydrates (% Daily Value)  \\\n",
       "162        0.0  ...             37                             12   \n",
       "\n",
       "     Dietary Fiber  Dietary Fiber (% Daily Value)  Sugars  Protein  \\\n",
       "162              2                              7      20       15   \n",
       "\n",
       "     Vitamin A (% Daily Value)  Vitamin C (% Daily Value)  \\\n",
       "162                         15                          0   \n",
       "\n",
       "     Calcium (% Daily Value)  Iron (% Daily Value)  \n",
       "162                       50                     2  \n",
       "\n",
       "[1 rows x 24 columns]"
      ]
     },
     "execution_count": 42,
     "metadata": {},
     "output_type": "execute_result"
    }
   ],
   "source": [
    "frame.sample()"
   ]
  },
  {
   "cell_type": "code",
   "execution_count": 43,
   "id": "474c5a65",
   "metadata": {},
   "outputs": [
    {
     "data": {
      "text/html": [
       "<div>\n",
       "<style scoped>\n",
       "    .dataframe tbody tr th:only-of-type {\n",
       "        vertical-align: middle;\n",
       "    }\n",
       "\n",
       "    .dataframe tbody tr th {\n",
       "        vertical-align: top;\n",
       "    }\n",
       "\n",
       "    .dataframe thead th {\n",
       "        text-align: right;\n",
       "    }\n",
       "</style>\n",
       "<table border=\"1\" class=\"dataframe\">\n",
       "  <thead>\n",
       "    <tr style=\"text-align: right;\">\n",
       "      <th></th>\n",
       "      <th>Category</th>\n",
       "      <th>Item</th>\n",
       "      <th>Serving Size</th>\n",
       "      <th>Calories</th>\n",
       "      <th>Calories from Fat</th>\n",
       "      <th>TotalFat</th>\n",
       "      <th>Total Fat (% Daily Value)</th>\n",
       "      <th>Saturated Fat</th>\n",
       "      <th>Saturated Fat (% Daily Value)</th>\n",
       "      <th>Trans Fat</th>\n",
       "      <th>...</th>\n",
       "      <th>Carbohydrates</th>\n",
       "      <th>Carbohydrates (% Daily Value)</th>\n",
       "      <th>Dietary Fiber</th>\n",
       "      <th>Dietary Fiber (% Daily Value)</th>\n",
       "      <th>Sugars</th>\n",
       "      <th>Protein</th>\n",
       "      <th>Vitamin A (% Daily Value)</th>\n",
       "      <th>Vitamin C (% Daily Value)</th>\n",
       "      <th>Calcium (% Daily Value)</th>\n",
       "      <th>Iron (% Daily Value)</th>\n",
       "    </tr>\n",
       "  </thead>\n",
       "  <tbody>\n",
       "    <tr>\n",
       "      <th>179</th>\n",
       "      <td>Coffee &amp; Tea</td>\n",
       "      <td>Mocha (Medium)</td>\n",
       "      <td>16 fl oz cup</td>\n",
       "      <td>410</td>\n",
       "      <td>120</td>\n",
       "      <td>14.0</td>\n",
       "      <td>21</td>\n",
       "      <td>8.0</td>\n",
       "      <td>40</td>\n",
       "      <td>0.0</td>\n",
       "      <td>...</td>\n",
       "      <td>60</td>\n",
       "      <td>20</td>\n",
       "      <td>2</td>\n",
       "      <td>8</td>\n",
       "      <td>53</td>\n",
       "      <td>13</td>\n",
       "      <td>10</td>\n",
       "      <td>0</td>\n",
       "      <td>40</td>\n",
       "      <td>6</td>\n",
       "    </tr>\n",
       "    <tr>\n",
       "      <th>69</th>\n",
       "      <td>Chicken &amp; Fish</td>\n",
       "      <td>Buffalo Ranch McChicken</td>\n",
       "      <td>5.2 oz (148 g)</td>\n",
       "      <td>360</td>\n",
       "      <td>150</td>\n",
       "      <td>16.0</td>\n",
       "      <td>25</td>\n",
       "      <td>3.0</td>\n",
       "      <td>16</td>\n",
       "      <td>0.0</td>\n",
       "      <td>...</td>\n",
       "      <td>40</td>\n",
       "      <td>13</td>\n",
       "      <td>2</td>\n",
       "      <td>7</td>\n",
       "      <td>5</td>\n",
       "      <td>14</td>\n",
       "      <td>2</td>\n",
       "      <td>2</td>\n",
       "      <td>15</td>\n",
       "      <td>15</td>\n",
       "    </tr>\n",
       "    <tr>\n",
       "      <th>57</th>\n",
       "      <td>Chicken &amp; Fish</td>\n",
       "      <td>Premium Crispy Chicken Classic Sandwich</td>\n",
       "      <td>7.5 oz (213 g)</td>\n",
       "      <td>510</td>\n",
       "      <td>200</td>\n",
       "      <td>22.0</td>\n",
       "      <td>33</td>\n",
       "      <td>3.5</td>\n",
       "      <td>18</td>\n",
       "      <td>0.0</td>\n",
       "      <td>...</td>\n",
       "      <td>55</td>\n",
       "      <td>18</td>\n",
       "      <td>3</td>\n",
       "      <td>13</td>\n",
       "      <td>10</td>\n",
       "      <td>24</td>\n",
       "      <td>4</td>\n",
       "      <td>6</td>\n",
       "      <td>15</td>\n",
       "      <td>20</td>\n",
       "    </tr>\n",
       "  </tbody>\n",
       "</table>\n",
       "<p>3 rows × 24 columns</p>\n",
       "</div>"
      ],
      "text/plain": [
       "           Category                                     Item    Serving Size  \\\n",
       "179    Coffee & Tea                           Mocha (Medium)    16 fl oz cup   \n",
       "69   Chicken & Fish                  Buffalo Ranch McChicken  5.2 oz (148 g)   \n",
       "57   Chicken & Fish  Premium Crispy Chicken Classic Sandwich  7.5 oz (213 g)   \n",
       "\n",
       "     Calories  Calories from Fat  TotalFat  Total Fat (% Daily Value)  \\\n",
       "179       410                120      14.0                         21   \n",
       "69        360                150      16.0                         25   \n",
       "57        510                200      22.0                         33   \n",
       "\n",
       "     Saturated Fat  Saturated Fat (% Daily Value)  Trans Fat  ...  \\\n",
       "179            8.0                             40        0.0  ...   \n",
       "69             3.0                             16        0.0  ...   \n",
       "57             3.5                             18        0.0  ...   \n",
       "\n",
       "     Carbohydrates  Carbohydrates (% Daily Value)  Dietary Fiber  \\\n",
       "179             60                             20              2   \n",
       "69              40                             13              2   \n",
       "57              55                             18              3   \n",
       "\n",
       "     Dietary Fiber (% Daily Value)  Sugars  Protein  \\\n",
       "179                              8      53       13   \n",
       "69                               7       5       14   \n",
       "57                              13      10       24   \n",
       "\n",
       "     Vitamin A (% Daily Value)  Vitamin C (% Daily Value)  \\\n",
       "179                         10                          0   \n",
       "69                           2                          2   \n",
       "57                           4                          6   \n",
       "\n",
       "     Calcium (% Daily Value)  Iron (% Daily Value)  \n",
       "179                       40                     6  \n",
       "69                        15                    15  \n",
       "57                        15                    20  \n",
       "\n",
       "[3 rows x 24 columns]"
      ]
     },
     "execution_count": 43,
     "metadata": {},
     "output_type": "execute_result"
    }
   ],
   "source": [
    "frame.sample(n=3)"
   ]
  },
  {
   "cell_type": "code",
   "execution_count": 45,
   "id": "d6ae1b2c",
   "metadata": {},
   "outputs": [
    {
     "data": {
      "text/html": [
       "<div>\n",
       "<style scoped>\n",
       "    .dataframe tbody tr th:only-of-type {\n",
       "        vertical-align: middle;\n",
       "    }\n",
       "\n",
       "    .dataframe tbody tr th {\n",
       "        vertical-align: top;\n",
       "    }\n",
       "\n",
       "    .dataframe thead th {\n",
       "        text-align: right;\n",
       "    }\n",
       "</style>\n",
       "<table border=\"1\" class=\"dataframe\">\n",
       "  <thead>\n",
       "    <tr style=\"text-align: right;\">\n",
       "      <th></th>\n",
       "      <th>Category</th>\n",
       "      <th>Item</th>\n",
       "      <th>Serving Size</th>\n",
       "      <th>Calories</th>\n",
       "      <th>Calories from Fat</th>\n",
       "      <th>TotalFat</th>\n",
       "      <th>Total Fat (% Daily Value)</th>\n",
       "      <th>Saturated Fat</th>\n",
       "      <th>Saturated Fat (% Daily Value)</th>\n",
       "      <th>Trans Fat</th>\n",
       "      <th>...</th>\n",
       "      <th>Carbohydrates</th>\n",
       "      <th>Carbohydrates (% Daily Value)</th>\n",
       "      <th>Dietary Fiber</th>\n",
       "      <th>Dietary Fiber (% Daily Value)</th>\n",
       "      <th>Sugars</th>\n",
       "      <th>Protein</th>\n",
       "      <th>Vitamin A (% Daily Value)</th>\n",
       "      <th>Vitamin C (% Daily Value)</th>\n",
       "      <th>Calcium (% Daily Value)</th>\n",
       "      <th>Iron (% Daily Value)</th>\n",
       "    </tr>\n",
       "  </thead>\n",
       "  <tbody>\n",
       "    <tr>\n",
       "      <th>131</th>\n",
       "      <td>Beverages</td>\n",
       "      <td>Fat Free Chocolate Milk Jug</td>\n",
       "      <td>1 carton (236 ml)</td>\n",
       "      <td>130</td>\n",
       "      <td>0</td>\n",
       "      <td>0.0</td>\n",
       "      <td>0</td>\n",
       "      <td>0.0</td>\n",
       "      <td>0</td>\n",
       "      <td>0.0</td>\n",
       "      <td>...</td>\n",
       "      <td>23</td>\n",
       "      <td>8</td>\n",
       "      <td>1</td>\n",
       "      <td>2</td>\n",
       "      <td>22</td>\n",
       "      <td>9</td>\n",
       "      <td>10</td>\n",
       "      <td>0</td>\n",
       "      <td>30</td>\n",
       "      <td>8</td>\n",
       "    </tr>\n",
       "    <tr>\n",
       "      <th>54</th>\n",
       "      <td>Beef &amp; Pork</td>\n",
       "      <td>Daily Double</td>\n",
       "      <td>6.7 oz (190 g)</td>\n",
       "      <td>430</td>\n",
       "      <td>200</td>\n",
       "      <td>22.0</td>\n",
       "      <td>35</td>\n",
       "      <td>9.0</td>\n",
       "      <td>44</td>\n",
       "      <td>1.0</td>\n",
       "      <td>...</td>\n",
       "      <td>34</td>\n",
       "      <td>11</td>\n",
       "      <td>2</td>\n",
       "      <td>8</td>\n",
       "      <td>7</td>\n",
       "      <td>22</td>\n",
       "      <td>8</td>\n",
       "      <td>8</td>\n",
       "      <td>20</td>\n",
       "      <td>20</td>\n",
       "    </tr>\n",
       "    <tr>\n",
       "      <th>228</th>\n",
       "      <td>Coffee &amp; Tea</td>\n",
       "      <td>Frappé Caramel (Large)</td>\n",
       "      <td>22 fl oz cup</td>\n",
       "      <td>670</td>\n",
       "      <td>250</td>\n",
       "      <td>27.0</td>\n",
       "      <td>42</td>\n",
       "      <td>17.0</td>\n",
       "      <td>87</td>\n",
       "      <td>1.5</td>\n",
       "      <td>...</td>\n",
       "      <td>96</td>\n",
       "      <td>32</td>\n",
       "      <td>0</td>\n",
       "      <td>0</td>\n",
       "      <td>88</td>\n",
       "      <td>11</td>\n",
       "      <td>20</td>\n",
       "      <td>0</td>\n",
       "      <td>35</td>\n",
       "      <td>2</td>\n",
       "    </tr>\n",
       "    <tr>\n",
       "      <th>84</th>\n",
       "      <td>Salads</td>\n",
       "      <td>Premium Bacon Ranch Salad (without Chicken)</td>\n",
       "      <td>7.9 oz (223 g)</td>\n",
       "      <td>140</td>\n",
       "      <td>70</td>\n",
       "      <td>7.0</td>\n",
       "      <td>11</td>\n",
       "      <td>3.5</td>\n",
       "      <td>18</td>\n",
       "      <td>0.0</td>\n",
       "      <td>...</td>\n",
       "      <td>10</td>\n",
       "      <td>3</td>\n",
       "      <td>3</td>\n",
       "      <td>12</td>\n",
       "      <td>4</td>\n",
       "      <td>9</td>\n",
       "      <td>170</td>\n",
       "      <td>30</td>\n",
       "      <td>15</td>\n",
       "      <td>6</td>\n",
       "    </tr>\n",
       "    <tr>\n",
       "      <th>43</th>\n",
       "      <td>Beef &amp; Pork</td>\n",
       "      <td>Quarter Pounder with Cheese</td>\n",
       "      <td>7.1 oz (202 g)</td>\n",
       "      <td>520</td>\n",
       "      <td>240</td>\n",
       "      <td>26.0</td>\n",
       "      <td>41</td>\n",
       "      <td>12.0</td>\n",
       "      <td>61</td>\n",
       "      <td>1.5</td>\n",
       "      <td>...</td>\n",
       "      <td>41</td>\n",
       "      <td>14</td>\n",
       "      <td>3</td>\n",
       "      <td>11</td>\n",
       "      <td>10</td>\n",
       "      <td>30</td>\n",
       "      <td>10</td>\n",
       "      <td>2</td>\n",
       "      <td>30</td>\n",
       "      <td>25</td>\n",
       "    </tr>\n",
       "  </tbody>\n",
       "</table>\n",
       "<p>5 rows × 24 columns</p>\n",
       "</div>"
      ],
      "text/plain": [
       "         Category                                         Item  \\\n",
       "131     Beverages                  Fat Free Chocolate Milk Jug   \n",
       "54    Beef & Pork                                 Daily Double   \n",
       "228  Coffee & Tea                       Frappé Caramel (Large)   \n",
       "84         Salads  Premium Bacon Ranch Salad (without Chicken)   \n",
       "43    Beef & Pork                  Quarter Pounder with Cheese   \n",
       "\n",
       "          Serving Size  Calories  Calories from Fat  TotalFat  \\\n",
       "131  1 carton (236 ml)       130                  0       0.0   \n",
       "54      6.7 oz (190 g)       430                200      22.0   \n",
       "228       22 fl oz cup       670                250      27.0   \n",
       "84      7.9 oz (223 g)       140                 70       7.0   \n",
       "43      7.1 oz (202 g)       520                240      26.0   \n",
       "\n",
       "     Total Fat (% Daily Value)  Saturated Fat  Saturated Fat (% Daily Value)  \\\n",
       "131                          0            0.0                              0   \n",
       "54                          35            9.0                             44   \n",
       "228                         42           17.0                             87   \n",
       "84                          11            3.5                             18   \n",
       "43                          41           12.0                             61   \n",
       "\n",
       "     Trans Fat  ...  Carbohydrates  Carbohydrates (% Daily Value)  \\\n",
       "131        0.0  ...             23                              8   \n",
       "54         1.0  ...             34                             11   \n",
       "228        1.5  ...             96                             32   \n",
       "84         0.0  ...             10                              3   \n",
       "43         1.5  ...             41                             14   \n",
       "\n",
       "     Dietary Fiber  Dietary Fiber (% Daily Value)  Sugars  Protein  \\\n",
       "131              1                              2      22        9   \n",
       "54               2                              8       7       22   \n",
       "228              0                              0      88       11   \n",
       "84               3                             12       4        9   \n",
       "43               3                             11      10       30   \n",
       "\n",
       "     Vitamin A (% Daily Value)  Vitamin C (% Daily Value)  \\\n",
       "131                         10                          0   \n",
       "54                           8                          8   \n",
       "228                         20                          0   \n",
       "84                         170                         30   \n",
       "43                          10                          2   \n",
       "\n",
       "     Calcium (% Daily Value)  Iron (% Daily Value)  \n",
       "131                       30                     8  \n",
       "54                        20                    20  \n",
       "228                       35                     2  \n",
       "84                        15                     6  \n",
       "43                        30                    25  \n",
       "\n",
       "[5 rows x 24 columns]"
      ]
     },
     "execution_count": 45,
     "metadata": {},
     "output_type": "execute_result"
    }
   ],
   "source": [
    "frame.sample(frac=0.02)"
   ]
  },
  {
   "cell_type": "code",
   "execution_count": 46,
   "id": "f84a0cd2",
   "metadata": {},
   "outputs": [
    {
     "data": {
      "text/plain": [
       "260"
      ]
     },
     "execution_count": 46,
     "metadata": {},
     "output_type": "execute_result"
    }
   ],
   "source": [
    "len(frame)"
   ]
  },
  {
   "cell_type": "code",
   "execution_count": 47,
   "id": "7fcabb0a",
   "metadata": {},
   "outputs": [
    {
     "data": {
      "text/plain": [
       "(260, 24)"
      ]
     },
     "execution_count": 47,
     "metadata": {},
     "output_type": "execute_result"
    }
   ],
   "source": [
    "frame.shape"
   ]
  },
  {
   "cell_type": "code",
   "execution_count": null,
   "id": "48e5b209",
   "metadata": {},
   "outputs": [],
   "source": []
  },
  {
   "cell_type": "code",
   "execution_count": null,
   "id": "d9ac9112",
   "metadata": {},
   "outputs": [],
   "source": []
  }
 ],
 "metadata": {
  "kernelspec": {
   "display_name": "Python 3 (ipykernel)",
   "language": "python",
   "name": "python3"
  },
  "language_info": {
   "codemirror_mode": {
    "name": "ipython",
    "version": 3
   },
   "file_extension": ".py",
   "mimetype": "text/x-python",
   "name": "python",
   "nbconvert_exporter": "python",
   "pygments_lexer": "ipython3",
   "version": "3.9.12"
  }
 },
 "nbformat": 4,
 "nbformat_minor": 5
}
