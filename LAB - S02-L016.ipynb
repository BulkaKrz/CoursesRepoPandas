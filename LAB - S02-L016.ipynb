{
 "cells": [
  {
   "cell_type": "markdown",
   "id": "1eb0d954",
   "metadata": {},
   "source": [
    "### LAB - S02-L016 - Więcej funkcji Data Series\n",
    "1. Zaimportuj moduł pandas i nadaj mu standardowy alias.\n",
    "2. Do zmiennej programmers wczytaj serię danych z pliku *StackOverflowDeveloperSurvey2018.csv.* Wczytując dane użyj arguemtu *low_memory=False, usecols='ConvertedSalary i squeeze=True.*\n",
    "3. Wylicz średnią, medianę i odchylenie standardowe. Co można powiedzieć o tych danych?\n",
    "4. Wylicz maksymalną wartość **Salary.**\n",
    "5. Do zmiennej **fortune500** wczytaj dane z pliku *Fortune_500_2017.csv.* Wczytaj kolumny **Title i Employees**. Kolumna Title powinna stać się indeksem. Wyświetl nagłówek otrzymanej serii danych.\n",
    "6. Wyświetl jaki jest indeks dla pozycji z największą liczbą pracowników. W ten sposób znajdziesz na liście **Fortune** firmę zatrudniającą najwięcej pracowników.\n",
    "7. A ile pracowników zatrudnia ta firma. Skorzystaj z wartości wyliczonej w poprzednim punkcie\n",
    "8. Wyświetl jaki jest indeks dla pozycji z najmniejszą liczbą pracowników. W ten sposób znajdziesz na liście **Fortune** firmę zatrudniającą najmniej pracowników\n",
    "9. A ile pracowników zatrudnia ta firma. Skorzystaj z wartości wyliczonej w poprzednim punkcie"
   ]
  },
  {
   "cell_type": "code",
   "execution_count": 1,
   "id": "08efd301",
   "metadata": {},
   "outputs": [],
   "source": [
    "import pandas as pd"
   ]
  },
  {
   "cell_type": "code",
   "execution_count": 7,
   "id": "04d94e3f",
   "metadata": {},
   "outputs": [],
   "source": [
    "programmers = pd.read_csv(r'D:\\Udemy\\PYTHON_scripts\\course-files\\StackOverflowDeveloperSurvey2018.csv',low_memory=False, usecols=['ConvertedSalary']).squeeze().dropna()"
   ]
  },
  {
   "cell_type": "code",
   "execution_count": 8,
   "id": "4100b6fc",
   "metadata": {},
   "outputs": [
    {
     "data": {
      "text/plain": [
       "1     70841.0\n",
       "4     21426.0\n",
       "5     41671.0\n",
       "6    120000.0\n",
       "8    250000.0\n",
       "Name: ConvertedSalary, dtype: float64"
      ]
     },
     "execution_count": 8,
     "metadata": {},
     "output_type": "execute_result"
    }
   ],
   "source": [
    "programmers.head()"
   ]
  },
  {
   "cell_type": "code",
   "execution_count": 9,
   "id": "862934d7",
   "metadata": {},
   "outputs": [
    {
     "data": {
      "text/plain": [
       "95780.86178776571"
      ]
     },
     "execution_count": 9,
     "metadata": {},
     "output_type": "execute_result"
    }
   ],
   "source": [
    "programmers.mean()"
   ]
  },
  {
   "cell_type": "code",
   "execution_count": 10,
   "id": "a7903baa",
   "metadata": {},
   "outputs": [
    {
     "data": {
      "text/plain": [
       "55075.0"
      ]
     },
     "execution_count": 10,
     "metadata": {},
     "output_type": "execute_result"
    }
   ],
   "source": [
    "programmers.median()"
   ]
  },
  {
   "cell_type": "code",
   "execution_count": 11,
   "id": "7a9d7a0b",
   "metadata": {},
   "outputs": [
    {
     "data": {
      "text/plain": [
       "202348.21562528735"
      ]
     },
     "execution_count": 11,
     "metadata": {},
     "output_type": "execute_result"
    }
   ],
   "source": [
    "programmers.std()"
   ]
  },
  {
   "cell_type": "code",
   "execution_count": 12,
   "id": "0e469817",
   "metadata": {},
   "outputs": [
    {
     "data": {
      "text/plain": [
       "2000000.0"
      ]
     },
     "execution_count": 12,
     "metadata": {},
     "output_type": "execute_result"
    }
   ],
   "source": [
    "max(programmers)"
   ]
  },
  {
   "cell_type": "code",
   "execution_count": 13,
   "id": "b04baac8",
   "metadata": {},
   "outputs": [
    {
     "data": {
      "text/plain": [
       "2000000.0"
      ]
     },
     "execution_count": 13,
     "metadata": {},
     "output_type": "execute_result"
    }
   ],
   "source": [
    "programmers.max()"
   ]
  },
  {
   "cell_type": "code",
   "execution_count": 17,
   "id": "cda38632",
   "metadata": {},
   "outputs": [],
   "source": [
    "fortune500 = pd.read_csv(r'D:\\Udemy\\PYTHON_scripts\\course-files\\Fortune_500_2017.csv', usecols=['Title','Employees'], index_col='Title')"
   ]
  },
  {
   "cell_type": "code",
   "execution_count": 18,
   "id": "e54496b7",
   "metadata": {},
   "outputs": [
    {
     "data": {
      "text/html": [
       "<div>\n",
       "<style scoped>\n",
       "    .dataframe tbody tr th:only-of-type {\n",
       "        vertical-align: middle;\n",
       "    }\n",
       "\n",
       "    .dataframe tbody tr th {\n",
       "        vertical-align: top;\n",
       "    }\n",
       "\n",
       "    .dataframe thead th {\n",
       "        text-align: right;\n",
       "    }\n",
       "</style>\n",
       "<table border=\"1\" class=\"dataframe\">\n",
       "  <thead>\n",
       "    <tr style=\"text-align: right;\">\n",
       "      <th></th>\n",
       "      <th>Employees</th>\n",
       "    </tr>\n",
       "    <tr>\n",
       "      <th>Title</th>\n",
       "      <th></th>\n",
       "    </tr>\n",
       "  </thead>\n",
       "  <tbody>\n",
       "    <tr>\n",
       "      <th>Walmart</th>\n",
       "      <td>2300000</td>\n",
       "    </tr>\n",
       "    <tr>\n",
       "      <th>Berkshire Hathaway</th>\n",
       "      <td>367700</td>\n",
       "    </tr>\n",
       "    <tr>\n",
       "      <th>Apple</th>\n",
       "      <td>116000</td>\n",
       "    </tr>\n",
       "    <tr>\n",
       "      <th>Exxon Mobil</th>\n",
       "      <td>72700</td>\n",
       "    </tr>\n",
       "    <tr>\n",
       "      <th>McKesson</th>\n",
       "      <td>68000</td>\n",
       "    </tr>\n",
       "  </tbody>\n",
       "</table>\n",
       "</div>"
      ],
      "text/plain": [
       "                    Employees\n",
       "Title                        \n",
       "Walmart               2300000\n",
       "Berkshire Hathaway     367700\n",
       "Apple                  116000\n",
       "Exxon Mobil             72700\n",
       "McKesson                68000"
      ]
     },
     "execution_count": 18,
     "metadata": {},
     "output_type": "execute_result"
    }
   ],
   "source": [
    "fortune500.head()"
   ]
  },
  {
   "cell_type": "code",
   "execution_count": 20,
   "id": "26d562bb",
   "metadata": {},
   "outputs": [
    {
     "data": {
      "text/plain": [
       "Employees    Walmart\n",
       "dtype: object"
      ]
     },
     "execution_count": 20,
     "metadata": {},
     "output_type": "execute_result"
    }
   ],
   "source": [
    "fortune500.idxmax()"
   ]
  },
  {
   "cell_type": "code",
   "execution_count": 23,
   "id": "d68ea48b",
   "metadata": {},
   "outputs": [
    {
     "data": {
      "text/html": [
       "<div>\n",
       "<style scoped>\n",
       "    .dataframe tbody tr th:only-of-type {\n",
       "        vertical-align: middle;\n",
       "    }\n",
       "\n",
       "    .dataframe tbody tr th {\n",
       "        vertical-align: top;\n",
       "    }\n",
       "\n",
       "    .dataframe thead th {\n",
       "        text-align: right;\n",
       "    }\n",
       "</style>\n",
       "<table border=\"1\" class=\"dataframe\">\n",
       "  <thead>\n",
       "    <tr style=\"text-align: right;\">\n",
       "      <th></th>\n",
       "      <th>Employees</th>\n",
       "    </tr>\n",
       "    <tr>\n",
       "      <th>Title</th>\n",
       "      <th></th>\n",
       "    </tr>\n",
       "  </thead>\n",
       "  <tbody>\n",
       "    <tr>\n",
       "      <th>Walmart</th>\n",
       "      <td>2300000</td>\n",
       "    </tr>\n",
       "  </tbody>\n",
       "</table>\n",
       "</div>"
      ],
      "text/plain": [
       "         Employees\n",
       "Title             \n",
       "Walmart    2300000"
      ]
     },
     "execution_count": 23,
     "metadata": {},
     "output_type": "execute_result"
    }
   ],
   "source": [
    "fortune500.loc[fortune500.idxmax()]"
   ]
  },
  {
   "cell_type": "code",
   "execution_count": 24,
   "id": "d016cfc4",
   "metadata": {},
   "outputs": [
    {
     "data": {
      "text/plain": [
       "Employees    A-Mark Precious Metals\n",
       "dtype: object"
      ]
     },
     "execution_count": 24,
     "metadata": {},
     "output_type": "execute_result"
    }
   ],
   "source": [
    "fortune500.idxmin()"
   ]
  },
  {
   "cell_type": "code",
   "execution_count": 25,
   "id": "61a485d3",
   "metadata": {},
   "outputs": [
    {
     "data": {
      "text/html": [
       "<div>\n",
       "<style scoped>\n",
       "    .dataframe tbody tr th:only-of-type {\n",
       "        vertical-align: middle;\n",
       "    }\n",
       "\n",
       "    .dataframe tbody tr th {\n",
       "        vertical-align: top;\n",
       "    }\n",
       "\n",
       "    .dataframe thead th {\n",
       "        text-align: right;\n",
       "    }\n",
       "</style>\n",
       "<table border=\"1\" class=\"dataframe\">\n",
       "  <thead>\n",
       "    <tr style=\"text-align: right;\">\n",
       "      <th></th>\n",
       "      <th>Employees</th>\n",
       "    </tr>\n",
       "    <tr>\n",
       "      <th>Title</th>\n",
       "      <th></th>\n",
       "    </tr>\n",
       "  </thead>\n",
       "  <tbody>\n",
       "    <tr>\n",
       "      <th>A-Mark Precious Metals</th>\n",
       "      <td>83</td>\n",
       "    </tr>\n",
       "  </tbody>\n",
       "</table>\n",
       "</div>"
      ],
      "text/plain": [
       "                        Employees\n",
       "Title                            \n",
       "A-Mark Precious Metals         83"
      ]
     },
     "execution_count": 25,
     "metadata": {},
     "output_type": "execute_result"
    }
   ],
   "source": [
    "fortune500.loc[fortune500.idxmin()]"
   ]
  },
  {
   "cell_type": "code",
   "execution_count": null,
   "id": "ba392d26",
   "metadata": {},
   "outputs": [],
   "source": []
  }
 ],
 "metadata": {
  "kernelspec": {
   "display_name": "Python 3 (ipykernel)",
   "language": "python",
   "name": "python3"
  },
  "language_info": {
   "codemirror_mode": {
    "name": "ipython",
    "version": 3
   },
   "file_extension": ".py",
   "mimetype": "text/x-python",
   "name": "python",
   "nbconvert_exporter": "python",
   "pygments_lexer": "ipython3",
   "version": "3.9.12"
  }
 },
 "nbformat": 4,
 "nbformat_minor": 5
}
